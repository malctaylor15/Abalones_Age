{
 "cells": [
  {
   "cell_type": "markdown",
   "metadata": {
    "collapsed": true
   },
   "source": [
    "In this notebook we will be looking at abalones data set from UCI \n",
    "\n",
    "The dataset and description can be found here. \n",
    "https://archive.ics.uci.edu/ml/datasets/Abalone \n",
    "\n",
    "The goal is to predict which age category an observation belongs to based on the information given. There are 4177 observations with 7 given variables. The age can be determined by the number of Rings. We can roughly classify the age into young (1-9 Rings), medium (9, 10 Rings) and old (10+ Rings).\n",
    "\n",
    "### Cleaning ###\n",
    "\n",
    "We will begin by taking preliminary looks at the data1. \n",
    "We will do some data cleaning. We rename some columns so we may call them easier later on. We re encode the categorical variable using one-hot encoding. We then by scaling the continous variables so the mean was 0 and the variance is 1. \n",
    "\n",
    "\n",
    "### Visualization ### \n",
    "\n",
    "We plot several graphs of the original data. \n",
    "We look at the distributions of the different weight measurements that are given. We notice that the distributions for the medium and \n",
    "\n",
    "\n",
    "### Analysis ###\n",
    "\n",
    "We use principal components analysis to understand the correlation structure. We see that most of the variance is explained by 1 component. We save this component and use it for analysis. \n",
    "\n",
    "Next we use Logistic Regression and K-Nearest Neighbors Classification on sex and PCA component. \n",
    "\n",
    "We find that both algorithms have similar out of sample accuracies at 55%. \n",
    "\n",
    "Next we use the scaled continous variables and the categorical variable (sex) to predict the age category with the same algorithms. We find the accuracies increases to about 65% for both Logistic Regression and KNN. \n",
    "\n",
    "\n",
    "Some information about the variables \n",
    "\n",
    "Name / Data Type / Measurement Unit / Description \n",
    "----------------------------- \n",
    "Sex / nominal / -- / M, F, and I (infant) \n",
    "Length / continuous / mm / Longest shell measurement \n",
    "Diameter\t/ continuous / mm / perpendicular to length \n",
    "Height / continuous / mm / with meat in shell \n",
    "Whole weight / continuous / grams / whole abalone \n",
    "Shucked weight / continuous\t/ grams / weight of meat \n",
    "Viscera weight / continuous / grams / gut weight (after bleeding) \n",
    "Shell weight / continuous / grams / after being dried \n",
    "Rings / integer / -- / +1.5 gives the age in years "
   ]
  },
  {
   "cell_type": "markdown",
   "metadata": {},
   "source": [
    "## Cleaning \n"
   ]
  },
  {
   "cell_type": "code",
   "execution_count": 1,
   "metadata": {
    "collapsed": true
   },
   "outputs": [],
   "source": [
    "import pandas as pd \n",
    "import numpy as np\n",
    "import sklearn as sk \n",
    "import matplotlib.pyplot as plt\n",
    "%matplotlib inline"
   ]
  },
  {
   "cell_type": "code",
   "execution_count": 2,
   "metadata": {
    "collapsed": false
   },
   "outputs": [
    {
     "data": {
      "text/html": [
       "<div>\n",
       "<table border=\"1\" class=\"dataframe\">\n",
       "  <thead>\n",
       "    <tr style=\"text-align: right;\">\n",
       "      <th></th>\n",
       "      <th>Sex</th>\n",
       "      <th>Length</th>\n",
       "      <th>Diameter</th>\n",
       "      <th>Height</th>\n",
       "      <th>Whole weight</th>\n",
       "      <th>Shucked weight</th>\n",
       "      <th>Viscera weight</th>\n",
       "      <th>Shell weight</th>\n",
       "      <th>Rings</th>\n",
       "    </tr>\n",
       "  </thead>\n",
       "  <tbody>\n",
       "    <tr>\n",
       "      <th>0</th>\n",
       "      <td>M</td>\n",
       "      <td>0.455</td>\n",
       "      <td>0.365</td>\n",
       "      <td>0.095</td>\n",
       "      <td>0.5140</td>\n",
       "      <td>0.2245</td>\n",
       "      <td>0.1010</td>\n",
       "      <td>0.150</td>\n",
       "      <td>15</td>\n",
       "    </tr>\n",
       "    <tr>\n",
       "      <th>1</th>\n",
       "      <td>M</td>\n",
       "      <td>0.350</td>\n",
       "      <td>0.265</td>\n",
       "      <td>0.090</td>\n",
       "      <td>0.2255</td>\n",
       "      <td>0.0995</td>\n",
       "      <td>0.0485</td>\n",
       "      <td>0.070</td>\n",
       "      <td>7</td>\n",
       "    </tr>\n",
       "    <tr>\n",
       "      <th>2</th>\n",
       "      <td>F</td>\n",
       "      <td>0.530</td>\n",
       "      <td>0.420</td>\n",
       "      <td>0.135</td>\n",
       "      <td>0.6770</td>\n",
       "      <td>0.2565</td>\n",
       "      <td>0.1415</td>\n",
       "      <td>0.210</td>\n",
       "      <td>9</td>\n",
       "    </tr>\n",
       "    <tr>\n",
       "      <th>3</th>\n",
       "      <td>M</td>\n",
       "      <td>0.440</td>\n",
       "      <td>0.365</td>\n",
       "      <td>0.125</td>\n",
       "      <td>0.5160</td>\n",
       "      <td>0.2155</td>\n",
       "      <td>0.1140</td>\n",
       "      <td>0.155</td>\n",
       "      <td>10</td>\n",
       "    </tr>\n",
       "    <tr>\n",
       "      <th>4</th>\n",
       "      <td>I</td>\n",
       "      <td>0.330</td>\n",
       "      <td>0.255</td>\n",
       "      <td>0.080</td>\n",
       "      <td>0.2050</td>\n",
       "      <td>0.0895</td>\n",
       "      <td>0.0395</td>\n",
       "      <td>0.055</td>\n",
       "      <td>7</td>\n",
       "    </tr>\n",
       "  </tbody>\n",
       "</table>\n",
       "</div>"
      ],
      "text/plain": [
       "  Sex  Length  Diameter  Height  Whole weight  Shucked weight  Viscera weight  \\\n",
       "0   M   0.455     0.365   0.095        0.5140          0.2245          0.1010   \n",
       "1   M   0.350     0.265   0.090        0.2255          0.0995          0.0485   \n",
       "2   F   0.530     0.420   0.135        0.6770          0.2565          0.1415   \n",
       "3   M   0.440     0.365   0.125        0.5160          0.2155          0.1140   \n",
       "4   I   0.330     0.255   0.080        0.2050          0.0895          0.0395   \n",
       "\n",
       "   Shell weight  Rings  \n",
       "0         0.150     15  \n",
       "1         0.070      7  \n",
       "2         0.210      9  \n",
       "3         0.155     10  \n",
       "4         0.055      7  "
      ]
     },
     "execution_count": 2,
     "metadata": {},
     "output_type": "execute_result"
    }
   ],
   "source": [
    "data_raw = pd.read_csv(\"Abalones Dataset.csv\")\n",
    "data_raw.head()"
   ]
  },
  {
   "cell_type": "markdown",
   "metadata": {},
   "source": [
    "Create new dataframe where we will make edits- called data1 \n",
    "Rename columns so they can be easier to call later "
   ]
  },
  {
   "cell_type": "code",
   "execution_count": 3,
   "metadata": {
    "collapsed": false
   },
   "outputs": [
    {
     "data": {
      "text/html": [
       "<div>\n",
       "<table border=\"1\" class=\"dataframe\">\n",
       "  <thead>\n",
       "    <tr style=\"text-align: right;\">\n",
       "      <th></th>\n",
       "      <th>Sex</th>\n",
       "      <th>Length</th>\n",
       "      <th>Diameter</th>\n",
       "      <th>Height</th>\n",
       "      <th>Rings</th>\n",
       "      <th>ShellWeight</th>\n",
       "      <th>ShuckedWeight</th>\n",
       "      <th>VisceraWeight</th>\n",
       "      <th>WholeWeight</th>\n",
       "    </tr>\n",
       "  </thead>\n",
       "  <tbody>\n",
       "    <tr>\n",
       "      <th>0</th>\n",
       "      <td>M</td>\n",
       "      <td>0.455</td>\n",
       "      <td>0.365</td>\n",
       "      <td>0.095</td>\n",
       "      <td>15</td>\n",
       "      <td>0.150</td>\n",
       "      <td>0.2245</td>\n",
       "      <td>0.1010</td>\n",
       "      <td>0.5140</td>\n",
       "    </tr>\n",
       "    <tr>\n",
       "      <th>1</th>\n",
       "      <td>M</td>\n",
       "      <td>0.350</td>\n",
       "      <td>0.265</td>\n",
       "      <td>0.090</td>\n",
       "      <td>7</td>\n",
       "      <td>0.070</td>\n",
       "      <td>0.0995</td>\n",
       "      <td>0.0485</td>\n",
       "      <td>0.2255</td>\n",
       "    </tr>\n",
       "    <tr>\n",
       "      <th>2</th>\n",
       "      <td>F</td>\n",
       "      <td>0.530</td>\n",
       "      <td>0.420</td>\n",
       "      <td>0.135</td>\n",
       "      <td>9</td>\n",
       "      <td>0.210</td>\n",
       "      <td>0.2565</td>\n",
       "      <td>0.1415</td>\n",
       "      <td>0.6770</td>\n",
       "    </tr>\n",
       "    <tr>\n",
       "      <th>3</th>\n",
       "      <td>M</td>\n",
       "      <td>0.440</td>\n",
       "      <td>0.365</td>\n",
       "      <td>0.125</td>\n",
       "      <td>10</td>\n",
       "      <td>0.155</td>\n",
       "      <td>0.2155</td>\n",
       "      <td>0.1140</td>\n",
       "      <td>0.5160</td>\n",
       "    </tr>\n",
       "    <tr>\n",
       "      <th>4</th>\n",
       "      <td>I</td>\n",
       "      <td>0.330</td>\n",
       "      <td>0.255</td>\n",
       "      <td>0.080</td>\n",
       "      <td>7</td>\n",
       "      <td>0.055</td>\n",
       "      <td>0.0895</td>\n",
       "      <td>0.0395</td>\n",
       "      <td>0.2050</td>\n",
       "    </tr>\n",
       "  </tbody>\n",
       "</table>\n",
       "</div>"
      ],
      "text/plain": [
       "  Sex  Length  Diameter  Height  Rings  ShellWeight  ShuckedWeight  \\\n",
       "0   M   0.455     0.365   0.095     15        0.150         0.2245   \n",
       "1   M   0.350     0.265   0.090      7        0.070         0.0995   \n",
       "2   F   0.530     0.420   0.135      9        0.210         0.2565   \n",
       "3   M   0.440     0.365   0.125     10        0.155         0.2155   \n",
       "4   I   0.330     0.255   0.080      7        0.055         0.0895   \n",
       "\n",
       "   VisceraWeight  WholeWeight  \n",
       "0         0.1010       0.5140  \n",
       "1         0.0485       0.2255  \n",
       "2         0.1415       0.6770  \n",
       "3         0.1140       0.5160  \n",
       "4         0.0395       0.2050  "
      ]
     },
     "execution_count": 3,
     "metadata": {},
     "output_type": "execute_result"
    }
   ],
   "source": [
    "data1 = data_raw\n",
    "data1[\"ShellWeight\"] = data_raw[\"Shell weight\"]\n",
    "data1[\"ShuckedWeight\"] = data_raw[\"Shucked weight\"]\n",
    "data1[\"VisceraWeight\"] = data_raw[\"Viscera weight\"]\n",
    "data1[\"WholeWeight\"] = data_raw[\"Whole weight\"]\n",
    "data1 = data1.drop({ \"Shell weight\", \"Shucked weight\", \"Viscera weight\", \"Whole weight\"},1)\n",
    "data1.head()"
   ]
  },
  {
   "cell_type": "markdown",
   "metadata": {},
   "source": [
    "Separate continous time variables form categorical variables from Output variables  \n",
    "Create Age Categories based on number of rings"
   ]
  },
  {
   "cell_type": "code",
   "execution_count": 4,
   "metadata": {
    "collapsed": false
   },
   "outputs": [],
   "source": [
    "data_cont = data1.drop({\"Sex\", \"Rings\"}, axis =1)\n",
    "data_cat = pd.get_dummies(data1[\"Sex\"])\n",
    "\n",
    "# Create Age Categories based on number of Rings \n",
    "data1[\"AgeCategory\"] = 0\n",
    "data1.loc[data1['Rings'] <9, \"AgeCategory\"] = 1\n",
    "data1.loc[(data1['Rings'] >= 9) & (data1['Rings'] <= 10), \"AgeCategory\"] = 2\n",
    "data1.loc[data1['Rings'] >10, \"AgeCategory\" ] = 3\n",
    "\n",
    "Y = data1[\"AgeCategory\"]"
   ]
  },
  {
   "cell_type": "markdown",
   "metadata": {},
   "source": [
    "Scale data and place into dataframe with categorical variables"
   ]
  },
  {
   "cell_type": "code",
   "execution_count": 5,
   "metadata": {
    "collapsed": true
   },
   "outputs": [],
   "source": [
    "from sklearn.preprocessing import StandardScaler\n",
    "data_cont_scaled = StandardScaler().fit_transform(data_cont)"
   ]
  },
  {
   "cell_type": "code",
   "execution_count": 6,
   "metadata": {
    "collapsed": false
   },
   "outputs": [],
   "source": [
    "numb_cols = data_cont_scaled.shape[1]\n",
    "data_cont_scaled_df = pd.DataFrame(data_cont_scaled, columns = data_cont.columns)\n",
    "data_scaled_full = pd.concat([data_cont_scaled_df, data_cat], axis =1)\n",
    "\n"
   ]
  },
  {
   "cell_type": "markdown",
   "metadata": {},
   "source": [
    "## Visualization "
   ]
  },
  {
   "cell_type": "markdown",
   "metadata": {},
   "source": [
    "We start by plotting the various components of the weight according to the age category. "
   ]
  },
  {
   "cell_type": "code",
   "execution_count": 7,
   "metadata": {
    "collapsed": false
   },
   "outputs": [
    {
     "data": {
      "text/plain": [
       "<matplotlib.text.Text at 0x1ee25225c50>"
      ]
     },
     "execution_count": 7,
     "metadata": {},
     "output_type": "execute_result"
    },
    {
     "data": {
      "image/png": "[encoded data removed]",
      "text/plain": [
       "<matplotlib.figure.Figure at 0x1ee24d2ab38>"
      ]
     },
     "metadata": {},
     "output_type": "display_data"
    }
   ],
   "source": [
    "# Specify Parameters for graphs \n",
    "fig = plt.figure(figsize=(18,6), dpi=1600) \n",
    "alpha=alpha_scatterplot = 0.2 \n",
    "alpha_bar_chart = 0.55\n",
    "\n",
    "plt.subplot2grid((2,3),(0,0))\n",
    "data_cont.ShellWeight[data1.AgeCategory == 1].plot(kind = 'kde')\n",
    "data_cont.ShellWeight[data1.AgeCategory == 2].plot(kind = 'kde')\n",
    "data_cont.ShellWeight[data1.AgeCategory == 3].plot(kind = 'kde')\n",
    "plt.legend((\"Young Class\", \"Medium Age Class\", \"Old Class\"))\n",
    "plt.title(\"Shell weight distribution by age class\")\n",
    "\n",
    "plt.subplot2grid((2,3),(0,1))\n",
    "data_cont.ShuckedWeight[data1.AgeCategory == 1].plot(kind = 'kde')\n",
    "data_cont.ShuckedWeight[data1.AgeCategory == 2].plot(kind = 'kde')\n",
    "data_cont.ShuckedWeight[data1.AgeCategory == 3].plot(kind = 'kde')\n",
    "plt.legend((\"Young Class\", \"Medium Age Class\", \"Old Class\"))\n",
    "plt.title(\"Shucked weight distribution by age class\")\n",
    "\n",
    "plt.subplot2grid((2,3),(0,2))\n",
    "data_cont.VisceraWeight[data1.AgeCategory == 1].plot(kind = 'kde')\n",
    "data_cont.VisceraWeight[data1.AgeCategory == 2].plot(kind = 'kde')\n",
    "data_cont.VisceraWeight[data1.AgeCategory == 3].plot(kind = 'kde')\n",
    "plt.legend((\"Young Class\", \"Medium Age Class\", \"Old Class\"))\n",
    "plt.title(\"Viscera weight distribution by age class\")\n",
    "\n",
    "plt.subplot2grid((2,3),(1,0), colspan = 3)\n",
    "# Plot kernel density estimate of the whole weight by age category \n",
    "data_cont.WholeWeight[data1.AgeCategory == 1].plot(kind = 'kde')\n",
    "data_cont.WholeWeight[data1.AgeCategory == 2].plot(kind = 'kde')\n",
    "data_cont.WholeWeight[data1.AgeCategory == 3].plot(kind = 'kde')\n",
    "\n",
    "plt.xlabel(\"Weight\")\n",
    "plt.legend((\"Young Class\", \"Medium Age Class\", \"Old Class\"))\n",
    "plt.title(\"Whole weight distribution by age class\")"
   ]
  },
  {
   "cell_type": "markdown",
   "metadata": {},
   "source": [
    "** Discussion ** \n",
    "We see that the smoothed distributions for the Medium and Old class are extremely similar. The young class look incredibly somewhat differnet from the other two classes.  \n",
    "The shell weight for the medium and old class seem the most different. "
   ]
  },
  {
   "cell_type": "markdown",
   "metadata": {},
   "source": [
    "Next we plot the Sex vs Age distribution. "
   ]
  },
  {
   "cell_type": "code",
   "execution_count": 8,
   "metadata": {
    "collapsed": false
   },
   "outputs": [
    {
     "data": {
      "text/plain": [
       "<matplotlib.legend.Legend at 0x1ee6766dc18>"
      ]
     },
     "execution_count": 8,
     "metadata": {},
     "output_type": "execute_result"
    },
    {
     "data": {
      "image/png": "[encoded data removed]",
      "text/plain": [
       "<matplotlib.figure.Figure at 0x1ee675f4ba8>"
      ]
     },
     "metadata": {},
     "output_type": "display_data"
    }
   ],
   "source": [
    "data_M = data1.AgeCategory[data1.Sex == 'M'].value_counts().sort_index()\n",
    "data_F = data1.AgeCategory[data1.Sex == 'F'].value_counts().sort_index()\n",
    "data_I = data1.AgeCategory[data1.Sex == 'I'].value_counts().sort_index()\n",
    "\n",
    "data_M.plot(kind = 'barh', color = \"b\", label = \"M\", alpha = 0.55)\n",
    "data_F.plot(kind = 'barh', color = \"r\", label = \"F\", alpha = 0.55)\n",
    "data_I.plot(kind = 'barh', color = \"g\", label = \"I\", alpha = 0.55)\n",
    "\n",
    "plt.ylabel(\"Age Category\")\n",
    "plt.title(\"Sex and Age Distribution\")\n",
    "plt.legend(loc='best')\n"
   ]
  },
  {
   "cell_type": "markdown",
   "metadata": {},
   "source": [
    "** Discussion **\n",
    "The dark green represents the limit to where all 3 are in common.  \n",
    "The deep purple in the top two  bar graphs indicate that \"I\" had the least number of observations in those two cases.\n",
    "Male and female observations were more common than the \"I\" case in the old and medium cases.  \n",
    "For the younger observations, there were many more \"I\" cases.   \n",
    "The split between the unidentified cases versus male-female cases makes sense as the reproductive parts are not always clear at younger ages for these marine creatures. "
   ]
  },
  {
   "cell_type": "code",
   "execution_count": 9,
   "metadata": {
    "collapsed": true
   },
   "outputs": [],
   "source": [
    "data1[\"Volume\"] = data1[\"Length\"]*data1[\"Diameter\"]*data1[\"Height\"]\n",
    "data1[\"Vol*Weight\"] = data1[\"Volume\"] * data1[\"WholeWeight\"]"
   ]
  },
  {
   "cell_type": "code",
   "execution_count": 10,
   "metadata": {
    "collapsed": false
   },
   "outputs": [
    {
     "data": {
      "text/plain": [
       "<matplotlib.text.Text at 0x1ee25566550>"
      ]
     },
     "execution_count": 10,
     "metadata": {},
     "output_type": "execute_result"
    },
    {
     "data": {
      "image/png": "[encoded data removed]",
      "text/plain": [
       "<matplotlib.figure.Figure at 0x1ee2547e550>"
      ]
     },
     "metadata": {},
     "output_type": "display_data"
    }
   ],
   "source": [
    "# Specify Parameters for graphs \n",
    "fig = plt.figure(figsize=(18,6), dpi=1600) \n",
    "alpha=alpha_scatterplot = 0.2 \n",
    "alpha_bar_chart = 0.55\n",
    "\n",
    "\n",
    "plt.subplot2grid((2,2),(0,0))\n",
    "data1.Height[data1.AgeCategory == 1].plot(kind = 'kde')\n",
    "data1.Height[data1.AgeCategory == 2].plot(kind = 'kde')\n",
    "data1.Height[data1.AgeCategory == 3].plot(kind = 'kde')\n",
    "plt.legend((\"Young Class\", \"Medium Age Class\", \"Old Class\"))\n",
    "plt.title(\"Height distribution by age class\")\n",
    "\n",
    "plt.subplot2grid((2,2),(0,1))\n",
    "data1.Diameter[data1.AgeCategory == 1].plot(kind = 'kde')\n",
    "data1.Diameter[data1.AgeCategory == 2].plot(kind = 'kde')\n",
    "data1.Diameter[data1.AgeCategory == 3].plot(kind = 'kde')\n",
    "plt.legend((\"Young Class\", \"Medium Age Class\", \"Old Class\"), loc = 'best')\n",
    "plt.title(\"Diameter distribution by age class\")\n",
    "\n",
    "plt.subplot2grid((2,2),(1,0))\n",
    "data1.Length[data1.AgeCategory == 1].plot(kind = 'kde')\n",
    "data1.Length[data1.AgeCategory == 2].plot(kind = 'kde')\n",
    "data1.Length[data1.AgeCategory == 3].plot(kind = 'kde')\n",
    "plt.legend((\"Young Class\", \"Medium Age Class\", \"Old Class\"), loc = 'best')\n",
    "plt.title(\"Length distribution by age class\")\n",
    "\n",
    "plt.subplot2grid((2,2),(1,1))\n",
    "# Plot kernel density estimate of the whole weight by age category \n",
    "data1.Volume[data1.AgeCategory == 1].plot(kind = 'kde')\n",
    "data1.Volume[data1.AgeCategory == 2].plot(kind = 'kde')\n",
    "data1.Volume[data1.AgeCategory == 3].plot(kind = 'kde')\n",
    "\n",
    "plt.legend((\"Young Class\", \"Medium Age Class\", \"Old Class\"))\n",
    "plt.title(\"Volume distribution by age class\")"
   ]
  },
  {
   "cell_type": "markdown",
   "metadata": {},
   "source": [
    "** Discussion ** \n",
    "\n",
    "Aside from height, the young class looks very different from the medium and old class. There is still significant overlap between the young class distribution and the other two distributions.     \n",
    "The medium and old class seem to have very similar distributions. "
   ]
  },
  {
   "cell_type": "markdown",
   "metadata": {},
   "source": [
    "## Analysis "
   ]
  },
  {
   "cell_type": "code",
   "execution_count": 11,
   "metadata": {
    "collapsed": false
   },
   "outputs": [
    {
     "name": "stdout",
     "output_type": "stream",
     "text": [
      "[ 0.90787315  0.03991891  0.02390638  0.01629598  0.00923627  0.0018183\n",
      "  0.00095101]\n"
     ]
    }
   ],
   "source": [
    "from sklearn.decomposition import PCA \n",
    "pca1 = PCA(n_components=7)\n",
    "pca1.fit(data_cont_scaled)\n",
    "pca_score = pca1.explained_variance_ratio_\n",
    "print(pca_score)"
   ]
  },
  {
   "cell_type": "markdown",
   "metadata": {},
   "source": [
    "Most of the variance is explained by one component \n",
    "Will take and store it separately "
   ]
  },
  {
   "cell_type": "code",
   "execution_count": 12,
   "metadata": {
    "collapsed": false
   },
   "outputs": [],
   "source": [
    "pca_1comp = PCA(n_components=1).fit_transform(data_cont)\n",
    "pca_1comp2 = pd.Series(pca_1comp[:,0])"
   ]
  },
  {
   "cell_type": "markdown",
   "metadata": {},
   "source": [
    "Combine continous and categorical data then split data into test and training sets \n",
    "# Remember this is for PCA and categorical data\n"
   ]
  },
  {
   "cell_type": "code",
   "execution_count": 13,
   "metadata": {
    "collapsed": false
   },
   "outputs": [],
   "source": [
    "pcaAndCat = pd.concat([pca_1comp2,data_cat], axis = 1)"
   ]
  },
  {
   "cell_type": "code",
   "execution_count": 14,
   "metadata": {
    "collapsed": false
   },
   "outputs": [],
   "source": [
    "from sklearn.model_selection import train_test_split\n",
    "X_train, X_test, y_train, y_test = train_test_split(pcaAndCat,Y, test_size = 0.25)\n"
   ]
  },
  {
   "cell_type": "code",
   "execution_count": 15,
   "metadata": {
    "collapsed": false
   },
   "outputs": [],
   "source": [
    "from sklearn.linear_model import LogisticRegression, LogisticRegressionCV\n",
    "from sklearn import metrics\n",
    "from sklearn.model_selection import cross_val_score"
   ]
  },
  {
   "cell_type": "markdown",
   "metadata": {},
   "source": [
    "Perform cross validation to get accuracy score "
   ]
  },
  {
   "cell_type": "code",
   "execution_count": 16,
   "metadata": {
    "collapsed": false
   },
   "outputs": [
    {
     "name": "stdout",
     "output_type": "stream",
     "text": [
      "0.546956191046\n"
     ]
    }
   ],
   "source": [
    "log_reg = LogisticRegression()\n",
    "print(cross_val_score(log_reg, X_train,y_train,cv= 8).mean())"
   ]
  },
  {
   "cell_type": "markdown",
   "metadata": {},
   "source": [
    "Fit logistic regression to training data then test on out of sample data "
   ]
  },
  {
   "cell_type": "code",
   "execution_count": 17,
   "metadata": {
    "collapsed": false
   },
   "outputs": [
    {
     "name": "stdout",
     "output_type": "stream",
     "text": [
      "Out of sample Logisitic regression results \n",
      " \n",
      "\n",
      "             precision    recall  f1-score   support\n",
      "\n",
      "          1       0.62      0.76      0.68       347\n",
      "          2       0.31      0.13      0.18       320\n",
      "          3       0.55      0.70      0.61       378\n",
      "\n",
      "avg / total       0.50      0.54      0.50      1045\n",
      "\n",
      "[[262  40  45]\n",
      " [103  42 175]\n",
      " [ 58  55 265]]\n"
     ]
    }
   ],
   "source": [
    "log_reg_fit = LogisticRegression().fit(X_train,y_train)\n",
    "logisitic_out_sample_predictions = log_reg_fit.predict(X_test)\n",
    "print(\"Out of sample Logisitic regression results \\n \\n\")\n",
    "print(metrics.classification_report(y_test,logisitic_out_sample_predictions))\n",
    "print(metrics.confusion_matrix(y_test, logisitic_out_sample_predictions))"
   ]
  },
  {
   "cell_type": "markdown",
   "metadata": {},
   "source": [
    "About 50/50 accuracy. \n",
    "From the confusion matrix, we can see that logistic regression mis classifies the second class as the third class very often. \n",
    "This is understandable as the distributions for the independent variables are very similar. So the algorithm has trouble distinguishing them. \n",
    "It also mis classifies many of the case 2 as case 1 which is also interesting. "
   ]
  },
  {
   "cell_type": "markdown",
   "metadata": {},
   "source": [
    "Quick attempt of logistic regression with weighted classes... \n",
    "Very difficult to find optimal weighting scheme "
   ]
  },
  {
   "cell_type": "code",
   "execution_count": 18,
   "metadata": {
    "collapsed": false
   },
   "outputs": [
    {
     "name": "stdout",
     "output_type": "stream",
     "text": [
      "Out of sample Log CV results  \n",
      " \n",
      "\n",
      "             precision    recall  f1-score   support\n",
      "\n",
      "          1       0.72      0.68      0.70       347\n",
      "          2       0.37      0.52      0.43       320\n",
      "          3       0.61      0.43      0.50       378\n",
      "\n",
      "avg / total       0.57      0.54      0.55      1045\n",
      "\n",
      "[[237 101   9]\n",
      " [ 60 165  95]\n",
      " [ 31 186 161]]\n"
     ]
    }
   ],
   "source": [
    "logCV = LogisticRegressionCV(class_weight={1:2, 2:3, 3:2}).fit(X_train,y_train)\n",
    "logCV_OS_predict = logCV.predict(X_test)\n",
    "print(\"Out of sample Log CV results  \\n \\n\")\n",
    "print(metrics.classification_report(y_test,logCV_OS_predict))\n",
    "print(metrics.confusion_matrix(y_test, logCV_OS_predict))"
   ]
  },
  {
   "cell_type": "markdown",
   "metadata": {},
   "source": [
    "Let's try KNN method with initial parameter tuning \n",
    "\n",
    "We want to find the optimal number of neighbors to use. \n",
    "To find the optimal number, we will train a KNN with the number of neighbors then use cross "
   ]
  },
  {
   "cell_type": "code",
   "execution_count": 19,
   "metadata": {
    "collapsed": true
   },
   "outputs": [],
   "source": [
    "from sklearn.neighbors import KNeighborsClassifier\n",
    "\n",
    "KNN_parameter_tuning_df = pd.DataFrame(data = {'CV': 0,\n",
    "                                            'Num Neighbors':3}, index = range(1,3,1))\n",
    "j = 1 # index for number of loops \n",
    "for num_neighbors in range(3, 40, 1):\n",
    "    KNN_sample = KNeighborsClassifier(n_neighbors = num_neighbors)\n",
    "    CV = cross_val_score(KNN_sample, X_train,y_train,cv= 8).mean()\n",
    "    KNN_parameter_tuning_df.loc[j] = [CV, num_neighbors]\n",
    "    j = j+1 "
   ]
  },
  {
   "cell_type": "code",
   "execution_count": 20,
   "metadata": {
    "collapsed": false
   },
   "outputs": [
    {
     "data": {
      "text/plain": [
       "<matplotlib.text.Text at 0x1ee25c1a390>"
      ]
     },
     "execution_count": 20,
     "metadata": {},
     "output_type": "execute_result"
    },
    {
     "data": {
      "image/png": "[encoded data removed]",
      "text/plain": [
       "<matplotlib.figure.Figure at 0x1ee26069d30>"
      ]
     },
     "metadata": {},
     "output_type": "display_data"
    }
   ],
   "source": [
    "plt.plot(KNN_parameter_tuning_df['Num Neighbors'], KNN_parameter_tuning_df['CV'], 'ro')\n",
    "plt.title(\"Cross Validation Score vs. Number of Neighbors for KNN\")\n",
    "plt.ylabel(\"Cross Validation score\")\n",
    "plt.xlabel(\"Number of Neighbors\")\n"
   ]
  },
  {
   "cell_type": "markdown",
   "metadata": {},
   "source": [
    "We can see around there is a divergence around the 13th neighbor where the CV scores increase by a seemingly significant amount \n",
    "By peaking at the data frame "
   ]
  },
  {
   "cell_type": "code",
   "execution_count": 21,
   "metadata": {
    "collapsed": false
   },
   "outputs": [
    {
     "data": {
      "text/html": [
       "<div>\n",
       "<table border=\"1\" class=\"dataframe\">\n",
       "  <thead>\n",
       "    <tr style=\"text-align: right;\">\n",
       "      <th></th>\n",
       "      <th>CV</th>\n",
       "      <th>Num Neighbors</th>\n",
       "    </tr>\n",
       "  </thead>\n",
       "  <tbody>\n",
       "    <tr>\n",
       "      <th>1</th>\n",
       "      <td>0.522033</td>\n",
       "      <td>3.0</td>\n",
       "    </tr>\n",
       "    <tr>\n",
       "      <th>2</th>\n",
       "      <td>0.532881</td>\n",
       "      <td>4.0</td>\n",
       "    </tr>\n",
       "    <tr>\n",
       "      <th>3</th>\n",
       "      <td>0.540253</td>\n",
       "      <td>5.0</td>\n",
       "    </tr>\n",
       "    <tr>\n",
       "      <th>4</th>\n",
       "      <td>0.534804</td>\n",
       "      <td>6.0</td>\n",
       "    </tr>\n",
       "    <tr>\n",
       "      <th>5</th>\n",
       "      <td>0.552661</td>\n",
       "      <td>7.0</td>\n",
       "    </tr>\n",
       "    <tr>\n",
       "      <th>6</th>\n",
       "      <td>0.546941</td>\n",
       "      <td>8.0</td>\n",
       "    </tr>\n",
       "    <tr>\n",
       "      <th>7</th>\n",
       "      <td>0.557157</td>\n",
       "      <td>9.0</td>\n",
       "    </tr>\n",
       "    <tr>\n",
       "      <th>8</th>\n",
       "      <td>0.559694</td>\n",
       "      <td>10.0</td>\n",
       "    </tr>\n",
       "    <tr>\n",
       "      <th>9</th>\n",
       "      <td>0.566387</td>\n",
       "      <td>11.0</td>\n",
       "    </tr>\n",
       "    <tr>\n",
       "      <th>10</th>\n",
       "      <td>0.559681</td>\n",
       "      <td>12.0</td>\n",
       "    </tr>\n",
       "    <tr>\n",
       "      <th>11</th>\n",
       "      <td>0.562885</td>\n",
       "      <td>13.0</td>\n",
       "    </tr>\n",
       "    <tr>\n",
       "      <th>12</th>\n",
       "      <td>0.559711</td>\n",
       "      <td>14.0</td>\n",
       "    </tr>\n",
       "    <tr>\n",
       "      <th>13</th>\n",
       "      <td>0.556516</td>\n",
       "      <td>15.0</td>\n",
       "    </tr>\n",
       "    <tr>\n",
       "      <th>14</th>\n",
       "      <td>0.554944</td>\n",
       "      <td>16.0</td>\n",
       "    </tr>\n",
       "    <tr>\n",
       "      <th>15</th>\n",
       "      <td>0.561631</td>\n",
       "      <td>17.0</td>\n",
       "    </tr>\n",
       "    <tr>\n",
       "      <th>16</th>\n",
       "      <td>0.556201</td>\n",
       "      <td>18.0</td>\n",
       "    </tr>\n",
       "    <tr>\n",
       "      <th>17</th>\n",
       "      <td>0.561323</td>\n",
       "      <td>19.0</td>\n",
       "    </tr>\n",
       "    <tr>\n",
       "      <th>18</th>\n",
       "      <td>0.556200</td>\n",
       "      <td>20.0</td>\n",
       "    </tr>\n",
       "    <tr>\n",
       "      <th>19</th>\n",
       "      <td>0.559074</td>\n",
       "      <td>21.0</td>\n",
       "    </tr>\n",
       "    <tr>\n",
       "      <th>20</th>\n",
       "      <td>0.556516</td>\n",
       "      <td>22.0</td>\n",
       "    </tr>\n",
       "  </tbody>\n",
       "</table>\n",
       "</div>"
      ],
      "text/plain": [
       "          CV  Num Neighbors\n",
       "1   0.522033            3.0\n",
       "2   0.532881            4.0\n",
       "3   0.540253            5.0\n",
       "4   0.534804            6.0\n",
       "5   0.552661            7.0\n",
       "6   0.546941            8.0\n",
       "7   0.557157            9.0\n",
       "8   0.559694           10.0\n",
       "9   0.566387           11.0\n",
       "10  0.559681           12.0\n",
       "11  0.562885           13.0\n",
       "12  0.559711           14.0\n",
       "13  0.556516           15.0\n",
       "14  0.554944           16.0\n",
       "15  0.561631           17.0\n",
       "16  0.556201           18.0\n",
       "17  0.561323           19.0\n",
       "18  0.556200           20.0\n",
       "19  0.559074           21.0\n",
       "20  0.556516           22.0"
      ]
     },
     "execution_count": 21,
     "metadata": {},
     "output_type": "execute_result"
    }
   ],
   "source": [
    "KNN_parameter_tuning_df.head(20)"
   ]
  },
  {
   "cell_type": "code",
   "execution_count": 22,
   "metadata": {
    "collapsed": false
   },
   "outputs": [
    {
     "data": {
      "text/plain": [
       "CV                0.566387\n",
       "Num Neighbors    11.000000\n",
       "Name: 9, dtype: float64"
      ]
     },
     "execution_count": 22,
     "metadata": {},
     "output_type": "execute_result"
    }
   ],
   "source": [
    "KNN_parameter_tuning_df.loc[KNN_parameter_tuning_df[\"CV\"].idxmax()]"
   ]
  },
  {
   "cell_type": "code",
   "execution_count": 23,
   "metadata": {
    "collapsed": false
   },
   "outputs": [],
   "source": [
    "meanCV = KNN_parameter_tuning_df[KNN_parameter_tuning_df[\"Num Neighbors\"]>10].CV.mean()"
   ]
  },
  {
   "cell_type": "code",
   "execution_count": 24,
   "metadata": {
    "collapsed": false
   },
   "outputs": [
    {
     "data": {
      "text/plain": [
       "<matplotlib.lines.Line2D at 0x1ee2613aac8>"
      ]
     },
     "execution_count": 24,
     "metadata": {},
     "output_type": "execute_result"
    },
    {
     "data": {
      "image/png": "[encoded data removed]",
      "text/plain": [
       "<matplotlib.figure.Figure at 0x1ee256a0b00>"
      ]
     },
     "metadata": {},
     "output_type": "display_data"
    }
   ],
   "source": [
    "plt.plot(KNN_parameter_tuning_df['Num Neighbors'], KNN_parameter_tuning_df['CV'], 'ro')\n",
    "plt.title(\"Cross Validation Score vs. Number of Neighbors for KNN\")\n",
    "plt.ylabel(\"Cross Validation score\")\n",
    "plt.xlabel(\"Number of Neighbors\")\n",
    "plt.axhline(y = meanCV, color = \"g\")"
   ]
  },
  {
   "cell_type": "markdown",
   "metadata": {},
   "source": [
    "So a KNN with 14 neighbors should be a decent model to use. \n",
    "Let's re fit a KNN with 14 neighbors and see what the out of sample error rate is "
   ]
  },
  {
   "cell_type": "code",
   "execution_count": 25,
   "metadata": {
    "collapsed": false
   },
   "outputs": [
    {
     "name": "stdout",
     "output_type": "stream",
     "text": [
      "Out of sample KNN results \n",
      " \n",
      "\n",
      "             precision    recall  f1-score   support\n",
      "\n",
      "          1       0.72      0.71      0.72       347\n",
      "          2       0.38      0.41      0.39       320\n",
      "          3       0.52      0.49      0.51       378\n",
      "\n",
      "avg / total       0.54      0.54      0.54      1045\n",
      "\n",
      "[[248  58  41]\n",
      " [ 57 130 133]\n",
      " [ 40 151 187]]\n"
     ]
    }
   ],
   "source": [
    "KNN14 = KNeighborsClassifier(n_neighbors = 10).fit(X_train, y_train)\n",
    "KNN14_predict = KNN14.predict(X_test)\n",
    "print(\"Out of sample KNN results \\n \\n\")\n",
    "print(metrics.classification_report(y_test,KNN14_predict))\n",
    "print(metrics.confusion_matrix(y_test, KNN14_predict))"
   ]
  },
  {
   "cell_type": "markdown",
   "metadata": {},
   "source": [
    "The KNN algorithm does slightly better than logistic regression. \n",
    "\n",
    "We see that the algorithm makes the most mistakes classifying the two older groups.\n",
    "\n",
    "Predict 2, actual 1 = 55 is very close to Predict 3, actual 1 = 52 \n",
    "Evenly balances misclassifying 2 3 as 1\n",
    "\n",
    "and \n",
    "Predict 1, actual 2 = 63 ~~ 2 * Predict 1, actual 3 \n",
    "\n",
    "Beginning to tell difference between 2 and 3 when predicting 1. "
   ]
  },
  {
   "cell_type": "markdown",
   "metadata": {},
   "source": [
    "# Let's try this again but scaled continous data and categorical variable"
   ]
  },
  {
   "cell_type": "code",
   "execution_count": 26,
   "metadata": {
    "collapsed": true
   },
   "outputs": [],
   "source": [
    "numb_cols = data_cont_scaled.shape[1]\n",
    "data_cont_scaled_df = pd.DataFrame(data_cont_scaled, columns = range(numb_cols))\n",
    "data_scaled_full = pd.concat([data_cont_scaled_df, data_cat], axis =1)\n",
    "\n",
    "# Split the scaled and categorical data set into test and training set \n",
    "X_train1, X_test1, y_train1, y_test1 = train_test_split(data_scaled_full,Y, test_size = 0.25)\n"
   ]
  },
  {
   "cell_type": "markdown",
   "metadata": {},
   "source": [
    "We will follow a similar procedure as earlier. \n",
    "We train a logistic regression on the training data1. \n",
    "Then we will compute the predictions using the model on the test data1. \n",
    "We then compute some classification metrics on the results of the test predictions "
   ]
  },
  {
   "cell_type": "code",
   "execution_count": 27,
   "metadata": {
    "collapsed": false
   },
   "outputs": [
    {
     "name": "stdout",
     "output_type": "stream",
     "text": [
      "Logistic Regression CV Score: \n",
      "0.65356873956 \n",
      "\n",
      "Out of sample Logisitic regression results \n",
      " \n",
      "\n",
      "             precision    recall  f1-score   support\n",
      "\n",
      "          1       0.71      0.78      0.74       367\n",
      "          2       0.46      0.41      0.43       330\n",
      "          3       0.65      0.65      0.65       348\n",
      "\n",
      "avg / total       0.61      0.62      0.62      1045\n",
      "\n",
      "[[287  67  13]\n",
      " [ 86 135 109]\n",
      " [ 31  90 227]]\n"
     ]
    }
   ],
   "source": [
    "log_reg2 = LogisticRegression()\n",
    "print(\"Logistic Regression CV Score: \")\n",
    "print(cross_val_score(log_reg2, X_train1, y_train1, cv = 8).mean(), \"\\n\")\n",
    "log_reg2_fit = LogisticRegression().fit(X_train1, y_train1)\n",
    "log_reg2_predictions = log_reg2_fit.predict(X_test1)\n",
    "print(\"Out of sample Logisitic regression results \\n \\n\")\n",
    "print(metrics.classification_report(y_test1, log_reg2_predictions))\n",
    "print(metrics.confusion_matrix(y_test1, log_reg2_predictions))"
   ]
  },
  {
   "cell_type": "markdown",
   "metadata": {},
   "source": [
    "Results are much better than the PCA. With more information, the regression classifies the medium class correctly much more often. (137-30)  \n"
   ]
  },
  {
   "cell_type": "markdown",
   "metadata": {},
   "source": [
    "# KNN with scaled data \n",
    "\n",
    "We will now repeat the process as with the PCA data \n",
    "We will find the optimal parameter for the KNN algorithm. \n",
    "With the optimal parameter, we will train the algorithm (using the training data). Then we will find the accuracy on the out of sample data1. "
   ]
  },
  {
   "cell_type": "code",
   "execution_count": 28,
   "metadata": {
    "collapsed": true
   },
   "outputs": [],
   "source": [
    "KNN_parameter_tuning_scaled_df = pd.DataFrame(data = {'CV': 0,\n",
    "                                            'Num Neighbors':3}, index = range(1,3,1))\n",
    "j = 1 # index for number of loops \n",
    "for num_neighbors in range(3, 40, 1):\n",
    "    KNN_sample = KNeighborsClassifier(n_neighbors = num_neighbors)\n",
    "    CV = cross_val_score(KNN_sample, X_train1,y_train1,cv= 8).mean()\n",
    "    KNN_parameter_tuning_scaled_df.loc[j] = [CV, num_neighbors]\n",
    "    j = j+1 "
   ]
  },
  {
   "cell_type": "code",
   "execution_count": 29,
   "metadata": {
    "collapsed": false
   },
   "outputs": [
    {
     "data": {
      "text/plain": [
       "<matplotlib.text.Text at 0x1ee260f9c50>"
      ]
     },
     "execution_count": 29,
     "metadata": {},
     "output_type": "execute_result"
    },
    {
     "data": {
      "image/png": "[encoded data removed]",
      "text/plain": [
       "<matplotlib.figure.Figure at 0x1ee260fe588>"
      ]
     },
     "metadata": {},
     "output_type": "display_data"
    }
   ],
   "source": [
    "plt.plot(KNN_parameter_tuning_scaled_df['Num Neighbors'], KNN_parameter_tuning_scaled_df['CV'], 'ro')\n",
    "plt.title(\"Cross Validation Score vs. Number of Neighbors for KNN\")\n",
    "plt.ylabel(\"Cross Validation score\")\n",
    "plt.xlabel(\"Number of Neighbors\")"
   ]
  },
  {
   "cell_type": "code",
   "execution_count": 30,
   "metadata": {
    "collapsed": false
   },
   "outputs": [
    {
     "data": {
      "text/plain": [
       "CV                0.643682\n",
       "Num Neighbors    17.000000\n",
       "Name: 15, dtype: float64"
      ]
     },
     "execution_count": 30,
     "metadata": {},
     "output_type": "execute_result"
    }
   ],
   "source": [
    "KNN_parameter_tuning_scaled_df.loc[KNN_parameter_tuning_scaled_df[\"CV\"].idxmax()]"
   ]
  },
  {
   "cell_type": "code",
   "execution_count": 31,
   "metadata": {
    "collapsed": false,
    "scrolled": true
   },
   "outputs": [
    {
     "name": "stdout",
     "output_type": "stream",
     "text": [
      "Out of sample KNN results \n",
      " \n",
      "\n",
      "             precision    recall  f1-score   support\n",
      "\n",
      "          1       0.75      0.74      0.74       367\n",
      "          2       0.46      0.52      0.49       330\n",
      "          3       0.66      0.59      0.62       348\n",
      "\n",
      "avg / total       0.63      0.62      0.62      1045\n",
      "\n",
      "[[270  81  16]\n",
      " [ 68 172  90]\n",
      " [ 22 120 206]]\n"
     ]
    }
   ],
   "source": [
    "KNN_scaled_fit = KNeighborsClassifier(n_neighbors = 14).fit(X_train1, y_train1)\n",
    "KNN_scaled_predict = KNN_scaled_fit.predict(X_test1)\n",
    "print(\"Out of sample KNN results \\n \\n\")\n",
    "print(metrics.classification_report(y_test1, KNN_scaled_predict))\n",
    "print(metrics.confusion_matrix(y_test1, KNN_scaled_predict))"
   ]
  },
  {
   "cell_type": "markdown",
   "metadata": {},
   "source": [
    "These results are also much better than PCA example \n",
    "The correct number in each class is higher. Overall accuracy is higher "
   ]
  },
  {
   "cell_type": "code",
   "execution_count": null,
   "metadata": {
    "collapsed": true
   },
   "outputs": [],
   "source": []
  },
  {
   "cell_type": "code",
   "execution_count": null,
   "metadata": {
    "collapsed": true
   },
   "outputs": [],
   "source": []
  }
 ],
 "metadata": {
  "anaconda-cloud": {},
  "kernelspec": {
   "display_name": "Python [Root]",
   "language": "python",
   "name": "Python [Root]"
  },
  "language_info": {
   "codemirror_mode": {
    "name": "ipython",
    "version": 3
   },
   "file_extension": ".py",
   "mimetype": "text/x-python",
   "name": "python",
   "nbconvert_exporter": "python",
   "pygments_lexer": "ipython3",
   "version": "3.5.2"
  }
 },
 "nbformat": 4,
 "nbformat_minor": 0
}

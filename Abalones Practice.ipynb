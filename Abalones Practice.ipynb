{
 "cells": [
  {
   "cell_type": "raw",
   "metadata": {},
   "source": [
    "First let's import some packages that might be useful "
   ]
  },
  {
   "cell_type": "code",
   "execution_count": 1,
   "metadata": {
    "collapsed": true
   },
   "outputs": [],
   "source": [
    "import pandas as pd \n",
    "import numpy as np\n",
    "import sklearn as sk "
   ]
  },
  {
   "cell_type": "raw",
   "metadata": {},
   "source": [
    "Next let's look at the data "
   ]
  },
  {
   "cell_type": "code",
   "execution_count": 2,
   "metadata": {
    "collapsed": false,
    "scrolled": true
   },
   "outputs": [
    {
     "name": "stdout",
     "output_type": "stream",
     "text": [
      "  Sex  Length  Diameter  Height  Whole weight  Shucked weight  Viscera weight  \\\n",
      "0   M   0.455     0.365   0.095        0.5140          0.2245          0.1010   \n",
      "1   M   0.350     0.265   0.090        0.2255          0.0995          0.0485   \n",
      "2   F   0.530     0.420   0.135        0.6770          0.2565          0.1415   \n",
      "3   M   0.440     0.365   0.125        0.5160          0.2155          0.1140   \n",
      "4   I   0.330     0.255   0.080        0.2050          0.0895          0.0395   \n",
      "\n",
      "   Shell weight  Rings  \n",
      "0         0.150     15  \n",
      "1         0.070      7  \n",
      "2         0.210      9  \n",
      "3         0.155     10  \n",
      "4         0.055      7   \n",
      " \n",
      "              Length     Diameter       Height  Whole weight  Shucked weight  \\\n",
      "count  4177.000000  4177.000000  4177.000000   4177.000000     4177.000000   \n",
      "mean      0.523992     0.407881     0.139516      0.828742        0.359367   \n",
      "std       0.120093     0.099240     0.041827      0.490389        0.221963   \n",
      "min       0.075000     0.055000     0.000000      0.002000        0.001000   \n",
      "25%       0.450000     0.350000     0.115000      0.441500        0.186000   \n",
      "50%       0.545000     0.425000     0.140000      0.799500        0.336000   \n",
      "75%       0.615000     0.480000     0.165000      1.153000        0.502000   \n",
      "max       0.815000     0.650000     1.130000      2.825500        1.488000   \n",
      "\n",
      "       Viscera weight  Shell weight        Rings  \n",
      "count     4177.000000   4177.000000  4177.000000  \n",
      "mean         0.180594      0.238831     9.933684  \n",
      "std          0.109614      0.139203     3.224169  \n",
      "min          0.000500      0.001500     1.000000  \n",
      "25%          0.093500      0.130000     8.000000  \n",
      "50%          0.171000      0.234000     9.000000  \n",
      "75%          0.253000      0.329000    11.000000  \n",
      "max          0.760000      1.005000    29.000000  \n"
     ]
    }
   ],
   "source": [
    "data = pd.read_csv(\"toy_ds.csv\")\n",
    "print(data.head(), '\\n \\n ', data.describe())"
   ]
  },
  {
   "cell_type": "raw",
   "metadata": {},
   "source": [
    "Change the Sex variable to be numbers - first let's see how many unique \"Sex\"s there are \n",
    "Then we will change each one to be a number "
   ]
  },
  {
   "cell_type": "code",
   "execution_count": 3,
   "metadata": {
    "collapsed": false
   },
   "outputs": [
    {
     "name": "stdout",
     "output_type": "stream",
     "text": [
      "['M' 'F' 'I']\n"
     ]
    }
   ],
   "source": [
    "print(data[\"Sex\"].unique())"
   ]
  },
  {
   "cell_type": "code",
   "execution_count": 4,
   "metadata": {
    "collapsed": true
   },
   "outputs": [],
   "source": [
    "data.loc[data[\"Sex\"]=='M' , \"Sex\" ] = 0\n",
    "data.loc[data[\"Sex\"]=='F' , \"Sex\" ] = 1\n",
    "data.loc[data[\"Sex\"]=='I' , \"Sex\" ] = 2"
   ]
  },
  {
   "cell_type": "raw",
   "metadata": {
    "collapsed": true
   },
   "source": [
    "We want to sort based on three categories \n",
    "Young (1) - 1-8 \n",
    "Medium (2) - 9-10\n",
    "Old (3) - 11+ "
   ]
  },
  {
   "cell_type": "code",
   "execution_count": 5,
   "metadata": {
    "collapsed": false
   },
   "outputs": [
    {
     "name": "stdout",
     "output_type": "stream",
     "text": [
      "AgeCategory\n",
      "1    1407\n",
      "2    1323\n",
      "3    1447\n",
      "dtype: int64 \n",
      " 4177\n"
     ]
    }
   ],
   "source": [
    "data[\"AgeCategory\"] = 0\n",
    "data.loc[data['Rings'] <9, \"AgeCategory\"] = 1\n",
    "data.loc[(data['Rings'] >= 9) & (data['Rings'] <= 10), \"AgeCategory\"] = 2\n",
    "data.loc[data['Rings'] >10, \"AgeCategory\" ] = 3\n",
    "print(data.groupby('AgeCategory').size(), '\\n',\n",
    "sum(data.groupby('AgeCategory').size()))"
   ]
  },
  {
   "cell_type": "raw",
   "metadata": {},
   "source": [
    "For more information about the sets and save information to a variable "
   ]
  },
  {
   "cell_type": "code",
   "execution_count": 6,
   "metadata": {
    "collapsed": false
   },
   "outputs": [
    {
     "data": {
      "text/html": [
       "<div>\n",
       "<table border=\"1\" class=\"dataframe\">\n",
       "  <thead>\n",
       "    <tr style=\"text-align: right;\">\n",
       "      <th></th>\n",
       "      <th></th>\n",
       "      <th>Diameter</th>\n",
       "      <th>Height</th>\n",
       "      <th>Length</th>\n",
       "      <th>Rings</th>\n",
       "      <th>Shell weight</th>\n",
       "      <th>Shucked weight</th>\n",
       "      <th>Viscera weight</th>\n",
       "      <th>Whole weight</th>\n",
       "    </tr>\n",
       "    <tr>\n",
       "      <th>AgeCategory</th>\n",
       "      <th></th>\n",
       "      <th></th>\n",
       "      <th></th>\n",
       "      <th></th>\n",
       "      <th></th>\n",
       "      <th></th>\n",
       "      <th></th>\n",
       "      <th></th>\n",
       "      <th></th>\n",
       "    </tr>\n",
       "  </thead>\n",
       "  <tbody>\n",
       "    <tr>\n",
       "      <th rowspan=\"8\" valign=\"top\">1</th>\n",
       "      <th>count</th>\n",
       "      <td>1407.000000</td>\n",
       "      <td>1407.000000</td>\n",
       "      <td>1407.000000</td>\n",
       "      <td>1407.000000</td>\n",
       "      <td>1407.000000</td>\n",
       "      <td>1407.000000</td>\n",
       "      <td>1407.000000</td>\n",
       "      <td>1407.000000</td>\n",
       "    </tr>\n",
       "    <tr>\n",
       "      <th>mean</th>\n",
       "      <td>0.321276</td>\n",
       "      <td>0.106596</td>\n",
       "      <td>0.420991</td>\n",
       "      <td>6.884151</td>\n",
       "      <td>0.121394</td>\n",
       "      <td>0.198199</td>\n",
       "      <td>0.093357</td>\n",
       "      <td>0.432374</td>\n",
       "    </tr>\n",
       "    <tr>\n",
       "      <th>std</th>\n",
       "      <td>0.090292</td>\n",
       "      <td>0.041830</td>\n",
       "      <td>0.111375</td>\n",
       "      <td>1.216914</td>\n",
       "      <td>0.080965</td>\n",
       "      <td>0.147031</td>\n",
       "      <td>0.068090</td>\n",
       "      <td>0.306007</td>\n",
       "    </tr>\n",
       "    <tr>\n",
       "      <th>min</th>\n",
       "      <td>0.055000</td>\n",
       "      <td>0.000000</td>\n",
       "      <td>0.075000</td>\n",
       "      <td>1.000000</td>\n",
       "      <td>0.001500</td>\n",
       "      <td>0.001000</td>\n",
       "      <td>0.000500</td>\n",
       "      <td>0.002000</td>\n",
       "    </tr>\n",
       "    <tr>\n",
       "      <th>25%</th>\n",
       "      <td>0.260000</td>\n",
       "      <td>0.085000</td>\n",
       "      <td>0.350000</td>\n",
       "      <td>6.000000</td>\n",
       "      <td>0.060000</td>\n",
       "      <td>0.082250</td>\n",
       "      <td>0.040000</td>\n",
       "      <td>0.196000</td>\n",
       "    </tr>\n",
       "    <tr>\n",
       "      <th>50%</th>\n",
       "      <td>0.325000</td>\n",
       "      <td>0.105000</td>\n",
       "      <td>0.430000</td>\n",
       "      <td>7.000000</td>\n",
       "      <td>0.106500</td>\n",
       "      <td>0.165000</td>\n",
       "      <td>0.078500</td>\n",
       "      <td>0.368500</td>\n",
       "    </tr>\n",
       "    <tr>\n",
       "      <th>75%</th>\n",
       "      <td>0.385000</td>\n",
       "      <td>0.125000</td>\n",
       "      <td>0.500000</td>\n",
       "      <td>8.000000</td>\n",
       "      <td>0.169750</td>\n",
       "      <td>0.282250</td>\n",
       "      <td>0.129250</td>\n",
       "      <td>0.597000</td>\n",
       "    </tr>\n",
       "    <tr>\n",
       "      <th>max</th>\n",
       "      <td>0.565000</td>\n",
       "      <td>1.130000</td>\n",
       "      <td>0.720000</td>\n",
       "      <td>8.000000</td>\n",
       "      <td>0.470000</td>\n",
       "      <td>0.825500</td>\n",
       "      <td>0.385500</td>\n",
       "      <td>1.710000</td>\n",
       "    </tr>\n",
       "    <tr>\n",
       "      <th rowspan=\"8\" valign=\"top\">2</th>\n",
       "      <th>count</th>\n",
       "      <td>1323.000000</td>\n",
       "      <td>1323.000000</td>\n",
       "      <td>1323.000000</td>\n",
       "      <td>1323.000000</td>\n",
       "      <td>1323.000000</td>\n",
       "      <td>1323.000000</td>\n",
       "      <td>1323.000000</td>\n",
       "      <td>1323.000000</td>\n",
       "    </tr>\n",
       "    <tr>\n",
       "      <th>mean</th>\n",
       "      <td>0.436754</td>\n",
       "      <td>0.148171</td>\n",
       "      <td>0.560170</td>\n",
       "      <td>9.479214</td>\n",
       "      <td>0.258777</td>\n",
       "      <td>0.416345</td>\n",
       "      <td>0.204731</td>\n",
       "      <td>0.927122</td>\n",
       "    </tr>\n",
       "    <tr>\n",
       "      <th>std</th>\n",
       "      <td>0.069540</td>\n",
       "      <td>0.029392</td>\n",
       "      <td>0.085249</td>\n",
       "      <td>0.499757</td>\n",
       "      <td>0.101876</td>\n",
       "      <td>0.194768</td>\n",
       "      <td>0.091182</td>\n",
       "      <td>0.396543</td>\n",
       "    </tr>\n",
       "    <tr>\n",
       "      <th>min</th>\n",
       "      <td>0.205000</td>\n",
       "      <td>0.015000</td>\n",
       "      <td>0.280000</td>\n",
       "      <td>9.000000</td>\n",
       "      <td>0.040000</td>\n",
       "      <td>0.045500</td>\n",
       "      <td>0.026000</td>\n",
       "      <td>0.124000</td>\n",
       "    </tr>\n",
       "    <tr>\n",
       "      <th>25%</th>\n",
       "      <td>0.395000</td>\n",
       "      <td>0.130000</td>\n",
       "      <td>0.515000</td>\n",
       "      <td>9.000000</td>\n",
       "      <td>0.185000</td>\n",
       "      <td>0.271250</td>\n",
       "      <td>0.139000</td>\n",
       "      <td>0.646000</td>\n",
       "    </tr>\n",
       "    <tr>\n",
       "      <th>50%</th>\n",
       "      <td>0.450000</td>\n",
       "      <td>0.150000</td>\n",
       "      <td>0.575000</td>\n",
       "      <td>9.000000</td>\n",
       "      <td>0.259000</td>\n",
       "      <td>0.415000</td>\n",
       "      <td>0.199000</td>\n",
       "      <td>0.917500</td>\n",
       "    </tr>\n",
       "    <tr>\n",
       "      <th>75%</th>\n",
       "      <td>0.485000</td>\n",
       "      <td>0.165000</td>\n",
       "      <td>0.620000</td>\n",
       "      <td>10.000000</td>\n",
       "      <td>0.322500</td>\n",
       "      <td>0.539250</td>\n",
       "      <td>0.264500</td>\n",
       "      <td>1.184000</td>\n",
       "    </tr>\n",
       "    <tr>\n",
       "      <th>max</th>\n",
       "      <td>0.600000</td>\n",
       "      <td>0.515000</td>\n",
       "      <td>0.770000</td>\n",
       "      <td>10.000000</td>\n",
       "      <td>0.655000</td>\n",
       "      <td>1.253000</td>\n",
       "      <td>0.541000</td>\n",
       "      <td>2.381000</td>\n",
       "    </tr>\n",
       "    <tr>\n",
       "      <th rowspan=\"8\" valign=\"top\">3</th>\n",
       "      <th>count</th>\n",
       "      <td>1447.000000</td>\n",
       "      <td>1447.000000</td>\n",
       "      <td>1447.000000</td>\n",
       "      <td>1447.000000</td>\n",
       "      <td>1447.000000</td>\n",
       "      <td>1447.000000</td>\n",
       "      <td>1447.000000</td>\n",
       "      <td>1447.000000</td>\n",
       "    </tr>\n",
       "    <tr>\n",
       "      <th>mean</th>\n",
       "      <td>0.465695</td>\n",
       "      <td>0.163614</td>\n",
       "      <td>0.591068</td>\n",
       "      <td>13.314444</td>\n",
       "      <td>0.334784</td>\n",
       "      <td>0.463986</td>\n",
       "      <td>0.243350</td>\n",
       "      <td>1.124204</td>\n",
       "    </tr>\n",
       "    <tr>\n",
       "      <th>std</th>\n",
       "      <td>0.068473</td>\n",
       "      <td>0.029277</td>\n",
       "      <td>0.083205</td>\n",
       "      <td>2.770863</td>\n",
       "      <td>0.130774</td>\n",
       "      <td>0.217678</td>\n",
       "      <td>0.103497</td>\n",
       "      <td>0.458919</td>\n",
       "    </tr>\n",
       "    <tr>\n",
       "      <th>min</th>\n",
       "      <td>0.235000</td>\n",
       "      <td>0.060000</td>\n",
       "      <td>0.310000</td>\n",
       "      <td>11.000000</td>\n",
       "      <td>0.040000</td>\n",
       "      <td>0.041500</td>\n",
       "      <td>0.024000</td>\n",
       "      <td>0.120000</td>\n",
       "    </tr>\n",
       "    <tr>\n",
       "      <th>25%</th>\n",
       "      <td>0.420000</td>\n",
       "      <td>0.145000</td>\n",
       "      <td>0.535000</td>\n",
       "      <td>11.000000</td>\n",
       "      <td>0.249000</td>\n",
       "      <td>0.299500</td>\n",
       "      <td>0.166000</td>\n",
       "      <td>0.793500</td>\n",
       "    </tr>\n",
       "    <tr>\n",
       "      <th>50%</th>\n",
       "      <td>0.475000</td>\n",
       "      <td>0.165000</td>\n",
       "      <td>0.600000</td>\n",
       "      <td>12.000000</td>\n",
       "      <td>0.324500</td>\n",
       "      <td>0.437000</td>\n",
       "      <td>0.234000</td>\n",
       "      <td>1.092000</td>\n",
       "    </tr>\n",
       "    <tr>\n",
       "      <th>75%</th>\n",
       "      <td>0.515000</td>\n",
       "      <td>0.185000</td>\n",
       "      <td>0.650000</td>\n",
       "      <td>15.000000</td>\n",
       "      <td>0.410000</td>\n",
       "      <td>0.598000</td>\n",
       "      <td>0.306000</td>\n",
       "      <td>1.410500</td>\n",
       "    </tr>\n",
       "    <tr>\n",
       "      <th>max</th>\n",
       "      <td>0.650000</td>\n",
       "      <td>0.250000</td>\n",
       "      <td>0.815000</td>\n",
       "      <td>29.000000</td>\n",
       "      <td>1.005000</td>\n",
       "      <td>1.488000</td>\n",
       "      <td>0.760000</td>\n",
       "      <td>2.825500</td>\n",
       "    </tr>\n",
       "  </tbody>\n",
       "</table>\n",
       "</div>"
      ],
      "text/plain": [
       "                      Diameter       Height       Length        Rings  \\\n",
       "AgeCategory                                                             \n",
       "1           count  1407.000000  1407.000000  1407.000000  1407.000000   \n",
       "            mean      0.321276     0.106596     0.420991     6.884151   \n",
       "            std       0.090292     0.041830     0.111375     1.216914   \n",
       "            min       0.055000     0.000000     0.075000     1.000000   \n",
       "            25%       0.260000     0.085000     0.350000     6.000000   \n",
       "            50%       0.325000     0.105000     0.430000     7.000000   \n",
       "            75%       0.385000     0.125000     0.500000     8.000000   \n",
       "            max       0.565000     1.130000     0.720000     8.000000   \n",
       "2           count  1323.000000  1323.000000  1323.000000  1323.000000   \n",
       "            mean      0.436754     0.148171     0.560170     9.479214   \n",
       "            std       0.069540     0.029392     0.085249     0.499757   \n",
       "            min       0.205000     0.015000     0.280000     9.000000   \n",
       "            25%       0.395000     0.130000     0.515000     9.000000   \n",
       "            50%       0.450000     0.150000     0.575000     9.000000   \n",
       "            75%       0.485000     0.165000     0.620000    10.000000   \n",
       "            max       0.600000     0.515000     0.770000    10.000000   \n",
       "3           count  1447.000000  1447.000000  1447.000000  1447.000000   \n",
       "            mean      0.465695     0.163614     0.591068    13.314444   \n",
       "            std       0.068473     0.029277     0.083205     2.770863   \n",
       "            min       0.235000     0.060000     0.310000    11.000000   \n",
       "            25%       0.420000     0.145000     0.535000    11.000000   \n",
       "            50%       0.475000     0.165000     0.600000    12.000000   \n",
       "            75%       0.515000     0.185000     0.650000    15.000000   \n",
       "            max       0.650000     0.250000     0.815000    29.000000   \n",
       "\n",
       "                   Shell weight  Shucked weight  Viscera weight  Whole weight  \n",
       "AgeCategory                                                                    \n",
       "1           count   1407.000000     1407.000000     1407.000000   1407.000000  \n",
       "            mean       0.121394        0.198199        0.093357      0.432374  \n",
       "            std        0.080965        0.147031        0.068090      0.306007  \n",
       "            min        0.001500        0.001000        0.000500      0.002000  \n",
       "            25%        0.060000        0.082250        0.040000      0.196000  \n",
       "            50%        0.106500        0.165000        0.078500      0.368500  \n",
       "            75%        0.169750        0.282250        0.129250      0.597000  \n",
       "            max        0.470000        0.825500        0.385500      1.710000  \n",
       "2           count   1323.000000     1323.000000     1323.000000   1323.000000  \n",
       "            mean       0.258777        0.416345        0.204731      0.927122  \n",
       "            std        0.101876        0.194768        0.091182      0.396543  \n",
       "            min        0.040000        0.045500        0.026000      0.124000  \n",
       "            25%        0.185000        0.271250        0.139000      0.646000  \n",
       "            50%        0.259000        0.415000        0.199000      0.917500  \n",
       "            75%        0.322500        0.539250        0.264500      1.184000  \n",
       "            max        0.655000        1.253000        0.541000      2.381000  \n",
       "3           count   1447.000000     1447.000000     1447.000000   1447.000000  \n",
       "            mean       0.334784        0.463986        0.243350      1.124204  \n",
       "            std        0.130774        0.217678        0.103497      0.458919  \n",
       "            min        0.040000        0.041500        0.024000      0.120000  \n",
       "            25%        0.249000        0.299500        0.166000      0.793500  \n",
       "            50%        0.324500        0.437000        0.234000      1.092000  \n",
       "            75%        0.410000        0.598000        0.306000      1.410500  \n",
       "            max        1.005000        1.488000        0.760000      2.825500  "
      ]
     },
     "execution_count": 6,
     "metadata": {},
     "output_type": "execute_result"
    }
   ],
   "source": [
    "data.groupby('AgeCategory').describe()"
   ]
  },
  {
   "cell_type": "raw",
   "metadata": {},
   "source": [
    "Drop the Column with the rings "
   ]
  },
  {
   "cell_type": "code",
   "execution_count": 7,
   "metadata": {
    "collapsed": false
   },
   "outputs": [],
   "source": [
    "data_use = data.drop('Rings',1)\n",
    "table1 = data_use.groupby('AgeCategory')"
   ]
  },
  {
   "cell_type": "code",
   "execution_count": 8,
   "metadata": {
    "collapsed": false
   },
   "outputs": [],
   "source": [
    "# table1['Diameter'].agg([np.mean,np.std])"
   ]
  },
  {
   "cell_type": "code",
   "execution_count": 9,
   "metadata": {
    "collapsed": true
   },
   "outputs": [],
   "source": [
    "data_FE = data_use\n",
    "data_FE[\"Volume\"] = data_use[\"Length\"]*data_use[\"Diameter\"]*data_use[\"Height\"]\n",
    "data_FE[\"Vol*Weight\"] = data_use[\"Volume\"] * data_use[\"Whole weight\"]"
   ]
  },
  {
   "cell_type": "raw",
   "metadata": {},
   "source": [
    "Now that we know more about our data set and it is ready to be used... lets try a multinomial logistics regression\n",
    "Start by importing the Logisitic Regression Module from sklearn "
   ]
  },
  {
   "cell_type": "raw",
   "metadata": {},
   "source": [
    "Split dataframe into input and output variables "
   ]
  },
  {
   "cell_type": "code",
   "execution_count": 11,
   "metadata": {
    "collapsed": false
   },
   "outputs": [],
   "source": [
    "X = data_FE.drop('AgeCategory', 1)\n",
    "Y = data_FE[\"AgeCategory\"].astype('category')"
   ]
  },
  {
   "cell_type": "raw",
   "metadata": {},
   "source": [
    "Let's try looking into the correlation structure of the sections of the data sets \n",
    "We will have to remove the sex class, seperate by age category then "
   ]
  },
  {
   "cell_type": "code",
   "execution_count": 33,
   "metadata": {
    "collapsed": true
   },
   "outputs": [],
   "source": [
    "from sklearn.decomposition import PCA "
   ]
  },
  {
   "cell_type": "code",
   "execution_count": 102,
   "metadata": {
    "collapsed": false
   },
   "outputs": [
    {
     "data": {
      "text/plain": [
       "PCA(copy=True, iterated_power='auto', n_components=7, random_state=None,\n",
       "  svd_solver='auto', tol=0.0, whiten=False)"
      ]
     },
     "execution_count": 102,
     "metadata": {},
     "output_type": "execute_result"
    }
   ],
   "source": [
    "pca1 = PCA(n_components=7)\n",
    "pca1.fit(X)"
   ]
  },
  {
   "cell_type": "code",
   "execution_count": 103,
   "metadata": {
    "collapsed": false
   },
   "outputs": [
    {
     "name": "stdout",
     "output_type": "stream",
     "text": [
      "[  7.68208158e-01   2.22884167e-01   3.82917287e-03   2.87195239e-03\n",
      "   1.01832367e-03   5.00898342e-04   4.12792117e-04]\n"
     ]
    }
   ],
   "source": [
    "pca_score = pca1.explained_variance_ratio_\n",
    "print(pca_score)"
   ]
  },
  {
   "cell_type": "raw",
   "metadata": {},
   "source": [
    "First principal component explains 97% of the variance... We might only need that for the future analysis "
   ]
  },
  {
   "cell_type": "code",
   "execution_count": 104,
   "metadata": {
    "collapsed": false
   },
   "outputs": [],
   "source": [
    "pca1_comp = PCA(n_components=1)\n",
    "pca_data1 = pca1_comp.fit_transform(pca_data)"
   ]
  },
  {
   "cell_type": "raw",
   "metadata": {},
   "source": [
    "Run logistic regression in various settings... "
   ]
  },
  {
   "cell_type": "code",
   "execution_count": 10,
   "metadata": {
    "collapsed": true
   },
   "outputs": [],
   "source": [
    "from sklearn.linear_model import LogisticRegression\n",
    "from sklearn import metrics\n",
    "from sklearn.model_selection import cross_val_score"
   ]
  },
  {
   "cell_type": "raw",
   "metadata": {},
   "source": [
    "Logistic regression \n",
    "Not great at 62% "
   ]
  },
  {
   "cell_type": "code",
   "execution_count": 112,
   "metadata": {
    "collapsed": false
   },
   "outputs": [
    {
     "name": "stdout",
     "output_type": "stream",
     "text": [
      "             precision    recall  f1-score   support\n",
      "\n",
      "          1       0.67      0.79      0.73      1407\n",
      "          2       0.52      0.37      0.43      1323\n",
      "          3       0.66      0.71      0.68      1447\n",
      "\n",
      "avg / total       0.62      0.63      0.62      4177\n",
      "\n",
      "[[1116  231   60]\n",
      " [ 360  493  470]\n",
      " [ 186  233 1028]]\n",
      "0.621757325071\n"
     ]
    }
   ],
   "source": [
    "log_fit = LogisticRegression().fit(X,Y)\n",
    "predict_log = log_fit.predict(X)\n",
    "print(metrics.classification_report(Y,predict_log))\n",
    "print(metrics.confusion_matrix(Y, predict_log))\n",
    "print(cross_val_score(log_fit2, X,Y,cv= 8).mean())"
   ]
  },
  {
   "cell_type": "code",
   "execution_count": 115,
   "metadata": {
    "collapsed": false
   },
   "outputs": [
    {
     "name": "stdout",
     "output_type": "stream",
     "text": [
      "             precision    recall  f1-score   support\n",
      "\n",
      "          1       0.61      0.83      0.70      1407\n",
      "          2       0.37      0.06      0.10      1323\n",
      "          3       0.51      0.73      0.60      1447\n",
      "\n",
      "avg / total       0.50      0.55      0.48      4177\n",
      "\n",
      "[[1162   54  191]\n",
      " [ 423   78  822]\n",
      " [ 306   80 1061]]\n",
      "0.550162054412\n"
     ]
    }
   ],
   "source": [
    "log_fit_pca = LogisticRegression().fit(pca_data1,Y)\n",
    "predict_log_pca = log_fit_pca.predict(pca_data1)\n",
    "print(metrics.classification_report(Y,predict_log_pca))\n",
    "print(metrics.confusion_matrix(Y, predict_log_pca))\n",
    "print(cross_val_score(log_fit_pca, pca_data1 ,Y,cv= 8).mean())"
   ]
  },
  {
   "cell_type": "code",
   "execution_count": 16,
   "metadata": {
    "collapsed": true
   },
   "outputs": [],
   "source": [
    "from sklearn.neighbors import KNeighborsClassifier\n",
    "from sklearn import preprocessing "
   ]
  },
  {
   "cell_type": "code",
   "execution_count": 18,
   "metadata": {
    "collapsed": false
   },
   "outputs": [],
   "source": [
    "KNN = KNeighborsClassifier()\n",
    "KNN.fit(X,Y)\n",
    "predict_KNN = KNN.predict(X)"
   ]
  },
  {
   "cell_type": "code",
   "execution_count": 117,
   "metadata": {
    "collapsed": false
   },
   "outputs": [
    {
     "name": "stdout",
     "output_type": "stream",
     "text": [
      "             precision    recall  f1-score   support\n",
      "\n",
      "          1       0.78      0.85      0.81      1407\n",
      "          2       0.64      0.66      0.65      1323\n",
      "          3       0.80      0.71      0.76      1447\n",
      "\n",
      "avg / total       0.74      0.74      0.74      4177\n",
      "\n",
      "[[1194  181   32]\n",
      " [ 226  871  226]\n",
      " [ 110  303 1034]]\n",
      "0.611947522004\n"
     ]
    }
   ],
   "source": [
    "print(metrics.classification_report(Y,predict_KNN))\n",
    "print(metrics.confusion_matrix(Y, predict_KNN))\n",
    "print(cross_val_score(KNN, X,Y,cv= 8).mean())"
   ]
  },
  {
   "cell_type": "raw",
   "metadata": {},
   "source": [
    "Model accuracy is 74% \n",
    "CV score is 61% "
   ]
  },
  {
   "cell_type": "raw",
   "metadata": {},
   "source": [
    "Let's do some parameter tuning for KNN "
   ]
  },
  {
   "cell_type": "code",
   "execution_count": 20,
   "metadata": {
    "collapsed": false
   },
   "outputs": [],
   "source": [
    "\n",
    "KNN_parameter_tuning1 = pd.DataFrame(data = {'CV': 0,\n",
    "                                            'Num Neighbors':3}, index = range(1,3,1))\n",
    "j = 1 # index for number of loops \n",
    "for num_neighbors in range(3, 40, 1):\n",
    "    KNN_sample = KNeighborsClassifier(n_neighbors = num_neighbors)\n",
    "    CV = cross_val_score(KNN_sample, X,Y,cv= 8).mean()\n",
    "    KNN_parameter_tuning1.loc[j] = [CV, num_neighbors]\n",
    "    j = j+1 \n"
   ]
  },
  {
   "cell_type": "code",
   "execution_count": 52,
   "metadata": {
    "collapsed": false
   },
   "outputs": [
    {
     "name": "stdout",
     "output_type": "stream",
     "text": [
      "          CV  Num Neighbors\n",
      "21  0.637072           23.0\n",
      "18  0.634919           20.0\n",
      "20  0.634918           22.0\n",
      "17  0.634915           19.0\n",
      "16  0.634443           18.0\n",
      "25  0.633719           27.0\n",
      "24  0.633486           26.0\n",
      "30  0.633247           32.0\n",
      "22  0.633244           24.0\n",
      "23  0.633240           25.0 \n",
      " \n",
      "                CV  Num Neighbors\n",
      "count  37.000000      37.000000\n",
      "mean    0.628697      21.000000\n",
      "std     0.010287      10.824355\n",
      "min     0.588248       3.000000\n",
      "25%     0.629424      12.000000\n",
      "50%     0.632049      21.000000\n",
      "75%     0.633240      30.000000\n",
      "max     0.637072      39.000000\n"
     ]
    }
   ],
   "source": [
    "KNN_PT1_df = KNN_parameter_tuning1.sort_values(by = \"CV\", ascending= False )\n",
    "print(KNN_PT1_df.head(10), \"\\n \\n \", KNN_PT1_df.describe())"
   ]
  },
  {
   "cell_type": "code",
   "execution_count": 67,
   "metadata": {
    "collapsed": false
   },
   "outputs": [
    {
     "data": {
      "text/plain": [
       "[<matplotlib.lines.Line2D at 0x1d7cfcd0208>]"
      ]
     },
     "execution_count": 67,
     "metadata": {},
     "output_type": "execute_result"
    },
    {
     "data": {
      "image/png": "[encoded data removed]",
      "text/plain": [
       "<matplotlib.figure.Figure at 0x1d7cfc7d2b0>"
      ]
     },
     "metadata": {},
     "output_type": "display_data"
    }
   ],
   "source": [
    "import matplotlib.pyplot as plt\n",
    "%matplotlib inline\n",
    "plt.plot(KNN_PT1_df['Num Neighbors'], KNN_PT1_df['CV'], 'ro')"
   ]
  },
  {
   "cell_type": "raw",
   "metadata": {},
   "source": [
    "From inspection, it appears most of the highest cross validation results are from the low 20s although all the scores are quite close \n",
    "Let's use 23 "
   ]
  },
  {
   "cell_type": "raw",
   "metadata": {},
   "source": [
    "Let's try normalizing data before using in the KNN "
   ]
  },
  {
   "cell_type": "code",
   "execution_count": 118,
   "metadata": {
    "collapsed": false
   },
   "outputs": [
    {
     "name": "stdout",
     "output_type": "stream",
     "text": [
      "             precision    recall  f1-score   support\n",
      "\n",
      "          1       0.78      0.84      0.81      1407\n",
      "          2       0.64      0.65      0.64      1323\n",
      "          3       0.80      0.72      0.76      1447\n",
      "\n",
      "avg / total       0.74      0.74      0.74      4177\n",
      "\n",
      "[[1188  186   33]\n",
      " [ 231  862  230]\n",
      " [ 100  307 1040]]\n",
      "0.608824858879\n"
     ]
    }
   ],
   "source": [
    "X1 = preprocessing.normalize(X)\n",
    "KNN1 = KNeighborsClassifier()\n",
    "KNN1.fit(X1,Y)\n",
    "predict_KNN1 = KNN1.predict(X1)\n",
    "print(metrics.classification_report(Y,predict_KNN1))\n",
    "print(metrics.confusion_matrix(Y, predict_KNN1))\n",
    "print(cross_val_score(KNN1, X1,Y,cv= 8).mean())"
   ]
  },
  {
   "cell_type": "raw",
   "metadata": {},
   "source": [
    "The metrics are essentially the same. CV is slightly smaller but not by much. It is probably due to randomness\n",
    "The data was pretty closely scaled. Most of the data ranges were within 0,1 as can be seen when we initially looked at the data "
   ]
  },
  {
   "cell_type": "code",
   "execution_count": 120,
   "metadata": {
    "collapsed": false
   },
   "outputs": [
    {
     "data": {
      "text/html": [
       "<div>\n",
       "<table border=\"1\" class=\"dataframe\">\n",
       "  <thead>\n",
       "    <tr style=\"text-align: right;\">\n",
       "      <th></th>\n",
       "      <th>Length</th>\n",
       "      <th>Diameter</th>\n",
       "      <th>Height</th>\n",
       "      <th>Whole weight</th>\n",
       "      <th>Shucked weight</th>\n",
       "      <th>Viscera weight</th>\n",
       "      <th>Shell weight</th>\n",
       "      <th>Volume</th>\n",
       "      <th>Vol*Weight</th>\n",
       "    </tr>\n",
       "  </thead>\n",
       "  <tbody>\n",
       "    <tr>\n",
       "      <th>count</th>\n",
       "      <td>4177.000000</td>\n",
       "      <td>4177.000000</td>\n",
       "      <td>4177.000000</td>\n",
       "      <td>4177.000000</td>\n",
       "      <td>4177.000000</td>\n",
       "      <td>4177.000000</td>\n",
       "      <td>4177.000000</td>\n",
       "      <td>4177.000000</td>\n",
       "      <td>4177.000000</td>\n",
       "    </tr>\n",
       "    <tr>\n",
       "      <th>mean</th>\n",
       "      <td>0.523992</td>\n",
       "      <td>0.407881</td>\n",
       "      <td>0.139516</td>\n",
       "      <td>0.828742</td>\n",
       "      <td>0.359367</td>\n",
       "      <td>0.180594</td>\n",
       "      <td>0.238831</td>\n",
       "      <td>0.034715</td>\n",
       "      <td>0.038725</td>\n",
       "    </tr>\n",
       "    <tr>\n",
       "      <th>std</th>\n",
       "      <td>0.120093</td>\n",
       "      <td>0.099240</td>\n",
       "      <td>0.041827</td>\n",
       "      <td>0.490389</td>\n",
       "      <td>0.221963</td>\n",
       "      <td>0.109614</td>\n",
       "      <td>0.139203</td>\n",
       "      <td>0.021153</td>\n",
       "      <td>0.041331</td>\n",
       "    </tr>\n",
       "    <tr>\n",
       "      <th>min</th>\n",
       "      <td>0.075000</td>\n",
       "      <td>0.055000</td>\n",
       "      <td>0.000000</td>\n",
       "      <td>0.002000</td>\n",
       "      <td>0.001000</td>\n",
       "      <td>0.000500</td>\n",
       "      <td>0.001500</td>\n",
       "      <td>0.000000</td>\n",
       "      <td>0.000000</td>\n",
       "    </tr>\n",
       "    <tr>\n",
       "      <th>25%</th>\n",
       "      <td>0.450000</td>\n",
       "      <td>0.350000</td>\n",
       "      <td>0.115000</td>\n",
       "      <td>0.441500</td>\n",
       "      <td>0.186000</td>\n",
       "      <td>0.093500</td>\n",
       "      <td>0.130000</td>\n",
       "      <td>0.017911</td>\n",
       "      <td>0.007913</td>\n",
       "    </tr>\n",
       "    <tr>\n",
       "      <th>50%</th>\n",
       "      <td>0.545000</td>\n",
       "      <td>0.425000</td>\n",
       "      <td>0.140000</td>\n",
       "      <td>0.799500</td>\n",
       "      <td>0.336000</td>\n",
       "      <td>0.171000</td>\n",
       "      <td>0.234000</td>\n",
       "      <td>0.032809</td>\n",
       "      <td>0.026245</td>\n",
       "    </tr>\n",
       "    <tr>\n",
       "      <th>75%</th>\n",
       "      <td>0.615000</td>\n",
       "      <td>0.480000</td>\n",
       "      <td>0.165000</td>\n",
       "      <td>1.153000</td>\n",
       "      <td>0.502000</td>\n",
       "      <td>0.253000</td>\n",
       "      <td>0.329000</td>\n",
       "      <td>0.048739</td>\n",
       "      <td>0.056067</td>\n",
       "    </tr>\n",
       "    <tr>\n",
       "      <th>max</th>\n",
       "      <td>0.815000</td>\n",
       "      <td>0.650000</td>\n",
       "      <td>1.130000</td>\n",
       "      <td>2.825500</td>\n",
       "      <td>1.488000</td>\n",
       "      <td>0.760000</td>\n",
       "      <td>1.005000</td>\n",
       "      <td>0.205137</td>\n",
       "      <td>0.453354</td>\n",
       "    </tr>\n",
       "  </tbody>\n",
       "</table>\n",
       "</div>"
      ],
      "text/plain": [
       "            Length     Diameter       Height  Whole weight  Shucked weight  \\\n",
       "count  4177.000000  4177.000000  4177.000000   4177.000000     4177.000000   \n",
       "mean      0.523992     0.407881     0.139516      0.828742        0.359367   \n",
       "std       0.120093     0.099240     0.041827      0.490389        0.221963   \n",
       "min       0.075000     0.055000     0.000000      0.002000        0.001000   \n",
       "25%       0.450000     0.350000     0.115000      0.441500        0.186000   \n",
       "50%       0.545000     0.425000     0.140000      0.799500        0.336000   \n",
       "75%       0.615000     0.480000     0.165000      1.153000        0.502000   \n",
       "max       0.815000     0.650000     1.130000      2.825500        1.488000   \n",
       "\n",
       "       Viscera weight  Shell weight       Volume   Vol*Weight  \n",
       "count     4177.000000   4177.000000  4177.000000  4177.000000  \n",
       "mean         0.180594      0.238831     0.034715     0.038725  \n",
       "std          0.109614      0.139203     0.021153     0.041331  \n",
       "min          0.000500      0.001500     0.000000     0.000000  \n",
       "25%          0.093500      0.130000     0.017911     0.007913  \n",
       "50%          0.171000      0.234000     0.032809     0.026245  \n",
       "75%          0.253000      0.329000     0.048739     0.056067  \n",
       "max          0.760000      1.005000     0.205137     0.453354  "
      ]
     },
     "execution_count": 120,
     "metadata": {},
     "output_type": "execute_result"
    }
   ],
   "source": [
    "# X.describe()"
   ]
  },
  {
   "cell_type": "code",
   "execution_count": 22,
   "metadata": {
    "collapsed": true
   },
   "outputs": [],
   "source": [
    "from sklearn.ensemble import RandomForestClassifier\n",
    "from sklearn.model_selection import cross_val_score"
   ]
  },
  {
   "cell_type": "code",
   "execution_count": 23,
   "metadata": {
    "collapsed": false
   },
   "outputs": [],
   "source": [
    "RF = RandomForestClassifier(random_state=1)\n",
    "RF.fit(X,Y)\n",
    "predict_RF = RF.predict(X)"
   ]
  },
  {
   "cell_type": "code",
   "execution_count": 24,
   "metadata": {
    "collapsed": false
   },
   "outputs": [
    {
     "name": "stdout",
     "output_type": "stream",
     "text": [
      "             precision    recall  f1-score   support\n",
      "\n",
      "          1       0.98      0.99      0.98      1407\n",
      "          2       0.98      0.97      0.97      1323\n",
      "          3       0.99      0.98      0.98      1447\n",
      "\n",
      "avg / total       0.98      0.98      0.98      4177\n",
      "\n",
      "[[1398    5    4]\n",
      " [  25 1281   17]\n",
      " [   9   22 1416]]\n",
      "0.609780218836\n"
     ]
    }
   ],
   "source": [
    "print(metrics.classification_report(Y,predict_RF))\n",
    "print(metrics.confusion_matrix(Y, predict_RF))\n",
    "print(cross_val_score(RF, X,Y,cv= 5).mean())"
   ]
  },
  {
   "cell_type": "raw",
   "metadata": {},
   "source": [
    "I think the tree is too deep and over fitting \n",
    "I am suspicious of that 98% "
   ]
  },
  {
   "cell_type": "raw",
   "metadata": {},
   "source": [
    "Try cross using cross validation to find optimal number of trees at split \n",
    "\n",
    "Try playing with parameters in RF  \n",
    "\n",
    "to uncomment ctrl +/ "
   ]
  },
  {
   "cell_type": "code",
   "execution_count": null,
   "metadata": {
    "collapsed": true
   },
   "outputs": [],
   "source": [
    "# index = range(1,5)\n",
    "# Parameter_df1 = pd.DataFrame({\"Numb Features\" : 0.1 , \"Numb Trees\": 0.2, \"Min Leaf Size\":0.2, \"Node Split\": 0.3,\"CV\":0.4},\n",
    "#                             index= index)\n",
    "\n",
    "# i = 1 # Track number of iterations and for indexing information \n",
    "# for num_est in range(4,12,1):\n",
    "#     for num_feat in range(1,(len(X.columns)-1)):\n",
    "#         for min_leaf in range(1,20,4):\n",
    "#             for min_split in range(2,102,10):\n",
    "#                 RF_PT = RandomForestClassifier(n_estimators = num_est, max_features = num_feat, min_samples_split= min_split\n",
    "#                                            ,min_samples_leaf = min_leaf, random_state=1)\n",
    "#                 # RF_PT.fit(X,Y)\n",
    "#                 # predict_RF_PT1 = RF_PT.predict(X)\n",
    "#                 CV = cross_val_score(RF_PT, X,Y,cv= 5).mean()\n",
    "#                 Parameter_df1.loc[i] = [CV, min_leaf, min_split, num_feat, num_est]\n",
    "#                 [num_feat, num_est, min_leaf, min_split ,CV]\n",
    "#                 i = i+1\n",
    "# Parameter_df1.to_csv(\"RF_Parameter\")"
   ]
  },
  {
   "cell_type": "code",
   "execution_count": 140,
   "metadata": {
    "collapsed": false
   },
   "outputs": [],
   "source": [
    "Parameter_df1 = pd.read_csv(\"RF_Parameter\")"
   ]
  },
  {
   "cell_type": "code",
   "execution_count": 141,
   "metadata": {
    "collapsed": false
   },
   "outputs": [
    {
     "name": "stdout",
     "output_type": "stream",
     "text": [
      "      Unnamed: 0        CV  Min Leaf Size  Node Split  Numb Features  \\\n",
      "2087        2088  0.649757           13.0        72.0            2.0   \n",
      "2487        2488  0.645927           13.0        72.0            2.0   \n",
      "648          649  0.645703           17.0        82.0            5.0   \n",
      "1048        1049  0.645695           17.0        82.0            5.0   \n",
      "2648        2649  0.642579           17.0        82.0            5.0   \n",
      "2248        2249  0.642342           17.0        82.0            5.0   \n",
      "2887        2888  0.642098           13.0        72.0            2.0   \n",
      "1687        1688  0.641852           13.0        72.0            2.0   \n",
      "3043        3044  0.641150           17.0        32.0            5.0   \n",
      "3042        3043  0.641150           17.0        22.0            5.0   \n",
      "3041        3042  0.641150           17.0        12.0            5.0   \n",
      "3040        3041  0.641150           17.0         2.0            5.0   \n",
      "248          249  0.641146           17.0        82.0            5.0   \n",
      "2494        2495  0.641138           17.0        42.0            2.0   \n",
      "2458        2459  0.640176            1.0        82.0            2.0   \n",
      "1448        1449  0.639945           17.0        82.0            5.0   \n",
      "2898        2899  0.639944           17.0        82.0            2.0   \n",
      "2858        2859  0.639939            1.0        82.0            2.0   \n",
      "2766        2767  0.639710            5.0        62.0            8.0   \n",
      "2643        2644  0.639709           17.0        32.0            5.0   \n",
      "\n",
      "      Numb Trees  \n",
      "2087         9.0  \n",
      "2487        10.0  \n",
      "648          5.0  \n",
      "1048         6.0  \n",
      "2648        10.0  \n",
      "2248         9.0  \n",
      "2887        11.0  \n",
      "1687         8.0  \n",
      "3043        11.0  \n",
      "3042        11.0  \n",
      "3041        11.0  \n",
      "3040        11.0  \n",
      "248          4.0  \n",
      "2494        10.0  \n",
      "2458        10.0  \n",
      "1448         7.0  \n",
      "2898        11.0  \n",
      "2858        11.0  \n",
      "2766        10.0  \n",
      "2643        10.0   \n",
      " \n",
      "          Unnamed: 0           CV  Min Leaf Size   Node Split  Numb Features  \\\n",
      "count  3200.000000  3200.000000    3200.000000  3200.000000    3200.000000   \n",
      "mean   1600.500000     0.627313       9.000000    47.000000       4.500000   \n",
      "std     923.904757     0.007121       5.657738    28.727302       2.291646   \n",
      "min       1.000000     0.576716       1.000000     2.000000       1.000000   \n",
      "25%     800.750000     0.623905       5.000000    22.000000       2.750000   \n",
      "50%    1600.500000     0.628450       9.000000    47.000000       4.500000   \n",
      "75%    2400.250000     0.632046      13.000000    72.000000       6.250000   \n",
      "max    3200.000000     0.649757      17.000000    92.000000       8.000000   \n",
      "\n",
      "        Numb Trees  \n",
      "count  3200.000000  \n",
      "mean      7.500000  \n",
      "std       2.291646  \n",
      "min       4.000000  \n",
      "25%       5.750000  \n",
      "50%       7.500000  \n",
      "75%       9.250000  \n",
      "max      11.000000  \n"
     ]
    }
   ],
   "source": [
    "len(Parameter_df1)\n",
    "Parameter_df2 = Parameter_df1.sort_values(by = \"CV\", ascending = False)\n",
    "print(Parameter_df2.head(20), \"\\n \\n \", Parameter_df2.describe())"
   ]
  },
  {
   "cell_type": "raw",
   "metadata": {},
   "source": [
    "Let's run an analysis on the data we generated from modifying the Random forest parameters "
   ]
  },
  {
   "cell_type": "code",
   "execution_count": 127,
   "metadata": {
    "collapsed": true
   },
   "outputs": [],
   "source": [
    "from sklearn.linear_model import LinearRegression "
   ]
  },
  {
   "cell_type": "code",
   "execution_count": 128,
   "metadata": {
    "collapsed": false
   },
   "outputs": [],
   "source": [
    "X_RF = Parameter_df1.drop('CV',1)\n",
    "Y_RF = Parameter_df1['CV']"
   ]
  },
  {
   "cell_type": "code",
   "execution_count": 129,
   "metadata": {
    "collapsed": false
   },
   "outputs": [
    {
     "data": {
      "text/plain": [
       "LinearRegression(copy_X=True, fit_intercept=True, n_jobs=1, normalize=False)"
      ]
     },
     "execution_count": 129,
     "metadata": {},
     "output_type": "execute_result"
    }
   ],
   "source": [
    "RF_Linear_regression = LinearRegression()\n",
    "RF_Linear_regression.fit(X_RF,Y_RF)\n"
   ]
  },
  {
   "cell_type": "code",
   "execution_count": 130,
   "metadata": {
    "collapsed": false
   },
   "outputs": [
    {
     "name": "stdout",
     "output_type": "stream",
     "text": [
      "                            OLS Regression Results                            \n",
      "==============================================================================\n",
      "Dep. Variable:                     CV   R-squared:                       0.955\n",
      "Model:                            OLS   Adj. R-squared:                  0.955\n",
      "Method:                 Least Squares   F-statistic:                 1.686e+04\n",
      "Date:                Sat, 22 Oct 2016   Prob (F-statistic):               0.00\n",
      "Time:                        11:32:19   Log-Likelihood:                 1904.4\n",
      "No. Observations:                3200   AIC:                            -3801.\n",
      "Df Residuals:                    3196   BIC:                            -3777.\n",
      "Df Model:                           4                                         \n",
      "Covariance Type:            nonrobust                                         \n",
      "=================================================================================\n",
      "                    coef    std err          t      P>|t|      [95.0% Conf. Int.]\n",
      "---------------------------------------------------------------------------------\n",
      "Min Leaf Size     0.0086      0.000     22.031      0.000         0.008     0.009\n",
      "Node Split        0.0017   7.67e-05     22.777      0.000         0.002     0.002\n",
      "Numb Features     0.0254      0.001     27.374      0.000         0.024     0.027\n",
      "Numb Trees        0.0432      0.001     60.233      0.000         0.042     0.045\n",
      "==============================================================================\n",
      "Omnibus:                       51.158   Durbin-Watson:                   0.159\n",
      "Prob(Omnibus):                  0.000   Jarque-Bera (JB):               30.016\n",
      "Skew:                          -0.040   Prob(JB):                     3.04e-07\n",
      "Kurtosis:                       2.532   Cond. No.                         24.5\n",
      "==============================================================================\n",
      "\n",
      "Warnings:\n",
      "[1] Standard Errors assume that the covariance matrix of the errors is correctly specified.\n"
     ]
    }
   ],
   "source": [
    "import statsmodels.api as sm \n",
    "SM_OLS = sm.OLS(Y_RF, X_RF)\n",
    "SM_fit = SM_OLS.fit()\n",
    "print(SM_fit.summary())"
   ]
  },
  {
   "cell_type": "code",
   "execution_count": 131,
   "metadata": {
    "collapsed": false
   },
   "outputs": [
    {
     "name": "stdout",
     "output_type": "stream",
     "text": [
      "Current size:  [24.0, 16.0]\n"
     ]
    }
   ],
   "source": [
    "fig_size = plt.rcParams[\"figure.figsize\"]\n",
    "print(\"Current size: \", fig_size)\n",
    "plt.rcParams[\"figure.figsize\"] = [24,16]"
   ]
  },
  {
   "cell_type": "code",
   "execution_count": 132,
   "metadata": {
    "collapsed": false,
    "scrolled": true
   },
   "outputs": [
    {
     "data": {
      "image/png": "[encoded data removed]",
      "text/plain": [
       "<matplotlib.figure.Figure at 0x1d7d1c6fba8>"
      ]
     },
     "metadata": {},
     "output_type": "display_data"
    }
   ],
   "source": [
    "scat_plot = pd.tools.plotting.scatter_matrix(Parameter_df2, alpha = 0.2)\n",
    "plt.tight_layout()\n",
    "plt.savefig('scatter.png')"
   ]
  },
  {
   "cell_type": "code",
   "execution_count": 135,
   "metadata": {
    "collapsed": false
   },
   "outputs": [
    {
     "data": {
      "text/plain": [
       "<matplotlib.lines.Line2D at 0x1d7d319cdd8>"
      ]
     },
     "execution_count": 135,
     "metadata": {},
     "output_type": "execute_result"
    },
    {
     "data": {
      "image/png": "[encoded data removed]",
      "text/plain": [
       "<matplotlib.figure.Figure at 0x1d7ca101f98>"
      ]
     },
     "metadata": {},
     "output_type": "display_data"
    }
   ],
   "source": [
    "# hist1 = \n",
    "plt.hist(Parameter_df2[\"CV\"], bins = 30)\n",
    "std = np.std(Parameter_df2[\"CV\"])\n",
    "x_pt = max(Parameter_df2[\"CV\"]) - 2*std \n",
    "plt.axvline(x = x_pt, linewidth = 7, color = 'g' )"
   ]
  },
  {
   "cell_type": "raw",
   "metadata": {},
   "source": [
    "Almost looks normal... \n",
    "To choose the best parameters, I will take the top standard deviation of the best CV results \n",
    "then use the mean/median (?) as the best "
   ]
  },
  {
   "cell_type": "code",
   "execution_count": 137,
   "metadata": {
    "collapsed": false
   },
   "outputs": [
    {
     "data": {
      "text/html": [
       "<div>\n",
       "<table border=\"1\" class=\"dataframe\">\n",
       "  <thead>\n",
       "    <tr style=\"text-align: right;\">\n",
       "      <th></th>\n",
       "      <th>CV</th>\n",
       "      <th>Min Leaf Size</th>\n",
       "      <th>Node Split</th>\n",
       "      <th>Numb Features</th>\n",
       "      <th>Numb Trees</th>\n",
       "    </tr>\n",
       "  </thead>\n",
       "  <tbody>\n",
       "    <tr>\n",
       "      <th>count</th>\n",
       "      <td>31.000000</td>\n",
       "      <td>31.000000</td>\n",
       "      <td>31.000000</td>\n",
       "      <td>31.000000</td>\n",
       "      <td>31.000000</td>\n",
       "    </tr>\n",
       "    <tr>\n",
       "      <th>mean</th>\n",
       "      <td>0.641182</td>\n",
       "      <td>13.516129</td>\n",
       "      <td>59.419355</td>\n",
       "      <td>4.032258</td>\n",
       "      <td>9.580645</td>\n",
       "    </tr>\n",
       "    <tr>\n",
       "      <th>std</th>\n",
       "      <td>0.002473</td>\n",
       "      <td>5.536973</td>\n",
       "      <td>28.979043</td>\n",
       "      <td>1.702623</td>\n",
       "      <td>1.857852</td>\n",
       "    </tr>\n",
       "    <tr>\n",
       "      <th>min</th>\n",
       "      <td>0.639218</td>\n",
       "      <td>1.000000</td>\n",
       "      <td>2.000000</td>\n",
       "      <td>2.000000</td>\n",
       "      <td>4.000000</td>\n",
       "    </tr>\n",
       "    <tr>\n",
       "      <th>25%</th>\n",
       "      <td>0.639707</td>\n",
       "      <td>13.000000</td>\n",
       "      <td>32.000000</td>\n",
       "      <td>2.000000</td>\n",
       "      <td>9.000000</td>\n",
       "    </tr>\n",
       "    <tr>\n",
       "      <th>50%</th>\n",
       "      <td>0.639945</td>\n",
       "      <td>17.000000</td>\n",
       "      <td>72.000000</td>\n",
       "      <td>5.000000</td>\n",
       "      <td>10.000000</td>\n",
       "    </tr>\n",
       "    <tr>\n",
       "      <th>75%</th>\n",
       "      <td>0.641501</td>\n",
       "      <td>17.000000</td>\n",
       "      <td>82.000000</td>\n",
       "      <td>5.000000</td>\n",
       "      <td>11.000000</td>\n",
       "    </tr>\n",
       "    <tr>\n",
       "      <th>max</th>\n",
       "      <td>0.649757</td>\n",
       "      <td>17.000000</td>\n",
       "      <td>82.000000</td>\n",
       "      <td>8.000000</td>\n",
       "      <td>11.000000</td>\n",
       "    </tr>\n",
       "  </tbody>\n",
       "</table>\n",
       "</div>"
      ],
      "text/plain": [
       "              CV  Min Leaf Size  Node Split  Numb Features  Numb Trees\n",
       "count  31.000000      31.000000   31.000000      31.000000   31.000000\n",
       "mean    0.641182      13.516129   59.419355       4.032258    9.580645\n",
       "std     0.002473       5.536973   28.979043       1.702623    1.857852\n",
       "min     0.639218       1.000000    2.000000       2.000000    4.000000\n",
       "25%     0.639707      13.000000   32.000000       2.000000    9.000000\n",
       "50%     0.639945      17.000000   72.000000       5.000000   10.000000\n",
       "75%     0.641501      17.000000   82.000000       5.000000   11.000000\n",
       "max     0.649757      17.000000   82.000000       8.000000   11.000000"
      ]
     },
     "execution_count": 137,
     "metadata": {},
     "output_type": "execute_result"
    }
   ],
   "source": [
    "best_cvs = Parameter_df2[Parameter_df2.CV > (max(Parameter_df2[\"CV\"]) - *std )]\n",
    "best_cvs.describe()"
   ]
  },
  {
   "cell_type": "raw",
   "metadata": {},
   "source": [
    "Let begin using cross validation on the different algorithms "
   ]
  },
  {
   "cell_type": "code",
   "execution_count": 30,
   "metadata": {
    "collapsed": false
   },
   "outputs": [],
   "source": [
    "from sklearn.model_selection import cross_val_score"
   ]
  },
  {
   "cell_type": "code",
   "execution_count": 31,
   "metadata": {
    "collapsed": false
   },
   "outputs": [],
   "source": [
    "all_alg = {log_fit, RF, KNN, eclf1, eclf2}\n",
    "scores = {}\n",
    "score_mean = {}\n",
    "score_sd = {}\n",
    "for alg in all_alg:\n",
    "    scores[alg] = cross_val_score(alg, X, Y, cv = 10);\n",
    "    score_mean[alg] = scores[alg].mean()\n",
    "    score_sd[alg] = scores[alg].std()"
   ]
  },
  {
   "cell_type": "code",
   "execution_count": 32,
   "metadata": {
    "collapsed": false,
    "scrolled": false
   },
   "outputs": [
    {
     "name": "stdout",
     "output_type": "stream",
     "text": [
      "Cross Validation Statistics \n",
      "\n",
      "Mean: 0.6136 Standard Deviation: 0.0234 \n",
      "Mean: 0.6344 Standard Deviation: 0.0207 \n",
      "Mean: 0.6141 Standard Deviation: 0.0200 \n",
      "Mean: 0.6390 Standard Deviation: 0.0212 \n",
      "Mean: 0.6251 Standard Deviation: 0.0354 \n"
     ]
    }
   ],
   "source": [
    "print(\"Cross Validation Statistics \\n\")\n",
    "for alg in all_alg:\n",
    "    print(\"Mean: %0.4f Standard Deviation: %0.4f \" % (scores[alg].mean(), scores[alg].std()))"
   ]
  },
  {
   "cell_type": "raw",
   "metadata": {},
   "source": [
    "Create a pipeline to run all the classic Classification algorithms and get the accuracy number and CV scores  "
   ]
  },
  {
   "cell_type": "code",
   "execution_count": 38,
   "metadata": {
    "collapsed": false
   },
   "outputs": [],
   "source": [
    "logistic = LogisticRegression(random_state=1)\n",
    "RF2 = RandomForestClassifier(random_state=1)\n",
    "KNN2 = KNeighborsClassifier()\n",
    "ensemble1 = VotingClassifier(estimators = [('lr', logistic), ('rf', RF2), ('knn', KNN2)], voting = 'hard')\n",
    "ensemble2 = VotingClassifier(estimators = [('lr', logistic), ('rf', RF2), ('knn', KNN2)], voting = 'soft')\n",
    "\n",
    "alg_total2 = {logistic, RF2, KNN2, ensemble1, ensemble2}\n",
    "names = {\"Logistic Regression\", \"Random Forest\" ,\"KNN\", \"Ensemble Hard\", \"Ensemble Soft\"}"
   ]
  },
  {
   "cell_type": "code",
   "execution_count": 39,
   "metadata": {
    "collapsed": false
   },
   "outputs": [
    {
     "name": "stdout",
     "output_type": "stream",
     "text": [
      "             precision    recall  f1-score   support\n",
      "\n",
      "          1       0.70      0.95      0.80      1407\n",
      "          2       0.89      0.56      0.68      1323\n",
      "          3       0.78      0.78      0.78      1447\n",
      "\n",
      "avg / total       0.79      0.76      0.76      4177\n",
      "\n",
      "[[1333   25   49]\n",
      " [ 323  735  265]\n",
      " [ 254   68 1125]]\n",
      "             precision    recall  f1-score   support\n",
      "\n",
      "          1       0.83      0.90      0.87      1407\n",
      "          2       0.87      0.74      0.80      1323\n",
      "          3       0.83      0.88      0.85      1447\n",
      "\n",
      "avg / total       0.84      0.84      0.84      4177\n",
      "\n",
      "[[1272   68   67]\n",
      " [ 155  979  189]\n",
      " [ 102   78 1267]]\n",
      "             precision    recall  f1-score   support\n",
      "\n",
      "          1       0.61      0.83      0.70      1407\n",
      "          2       0.37      0.06      0.10      1323\n",
      "          3       0.51      0.73      0.60      1447\n",
      "\n",
      "avg / total       0.50      0.55      0.48      4177\n",
      "\n",
      "[[1162   54  191]\n",
      " [ 423   78  822]\n",
      " [ 306   80 1061]]\n",
      "             precision    recall  f1-score   support\n",
      "\n",
      "          1       0.69      0.84      0.76      1407\n",
      "          2       0.60      0.55      0.57      1323\n",
      "          3       0.71      0.62      0.66      1447\n",
      "\n",
      "avg / total       0.67      0.67      0.67      4177\n",
      "\n",
      "[[1182  155   70]\n",
      " [ 302  727  294]\n",
      " [ 220  334  893]]\n",
      "             precision    recall  f1-score   support\n",
      "\n",
      "          1       0.94      0.98      0.96      1407\n",
      "          2       0.94      0.93      0.93      1323\n",
      "          3       0.96      0.93      0.95      1447\n",
      "\n",
      "avg / total       0.95      0.95      0.95      4177\n",
      "\n",
      "[[1374   17   16]\n",
      " [  55 1234   34]\n",
      " [  35   67 1345]]\n"
     ]
    }
   ],
   "source": [
    "for alg2 in alg_total2:\n",
    "    alg2.fit(pca_data1, Y)\n",
    "    temp_predict = alg2.predict(pca_data1)\n",
    "    print(metrics.classification_report(Y,temp_predict))\n",
    "    print(metrics.confusion_matrix(Y, temp_predict))"
   ]
  },
  {
   "cell_type": "code",
   "execution_count": 40,
   "metadata": {
    "collapsed": true
   },
   "outputs": [],
   "source": [
    "scores_pca = {}\n",
    "score_mean_pca = {}\n",
    "score_sd_pca = {}\n",
    "for alg in alg_total2:\n",
    "    scores_pca[alg] = cross_val_score(alg, pca_data1, Y, cv = 5);\n",
    "    score_mean_pca[alg] = scores_pca[alg].mean()\n",
    "    score_sd_pca[alg] = scores_pca[alg].std()"
   ]
  },
  {
   "cell_type": "code",
   "execution_count": 41,
   "metadata": {
    "collapsed": false
   },
   "outputs": [
    {
     "name": "stdout",
     "output_type": "stream",
     "text": [
      "Cross Validation Statistics \n",
      "\n",
      "Mean: 0.5226 Standard Deviation: 0.0222 \n",
      "Mean: 0.5176 Standard Deviation: 0.0171 \n",
      "Mean: 0.5511 Standard Deviation: 0.0290 \n",
      "Mean: 0.5198 Standard Deviation: 0.0176 \n",
      "Mean: 0.4838 Standard Deviation: 0.0153 \n"
     ]
    }
   ],
   "source": [
    "print(\"Cross Validation Statistics \\n\")\n",
    "for alg in alg_total2:\n",
    "    print(\"Mean: %0.4f Standard Deviation: %0.4f \" % (scores_pca[alg].mean(), scores_pca[alg].std()))"
   ]
  },
  {
   "cell_type": "code",
   "execution_count": 42,
   "metadata": {
    "collapsed": false
   },
   "outputs": [],
   "source": [
    "from sklearn.discriminant_analysis import LinearDiscriminantAnalysis"
   ]
  },
  {
   "cell_type": "code",
   "execution_count": 43,
   "metadata": {
    "collapsed": false
   },
   "outputs": [
    {
     "name": "stdout",
     "output_type": "stream",
     "text": [
      "             precision    recall  f1-score   support\n",
      "\n",
      "          1       0.94      0.98      0.96      1407\n",
      "          2       0.94      0.93      0.93      1323\n",
      "          3       0.96      0.93      0.95      1447\n",
      "\n",
      "avg / total       0.95      0.95      0.95      4177\n",
      "\n",
      "[[1374   17   16]\n",
      " [  55 1234   34]\n",
      " [  35   67 1345]]\n"
     ]
    },
    {
     "data": {
      "text/plain": [
       "0.63993643923313481"
      ]
     },
     "execution_count": 43,
     "metadata": {},
     "output_type": "execute_result"
    }
   ],
   "source": [
    "lda = LinearDiscriminantAnalysis()\n",
    "lda.fit(X,Y)\n",
    "lda_predict = lda.predict(X)\n",
    "print(metrics.classification_report(Y,temp_predict))\n",
    "print(metrics.confusion_matrix(Y, temp_predict))\n",
    "cross_val_score(lda,X,Y, cv = 5).mean()\n"
   ]
  },
  {
   "cell_type": "code",
   "execution_count": 143,
   "metadata": {
    "collapsed": false
   },
   "outputs": [
    {
     "data": {
      "text/plain": [
       "array([1, 2, 3], dtype=int64)"
      ]
     },
     "execution_count": 143,
     "metadata": {},
     "output_type": "execute_result"
    }
   ],
   "source": [
    "lda.explained_variance_ratio_"
   ]
  },
  {
   "cell_type": "code",
   "execution_count": 44,
   "metadata": {
    "collapsed": false
   },
   "outputs": [],
   "source": [
    "from sklearn.neural_network import MLPClassifier"
   ]
  },
  {
   "cell_type": "code",
   "execution_count": 45,
   "metadata": {
    "collapsed": false
   },
   "outputs": [
    {
     "name": "stdout",
     "output_type": "stream",
     "text": [
      "             precision    recall  f1-score   support\n",
      "\n",
      "          1       0.94      0.98      0.96      1407\n",
      "          2       0.94      0.93      0.93      1323\n",
      "          3       0.96      0.93      0.95      1447\n",
      "\n",
      "avg / total       0.95      0.95      0.95      4177\n",
      "\n",
      "[[1374   17   16]\n",
      " [  55 1234   34]\n",
      " [  35   67 1345]]\n",
      "0.639219862022\n"
     ]
    }
   ],
   "source": [
    "clf1 = MLPClassifier()\n",
    "clf1.fit(X,Y)\n",
    "clf1_predict = clf1.predict(X)\n",
    "print(metrics.classification_report(Y,temp_predict))\n",
    "print(metrics.confusion_matrix(Y, temp_predict))\n",
    "print(cross_val_score(clf1, X,Y,cv= 5).mean())"
   ]
  },
  {
   "cell_type": "raw",
   "metadata": {
    "collapsed": true
   },
   "source": [
    "Let's try some feature engineering and derive some features that might help \n",
    "Maybe the volume of the abalone might be useful- it gives the general size of the creature \n",
    "We also may try the weight* volume to give more information about the age- bigger and larger could mean older... \n",
    "\n",
    "for volume we will use the length* diameter* height \n",
    "for weight we can use the whole weight "
   ]
  },
  {
   "cell_type": "raw",
   "metadata": {},
   "source": [
    "Lets try ensembling with a Voting Classifier"
   ]
  },
  {
   "cell_type": "code",
   "execution_count": 27,
   "metadata": {
    "collapsed": true
   },
   "outputs": [],
   "source": [
    "from sklearn.ensemble import VotingClassifier"
   ]
  },
  {
   "cell_type": "code",
   "execution_count": 144,
   "metadata": {
    "collapsed": false
   },
   "outputs": [
    {
     "data": {
      "text/plain": [
       "VotingClassifier(estimators=[('lr', LogisticRegression(C=1.0, class_weight=None, dual=False, fit_intercept=True,\n",
       "          intercept_scaling=1, max_iter=100, multi_class='ovr', n_jobs=1,\n",
       "          penalty='l2', random_state=None, solver='liblinear', tol=0.0001,\n",
       "          verbose=0, warm_start=False)), ('rf', RandomF...None, priors=None, shrinkage=None,\n",
       "              solver='svd', store_covariance=False, tol=0.0001))],\n",
       "         n_jobs=1, voting='soft', weights=None)"
      ]
     },
     "execution_count": 144,
     "metadata": {},
     "output_type": "execute_result"
    }
   ],
   "source": [
    "eclf1 = VotingClassifier(estimators = [('lr', log_fit), ('rf', RF), ('knn', KNN), ('nn', clf1), ('lda',lda)], voting = 'hard')\n",
    "eclf2 = VotingClassifier(estimators = [('lr', log_fit), ('rf', RF), ('knn', KNN), ('nn', clf1), ('lda',lda)], voting = 'soft')\n",
    "\n",
    "eclf1.fit(X,Y)\n",
    "eclf2.fit(X,Y)"
   ]
  },
  {
   "cell_type": "code",
   "execution_count": 145,
   "metadata": {
    "collapsed": false
   },
   "outputs": [
    {
     "name": "stdout",
     "output_type": "stream",
     "text": [
      "             precision    recall  f1-score   support\n",
      "\n",
      "          1       0.75      0.81      0.78      1407\n",
      "          2       0.58      0.59      0.59      1323\n",
      "          3       0.75      0.69      0.72      1447\n",
      "\n",
      "avg / total       0.70      0.70      0.70      4177\n",
      "\n",
      "[[1143  234   30]\n",
      " [ 244  782  297]\n",
      " [ 129  323  995]]\n",
      "0.646161986128\n",
      "             precision    recall  f1-score   support\n",
      "\n",
      "          1       0.84      0.85      0.84      1407\n",
      "          2       0.77      0.74      0.75      1323\n",
      "          3       0.84      0.85      0.84      1447\n",
      "\n",
      "avg / total       0.81      0.81      0.81      4177\n",
      "\n",
      "[[1198  162   47]\n",
      " [ 148  980  195]\n",
      " [  88  134 1225]]\n",
      "0.651669546598\n"
     ]
    }
   ],
   "source": [
    "eclf1_predict = eclf1.predict(X)\n",
    "eclf2_predict = eclf2.predict(X)\n",
    "\n",
    "print(metrics.classification_report(Y,eclf1_predict))\n",
    "print(metrics.confusion_matrix(Y, eclf1_predict))\n",
    "print(cross_val_score(eclf1, X,Y,cv= 5).mean())\n",
    "\n",
    "print(metrics.classification_report(Y,eclf2_predict))\n",
    "print(metrics.confusion_matrix(Y, eclf2_predict))\n",
    "print(cross_val_score(eclf2, X,Y,cv= 5).mean())"
   ]
  },
  {
   "cell_type": "raw",
   "metadata": {
    "collapsed": false
   },
   "source": [
    "Using optimal classifiers from tuned parameters above "
   ]
  },
  {
   "cell_type": "code",
   "execution_count": 152,
   "metadata": {
    "collapsed": false
   },
   "outputs": [
    {
     "name": "stdout",
     "output_type": "stream",
     "text": [
      "0.645439412812\n",
      "0.645916448478\n"
     ]
    }
   ],
   "source": [
    "KNN_PT = KNeighborsClassifier (n_neighbors = 20)\n",
    "#RF_PT = RandomForestClassifier(n_estimators=10, max_features=4, min_samples_split=60, min_samples_leaf=14)\n",
    "RF_PT = RandomForestClassifier(n_estimators=9, max_features=5, min_samples_split=72, min_samples_leaf=13)\n",
    "\n",
    "eclf1_o = VotingClassifier(estimators = [('lr', log_fit) ,('rf', RF_PT), ('knn', KNN_PT), \n",
    "                                       ('nn', clf1), ('lda',lda)], voting = 'hard')\n",
    "eclf2_o = VotingClassifier(estimators = [('lr', log_fit), ('rf', RF_PT), ('knn', KNN_PT), \n",
    "                                       ('nn', clf1), ('lda',lda)], voting = 'soft')\n",
    "\n",
    "print(cross_val_score(eclf1_o, X,Y,cv= 5).mean())\n",
    "print(cross_val_score(eclf2_o, X,Y,cv= 5).mean())\n"
   ]
  },
  {
   "cell_type": "code",
   "execution_count": null,
   "metadata": {
    "collapsed": true
   },
   "outputs": [],
   "source": []
  }
 ],
 "metadata": {
  "anaconda-cloud": {},
  "kernelspec": {
   "display_name": "Python [Root]",
   "language": "python",
   "name": "Python [Root]"
  },
  "language_info": {
   "codemirror_mode": {
    "name": "ipython",
    "version": 3
   },
   "file_extension": ".py",
   "mimetype": "text/x-python",
   "name": "python",
   "nbconvert_exporter": "python",
   "pygments_lexer": "ipython3",
   "version": "3.5.2"
  }
 },
 "nbformat": 4,
 "nbformat_minor": 0
}

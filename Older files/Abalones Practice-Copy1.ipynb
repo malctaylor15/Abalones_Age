{
 "cells": [
  {
   "cell_type": "raw",
   "metadata": {},
   "source": [
    "First let's import some packages that might be useful "
   ]
  },
  {
   "cell_type": "code",
   "execution_count": 7,
   "metadata": {
    "collapsed": true
   },
   "outputs": [],
   "source": [
    "import pandas as pd \n",
    "import numpy as np\n",
    "import sklearn as sk \n",
    "import matplotlib.pyplot as plt\n",
    "%matplotlib inline"
   ]
  },
  {
   "cell_type": "raw",
   "metadata": {},
   "source": [
    "Next let's look at the data "
   ]
  },
  {
   "cell_type": "code",
   "execution_count": 8,
   "metadata": {
    "collapsed": false,
    "scrolled": true
   },
   "outputs": [
    {
     "data": {
      "text/html": [
       "<div>\n",
       "<table border=\"1\" class=\"dataframe\">\n",
       "  <thead>\n",
       "    <tr style=\"text-align: right;\">\n",
       "      <th></th>\n",
       "      <th>Sex</th>\n",
       "      <th>Length</th>\n",
       "      <th>Diameter</th>\n",
       "      <th>Height</th>\n",
       "      <th>Whole weight</th>\n",
       "      <th>Shucked weight</th>\n",
       "      <th>Viscera weight</th>\n",
       "      <th>Shell weight</th>\n",
       "      <th>Rings</th>\n",
       "    </tr>\n",
       "  </thead>\n",
       "  <tbody>\n",
       "    <tr>\n",
       "      <th>0</th>\n",
       "      <td>M</td>\n",
       "      <td>0.455</td>\n",
       "      <td>0.365</td>\n",
       "      <td>0.095</td>\n",
       "      <td>0.5140</td>\n",
       "      <td>0.2245</td>\n",
       "      <td>0.1010</td>\n",
       "      <td>0.150</td>\n",
       "      <td>15</td>\n",
       "    </tr>\n",
       "    <tr>\n",
       "      <th>1</th>\n",
       "      <td>M</td>\n",
       "      <td>0.350</td>\n",
       "      <td>0.265</td>\n",
       "      <td>0.090</td>\n",
       "      <td>0.2255</td>\n",
       "      <td>0.0995</td>\n",
       "      <td>0.0485</td>\n",
       "      <td>0.070</td>\n",
       "      <td>7</td>\n",
       "    </tr>\n",
       "    <tr>\n",
       "      <th>2</th>\n",
       "      <td>F</td>\n",
       "      <td>0.530</td>\n",
       "      <td>0.420</td>\n",
       "      <td>0.135</td>\n",
       "      <td>0.6770</td>\n",
       "      <td>0.2565</td>\n",
       "      <td>0.1415</td>\n",
       "      <td>0.210</td>\n",
       "      <td>9</td>\n",
       "    </tr>\n",
       "    <tr>\n",
       "      <th>3</th>\n",
       "      <td>M</td>\n",
       "      <td>0.440</td>\n",
       "      <td>0.365</td>\n",
       "      <td>0.125</td>\n",
       "      <td>0.5160</td>\n",
       "      <td>0.2155</td>\n",
       "      <td>0.1140</td>\n",
       "      <td>0.155</td>\n",
       "      <td>10</td>\n",
       "    </tr>\n",
       "    <tr>\n",
       "      <th>4</th>\n",
       "      <td>I</td>\n",
       "      <td>0.330</td>\n",
       "      <td>0.255</td>\n",
       "      <td>0.080</td>\n",
       "      <td>0.2050</td>\n",
       "      <td>0.0895</td>\n",
       "      <td>0.0395</td>\n",
       "      <td>0.055</td>\n",
       "      <td>7</td>\n",
       "    </tr>\n",
       "  </tbody>\n",
       "</table>\n",
       "</div>"
      ],
      "text/plain": [
       "  Sex  Length  Diameter  Height  Whole weight  Shucked weight  Viscera weight  \\\n",
       "0   M   0.455     0.365   0.095        0.5140          0.2245          0.1010   \n",
       "1   M   0.350     0.265   0.090        0.2255          0.0995          0.0485   \n",
       "2   F   0.530     0.420   0.135        0.6770          0.2565          0.1415   \n",
       "3   M   0.440     0.365   0.125        0.5160          0.2155          0.1140   \n",
       "4   I   0.330     0.255   0.080        0.2050          0.0895          0.0395   \n",
       "\n",
       "   Shell weight  Rings  \n",
       "0         0.150     15  \n",
       "1         0.070      7  \n",
       "2         0.210      9  \n",
       "3         0.155     10  \n",
       "4         0.055      7  "
      ]
     },
     "execution_count": 8,
     "metadata": {},
     "output_type": "execute_result"
    }
   ],
   "source": [
    "data = pd.read_csv(\"toy_ds.csv\")\n",
    "data.head()"
   ]
  },
  {
   "cell_type": "code",
   "execution_count": 9,
   "metadata": {
    "collapsed": false,
    "scrolled": false
   },
   "outputs": [
    {
     "data": {
      "text/html": [
       "<div>\n",
       "<table border=\"1\" class=\"dataframe\">\n",
       "  <thead>\n",
       "    <tr style=\"text-align: right;\">\n",
       "      <th></th>\n",
       "      <th>Length</th>\n",
       "      <th>Diameter</th>\n",
       "      <th>Height</th>\n",
       "      <th>Whole weight</th>\n",
       "      <th>Shucked weight</th>\n",
       "      <th>Viscera weight</th>\n",
       "      <th>Shell weight</th>\n",
       "      <th>Rings</th>\n",
       "    </tr>\n",
       "  </thead>\n",
       "  <tbody>\n",
       "    <tr>\n",
       "      <th>count</th>\n",
       "      <td>4177.000000</td>\n",
       "      <td>4177.000000</td>\n",
       "      <td>4177.000000</td>\n",
       "      <td>4177.000000</td>\n",
       "      <td>4177.000000</td>\n",
       "      <td>4177.000000</td>\n",
       "      <td>4177.000000</td>\n",
       "      <td>4177.000000</td>\n",
       "    </tr>\n",
       "    <tr>\n",
       "      <th>mean</th>\n",
       "      <td>0.523992</td>\n",
       "      <td>0.407881</td>\n",
       "      <td>0.139516</td>\n",
       "      <td>0.828742</td>\n",
       "      <td>0.359367</td>\n",
       "      <td>0.180594</td>\n",
       "      <td>0.238831</td>\n",
       "      <td>9.933684</td>\n",
       "    </tr>\n",
       "    <tr>\n",
       "      <th>std</th>\n",
       "      <td>0.120093</td>\n",
       "      <td>0.099240</td>\n",
       "      <td>0.041827</td>\n",
       "      <td>0.490389</td>\n",
       "      <td>0.221963</td>\n",
       "      <td>0.109614</td>\n",
       "      <td>0.139203</td>\n",
       "      <td>3.224169</td>\n",
       "    </tr>\n",
       "    <tr>\n",
       "      <th>min</th>\n",
       "      <td>0.075000</td>\n",
       "      <td>0.055000</td>\n",
       "      <td>0.000000</td>\n",
       "      <td>0.002000</td>\n",
       "      <td>0.001000</td>\n",
       "      <td>0.000500</td>\n",
       "      <td>0.001500</td>\n",
       "      <td>1.000000</td>\n",
       "    </tr>\n",
       "    <tr>\n",
       "      <th>25%</th>\n",
       "      <td>0.450000</td>\n",
       "      <td>0.350000</td>\n",
       "      <td>0.115000</td>\n",
       "      <td>0.441500</td>\n",
       "      <td>0.186000</td>\n",
       "      <td>0.093500</td>\n",
       "      <td>0.130000</td>\n",
       "      <td>8.000000</td>\n",
       "    </tr>\n",
       "    <tr>\n",
       "      <th>50%</th>\n",
       "      <td>0.545000</td>\n",
       "      <td>0.425000</td>\n",
       "      <td>0.140000</td>\n",
       "      <td>0.799500</td>\n",
       "      <td>0.336000</td>\n",
       "      <td>0.171000</td>\n",
       "      <td>0.234000</td>\n",
       "      <td>9.000000</td>\n",
       "    </tr>\n",
       "    <tr>\n",
       "      <th>75%</th>\n",
       "      <td>0.615000</td>\n",
       "      <td>0.480000</td>\n",
       "      <td>0.165000</td>\n",
       "      <td>1.153000</td>\n",
       "      <td>0.502000</td>\n",
       "      <td>0.253000</td>\n",
       "      <td>0.329000</td>\n",
       "      <td>11.000000</td>\n",
       "    </tr>\n",
       "    <tr>\n",
       "      <th>max</th>\n",
       "      <td>0.815000</td>\n",
       "      <td>0.650000</td>\n",
       "      <td>1.130000</td>\n",
       "      <td>2.825500</td>\n",
       "      <td>1.488000</td>\n",
       "      <td>0.760000</td>\n",
       "      <td>1.005000</td>\n",
       "      <td>29.000000</td>\n",
       "    </tr>\n",
       "  </tbody>\n",
       "</table>\n",
       "</div>"
      ],
      "text/plain": [
       "            Length     Diameter       Height  Whole weight  Shucked weight  \\\n",
       "count  4177.000000  4177.000000  4177.000000   4177.000000     4177.000000   \n",
       "mean      0.523992     0.407881     0.139516      0.828742        0.359367   \n",
       "std       0.120093     0.099240     0.041827      0.490389        0.221963   \n",
       "min       0.075000     0.055000     0.000000      0.002000        0.001000   \n",
       "25%       0.450000     0.350000     0.115000      0.441500        0.186000   \n",
       "50%       0.545000     0.425000     0.140000      0.799500        0.336000   \n",
       "75%       0.615000     0.480000     0.165000      1.153000        0.502000   \n",
       "max       0.815000     0.650000     1.130000      2.825500        1.488000   \n",
       "\n",
       "       Viscera weight  Shell weight        Rings  \n",
       "count     4177.000000   4177.000000  4177.000000  \n",
       "mean         0.180594      0.238831     9.933684  \n",
       "std          0.109614      0.139203     3.224169  \n",
       "min          0.000500      0.001500     1.000000  \n",
       "25%          0.093500      0.130000     8.000000  \n",
       "50%          0.171000      0.234000     9.000000  \n",
       "75%          0.253000      0.329000    11.000000  \n",
       "max          0.760000      1.005000    29.000000  "
      ]
     },
     "execution_count": 9,
     "metadata": {},
     "output_type": "execute_result"
    }
   ],
   "source": [
    "data.describe()"
   ]
  },
  {
   "cell_type": "raw",
   "metadata": {},
   "source": [
    "Change the Sex variable to be numbers - first let's see how many unique \"Sex\"s there are \n",
    "Then we will use one hot encoding"
   ]
  },
  {
   "cell_type": "code",
   "execution_count": 10,
   "metadata": {
    "collapsed": false
   },
   "outputs": [
    {
     "name": "stdout",
     "output_type": "stream",
     "text": [
      "['M' 'F' 'I']\n"
     ]
    }
   ],
   "source": [
    "print(data[\"Sex\"].unique())\n",
    "data = pd.concat([data,pd.get_dummies(data[\"Sex\"])], axis = 1)"
   ]
  },
  {
   "cell_type": "raw",
   "metadata": {
    "collapsed": true
   },
   "source": [
    "We want to sort based on three categories \n",
    "Young (1) - 1-8 \n",
    "Medium (2) - 9-10\n",
    "Old (3) - 11+ "
   ]
  },
  {
   "cell_type": "code",
   "execution_count": 11,
   "metadata": {
    "collapsed": false
   },
   "outputs": [],
   "source": [
    "data[\"AgeCategory\"] = 0\n",
    "data.loc[data['Rings'] <9, \"AgeCategory\"] = 1\n",
    "data.loc[(data['Rings'] >= 9) & (data['Rings'] <= 10), \"AgeCategory\"] = 2\n",
    "data.loc[data['Rings'] >10, \"AgeCategory\" ] = 3\n",
    "data[\"AgeCategory\"] = data[\"AgeCategory\"].astype('category')"
   ]
  },
  {
   "cell_type": "raw",
   "metadata": {},
   "source": [
    "Drop the columns we will not be using "
   ]
  },
  {
   "cell_type": "code",
   "execution_count": 12,
   "metadata": {
    "collapsed": false
   },
   "outputs": [],
   "source": [
    "data[\"ShellWeight\"] = data[\"Shell weight\"]\n",
    "data[\"ShuckedWeight\"] = data[\"Shucked weight\"]\n",
    "data[\"VisceraWeight\"] = data[\"Viscera weight\"]\n",
    "data[\"WholeWeight\"] = data[\"Whole weight\"]"
   ]
  },
  {
   "cell_type": "code",
   "execution_count": 13,
   "metadata": {
    "collapsed": true
   },
   "outputs": [],
   "source": [
    "data_use = data.drop({'Rings', 'Sex', \"Shell weight\", \"Shucked weight\", \"Viscera weight\", \"Whole weight\"},1)"
   ]
  },
  {
   "cell_type": "code",
   "execution_count": 14,
   "metadata": {
    "collapsed": false
   },
   "outputs": [
    {
     "data": {
      "text/html": [
       "<div>\n",
       "<table border=\"1\" class=\"dataframe\">\n",
       "  <thead>\n",
       "    <tr style=\"text-align: right;\">\n",
       "      <th></th>\n",
       "      <th>Sex</th>\n",
       "      <th>Length</th>\n",
       "      <th>Diameter</th>\n",
       "      <th>Height</th>\n",
       "      <th>Whole weight</th>\n",
       "      <th>Shucked weight</th>\n",
       "      <th>Viscera weight</th>\n",
       "      <th>Shell weight</th>\n",
       "      <th>Rings</th>\n",
       "      <th>F</th>\n",
       "      <th>I</th>\n",
       "      <th>M</th>\n",
       "      <th>AgeCategory</th>\n",
       "      <th>ShellWeight</th>\n",
       "      <th>ShuckedWeight</th>\n",
       "      <th>VisceraWeight</th>\n",
       "      <th>WholeWeight</th>\n",
       "    </tr>\n",
       "  </thead>\n",
       "  <tbody>\n",
       "    <tr>\n",
       "      <th>0</th>\n",
       "      <td>M</td>\n",
       "      <td>0.455</td>\n",
       "      <td>0.365</td>\n",
       "      <td>0.095</td>\n",
       "      <td>0.5140</td>\n",
       "      <td>0.2245</td>\n",
       "      <td>0.1010</td>\n",
       "      <td>0.150</td>\n",
       "      <td>15</td>\n",
       "      <td>0.0</td>\n",
       "      <td>0.0</td>\n",
       "      <td>1.0</td>\n",
       "      <td>3</td>\n",
       "      <td>0.150</td>\n",
       "      <td>0.2245</td>\n",
       "      <td>0.1010</td>\n",
       "      <td>0.5140</td>\n",
       "    </tr>\n",
       "    <tr>\n",
       "      <th>1</th>\n",
       "      <td>M</td>\n",
       "      <td>0.350</td>\n",
       "      <td>0.265</td>\n",
       "      <td>0.090</td>\n",
       "      <td>0.2255</td>\n",
       "      <td>0.0995</td>\n",
       "      <td>0.0485</td>\n",
       "      <td>0.070</td>\n",
       "      <td>7</td>\n",
       "      <td>0.0</td>\n",
       "      <td>0.0</td>\n",
       "      <td>1.0</td>\n",
       "      <td>1</td>\n",
       "      <td>0.070</td>\n",
       "      <td>0.0995</td>\n",
       "      <td>0.0485</td>\n",
       "      <td>0.2255</td>\n",
       "    </tr>\n",
       "    <tr>\n",
       "      <th>2</th>\n",
       "      <td>F</td>\n",
       "      <td>0.530</td>\n",
       "      <td>0.420</td>\n",
       "      <td>0.135</td>\n",
       "      <td>0.6770</td>\n",
       "      <td>0.2565</td>\n",
       "      <td>0.1415</td>\n",
       "      <td>0.210</td>\n",
       "      <td>9</td>\n",
       "      <td>1.0</td>\n",
       "      <td>0.0</td>\n",
       "      <td>0.0</td>\n",
       "      <td>2</td>\n",
       "      <td>0.210</td>\n",
       "      <td>0.2565</td>\n",
       "      <td>0.1415</td>\n",
       "      <td>0.6770</td>\n",
       "    </tr>\n",
       "    <tr>\n",
       "      <th>3</th>\n",
       "      <td>M</td>\n",
       "      <td>0.440</td>\n",
       "      <td>0.365</td>\n",
       "      <td>0.125</td>\n",
       "      <td>0.5160</td>\n",
       "      <td>0.2155</td>\n",
       "      <td>0.1140</td>\n",
       "      <td>0.155</td>\n",
       "      <td>10</td>\n",
       "      <td>0.0</td>\n",
       "      <td>0.0</td>\n",
       "      <td>1.0</td>\n",
       "      <td>2</td>\n",
       "      <td>0.155</td>\n",
       "      <td>0.2155</td>\n",
       "      <td>0.1140</td>\n",
       "      <td>0.5160</td>\n",
       "    </tr>\n",
       "    <tr>\n",
       "      <th>4</th>\n",
       "      <td>I</td>\n",
       "      <td>0.330</td>\n",
       "      <td>0.255</td>\n",
       "      <td>0.080</td>\n",
       "      <td>0.2050</td>\n",
       "      <td>0.0895</td>\n",
       "      <td>0.0395</td>\n",
       "      <td>0.055</td>\n",
       "      <td>7</td>\n",
       "      <td>0.0</td>\n",
       "      <td>1.0</td>\n",
       "      <td>0.0</td>\n",
       "      <td>1</td>\n",
       "      <td>0.055</td>\n",
       "      <td>0.0895</td>\n",
       "      <td>0.0395</td>\n",
       "      <td>0.2050</td>\n",
       "    </tr>\n",
       "  </tbody>\n",
       "</table>\n",
       "</div>"
      ],
      "text/plain": [
       "  Sex  Length  Diameter  Height  Whole weight  Shucked weight  Viscera weight  \\\n",
       "0   M   0.455     0.365   0.095        0.5140          0.2245          0.1010   \n",
       "1   M   0.350     0.265   0.090        0.2255          0.0995          0.0485   \n",
       "2   F   0.530     0.420   0.135        0.6770          0.2565          0.1415   \n",
       "3   M   0.440     0.365   0.125        0.5160          0.2155          0.1140   \n",
       "4   I   0.330     0.255   0.080        0.2050          0.0895          0.0395   \n",
       "\n",
       "   Shell weight  Rings    F    I    M AgeCategory  ShellWeight  ShuckedWeight  \\\n",
       "0         0.150     15  0.0  0.0  1.0           3        0.150         0.2245   \n",
       "1         0.070      7  0.0  0.0  1.0           1        0.070         0.0995   \n",
       "2         0.210      9  1.0  0.0  0.0           2        0.210         0.2565   \n",
       "3         0.155     10  0.0  0.0  1.0           2        0.155         0.2155   \n",
       "4         0.055      7  0.0  1.0  0.0           1        0.055         0.0895   \n",
       "\n",
       "   VisceraWeight  WholeWeight  \n",
       "0         0.1010       0.5140  \n",
       "1         0.0485       0.2255  \n",
       "2         0.1415       0.6770  \n",
       "3         0.1140       0.5160  \n",
       "4         0.0395       0.2050  "
      ]
     },
     "execution_count": 14,
     "metadata": {},
     "output_type": "execute_result"
    }
   ],
   "source": [
    "data.head()"
   ]
  },
  {
   "cell_type": "raw",
   "metadata": {},
   "source": [
    "For more information about the sets and save information to a variable "
   ]
  },
  {
   "cell_type": "code",
   "execution_count": 15,
   "metadata": {
    "collapsed": false
   },
   "outputs": [
    {
     "data": {
      "text/html": [
       "<div>\n",
       "<table border=\"1\" class=\"dataframe\">\n",
       "  <thead>\n",
       "    <tr style=\"text-align: right;\">\n",
       "      <th></th>\n",
       "      <th></th>\n",
       "      <th>Diameter</th>\n",
       "      <th>F</th>\n",
       "      <th>Height</th>\n",
       "      <th>I</th>\n",
       "      <th>Length</th>\n",
       "      <th>M</th>\n",
       "      <th>Rings</th>\n",
       "      <th>Shell weight</th>\n",
       "      <th>ShellWeight</th>\n",
       "      <th>Shucked weight</th>\n",
       "      <th>ShuckedWeight</th>\n",
       "      <th>Viscera weight</th>\n",
       "      <th>VisceraWeight</th>\n",
       "      <th>Whole weight</th>\n",
       "      <th>WholeWeight</th>\n",
       "    </tr>\n",
       "    <tr>\n",
       "      <th>AgeCategory</th>\n",
       "      <th></th>\n",
       "      <th></th>\n",
       "      <th></th>\n",
       "      <th></th>\n",
       "      <th></th>\n",
       "      <th></th>\n",
       "      <th></th>\n",
       "      <th></th>\n",
       "      <th></th>\n",
       "      <th></th>\n",
       "      <th></th>\n",
       "      <th></th>\n",
       "      <th></th>\n",
       "      <th></th>\n",
       "      <th></th>\n",
       "      <th></th>\n",
       "    </tr>\n",
       "  </thead>\n",
       "  <tbody>\n",
       "    <tr>\n",
       "      <th rowspan=\"8\" valign=\"top\">1</th>\n",
       "      <th>count</th>\n",
       "      <td>1407.000000</td>\n",
       "      <td>1407.000000</td>\n",
       "      <td>1407.000000</td>\n",
       "      <td>1407.000000</td>\n",
       "      <td>1407.000000</td>\n",
       "      <td>1407.000000</td>\n",
       "      <td>1407.000000</td>\n",
       "      <td>1407.000000</td>\n",
       "      <td>1407.000000</td>\n",
       "      <td>1407.000000</td>\n",
       "      <td>1407.000000</td>\n",
       "      <td>1407.000000</td>\n",
       "      <td>1407.000000</td>\n",
       "      <td>1407.000000</td>\n",
       "      <td>1407.000000</td>\n",
       "    </tr>\n",
       "    <tr>\n",
       "      <th>mean</th>\n",
       "      <td>0.321276</td>\n",
       "      <td>0.132196</td>\n",
       "      <td>0.106596</td>\n",
       "      <td>0.655295</td>\n",
       "      <td>0.420991</td>\n",
       "      <td>0.212509</td>\n",
       "      <td>6.884151</td>\n",
       "      <td>0.121394</td>\n",
       "      <td>0.121394</td>\n",
       "      <td>0.198199</td>\n",
       "      <td>0.198199</td>\n",
       "      <td>0.093357</td>\n",
       "      <td>0.093357</td>\n",
       "      <td>0.432374</td>\n",
       "      <td>0.432374</td>\n",
       "    </tr>\n",
       "    <tr>\n",
       "      <th>std</th>\n",
       "      <td>0.090292</td>\n",
       "      <td>0.338824</td>\n",
       "      <td>0.041830</td>\n",
       "      <td>0.475441</td>\n",
       "      <td>0.111375</td>\n",
       "      <td>0.409228</td>\n",
       "      <td>1.216914</td>\n",
       "      <td>0.080965</td>\n",
       "      <td>0.080965</td>\n",
       "      <td>0.147031</td>\n",
       "      <td>0.147031</td>\n",
       "      <td>0.068090</td>\n",
       "      <td>0.068090</td>\n",
       "      <td>0.306007</td>\n",
       "      <td>0.306007</td>\n",
       "    </tr>\n",
       "    <tr>\n",
       "      <th>min</th>\n",
       "      <td>0.055000</td>\n",
       "      <td>0.000000</td>\n",
       "      <td>0.000000</td>\n",
       "      <td>0.000000</td>\n",
       "      <td>0.075000</td>\n",
       "      <td>0.000000</td>\n",
       "      <td>1.000000</td>\n",
       "      <td>0.001500</td>\n",
       "      <td>0.001500</td>\n",
       "      <td>0.001000</td>\n",
       "      <td>0.001000</td>\n",
       "      <td>0.000500</td>\n",
       "      <td>0.000500</td>\n",
       "      <td>0.002000</td>\n",
       "      <td>0.002000</td>\n",
       "    </tr>\n",
       "    <tr>\n",
       "      <th>25%</th>\n",
       "      <td>0.260000</td>\n",
       "      <td>0.000000</td>\n",
       "      <td>0.085000</td>\n",
       "      <td>0.000000</td>\n",
       "      <td>0.350000</td>\n",
       "      <td>0.000000</td>\n",
       "      <td>6.000000</td>\n",
       "      <td>0.060000</td>\n",
       "      <td>0.060000</td>\n",
       "      <td>0.082250</td>\n",
       "      <td>0.082250</td>\n",
       "      <td>0.040000</td>\n",
       "      <td>0.040000</td>\n",
       "      <td>0.196000</td>\n",
       "      <td>0.196000</td>\n",
       "    </tr>\n",
       "    <tr>\n",
       "      <th>50%</th>\n",
       "      <td>0.325000</td>\n",
       "      <td>0.000000</td>\n",
       "      <td>0.105000</td>\n",
       "      <td>1.000000</td>\n",
       "      <td>0.430000</td>\n",
       "      <td>0.000000</td>\n",
       "      <td>7.000000</td>\n",
       "      <td>0.106500</td>\n",
       "      <td>0.106500</td>\n",
       "      <td>0.165000</td>\n",
       "      <td>0.165000</td>\n",
       "      <td>0.078500</td>\n",
       "      <td>0.078500</td>\n",
       "      <td>0.368500</td>\n",
       "      <td>0.368500</td>\n",
       "    </tr>\n",
       "    <tr>\n",
       "      <th>75%</th>\n",
       "      <td>0.385000</td>\n",
       "      <td>0.000000</td>\n",
       "      <td>0.125000</td>\n",
       "      <td>1.000000</td>\n",
       "      <td>0.500000</td>\n",
       "      <td>0.000000</td>\n",
       "      <td>8.000000</td>\n",
       "      <td>0.169750</td>\n",
       "      <td>0.169750</td>\n",
       "      <td>0.282250</td>\n",
       "      <td>0.282250</td>\n",
       "      <td>0.129250</td>\n",
       "      <td>0.129250</td>\n",
       "      <td>0.597000</td>\n",
       "      <td>0.597000</td>\n",
       "    </tr>\n",
       "    <tr>\n",
       "      <th>max</th>\n",
       "      <td>0.565000</td>\n",
       "      <td>1.000000</td>\n",
       "      <td>1.130000</td>\n",
       "      <td>1.000000</td>\n",
       "      <td>0.720000</td>\n",
       "      <td>1.000000</td>\n",
       "      <td>8.000000</td>\n",
       "      <td>0.470000</td>\n",
       "      <td>0.470000</td>\n",
       "      <td>0.825500</td>\n",
       "      <td>0.825500</td>\n",
       "      <td>0.385500</td>\n",
       "      <td>0.385500</td>\n",
       "      <td>1.710000</td>\n",
       "      <td>1.710000</td>\n",
       "    </tr>\n",
       "    <tr>\n",
       "      <th rowspan=\"8\" valign=\"top\">2</th>\n",
       "      <th>count</th>\n",
       "      <td>1323.000000</td>\n",
       "      <td>1323.000000</td>\n",
       "      <td>1323.000000</td>\n",
       "      <td>1323.000000</td>\n",
       "      <td>1323.000000</td>\n",
       "      <td>1323.000000</td>\n",
       "      <td>1323.000000</td>\n",
       "      <td>1323.000000</td>\n",
       "      <td>1323.000000</td>\n",
       "      <td>1323.000000</td>\n",
       "      <td>1323.000000</td>\n",
       "      <td>1323.000000</td>\n",
       "      <td>1323.000000</td>\n",
       "      <td>1323.000000</td>\n",
       "      <td>1323.000000</td>\n",
       "    </tr>\n",
       "    <tr>\n",
       "      <th>mean</th>\n",
       "      <td>0.436754</td>\n",
       "      <td>0.367347</td>\n",
       "      <td>0.148171</td>\n",
       "      <td>0.200302</td>\n",
       "      <td>0.560170</td>\n",
       "      <td>0.432351</td>\n",
       "      <td>9.479214</td>\n",
       "      <td>0.258777</td>\n",
       "      <td>0.258777</td>\n",
       "      <td>0.416345</td>\n",
       "      <td>0.416345</td>\n",
       "      <td>0.204731</td>\n",
       "      <td>0.204731</td>\n",
       "      <td>0.927122</td>\n",
       "      <td>0.927122</td>\n",
       "    </tr>\n",
       "    <tr>\n",
       "      <th>std</th>\n",
       "      <td>0.069540</td>\n",
       "      <td>0.482264</td>\n",
       "      <td>0.029392</td>\n",
       "      <td>0.400378</td>\n",
       "      <td>0.085249</td>\n",
       "      <td>0.495590</td>\n",
       "      <td>0.499757</td>\n",
       "      <td>0.101876</td>\n",
       "      <td>0.101876</td>\n",
       "      <td>0.194768</td>\n",
       "      <td>0.194768</td>\n",
       "      <td>0.091182</td>\n",
       "      <td>0.091182</td>\n",
       "      <td>0.396543</td>\n",
       "      <td>0.396543</td>\n",
       "    </tr>\n",
       "    <tr>\n",
       "      <th>min</th>\n",
       "      <td>0.205000</td>\n",
       "      <td>0.000000</td>\n",
       "      <td>0.015000</td>\n",
       "      <td>0.000000</td>\n",
       "      <td>0.280000</td>\n",
       "      <td>0.000000</td>\n",
       "      <td>9.000000</td>\n",
       "      <td>0.040000</td>\n",
       "      <td>0.040000</td>\n",
       "      <td>0.045500</td>\n",
       "      <td>0.045500</td>\n",
       "      <td>0.026000</td>\n",
       "      <td>0.026000</td>\n",
       "      <td>0.124000</td>\n",
       "      <td>0.124000</td>\n",
       "    </tr>\n",
       "    <tr>\n",
       "      <th>25%</th>\n",
       "      <td>0.395000</td>\n",
       "      <td>0.000000</td>\n",
       "      <td>0.130000</td>\n",
       "      <td>0.000000</td>\n",
       "      <td>0.515000</td>\n",
       "      <td>0.000000</td>\n",
       "      <td>9.000000</td>\n",
       "      <td>0.185000</td>\n",
       "      <td>0.185000</td>\n",
       "      <td>0.271250</td>\n",
       "      <td>0.271250</td>\n",
       "      <td>0.139000</td>\n",
       "      <td>0.139000</td>\n",
       "      <td>0.646000</td>\n",
       "      <td>0.646000</td>\n",
       "    </tr>\n",
       "    <tr>\n",
       "      <th>50%</th>\n",
       "      <td>0.450000</td>\n",
       "      <td>0.000000</td>\n",
       "      <td>0.150000</td>\n",
       "      <td>0.000000</td>\n",
       "      <td>0.575000</td>\n",
       "      <td>0.000000</td>\n",
       "      <td>9.000000</td>\n",
       "      <td>0.259000</td>\n",
       "      <td>0.259000</td>\n",
       "      <td>0.415000</td>\n",
       "      <td>0.415000</td>\n",
       "      <td>0.199000</td>\n",
       "      <td>0.199000</td>\n",
       "      <td>0.917500</td>\n",
       "      <td>0.917500</td>\n",
       "    </tr>\n",
       "    <tr>\n",
       "      <th>75%</th>\n",
       "      <td>0.485000</td>\n",
       "      <td>1.000000</td>\n",
       "      <td>0.165000</td>\n",
       "      <td>0.000000</td>\n",
       "      <td>0.620000</td>\n",
       "      <td>1.000000</td>\n",
       "      <td>10.000000</td>\n",
       "      <td>0.322500</td>\n",
       "      <td>0.322500</td>\n",
       "      <td>0.539250</td>\n",
       "      <td>0.539250</td>\n",
       "      <td>0.264500</td>\n",
       "      <td>0.264500</td>\n",
       "      <td>1.184000</td>\n",
       "      <td>1.184000</td>\n",
       "    </tr>\n",
       "    <tr>\n",
       "      <th>max</th>\n",
       "      <td>0.600000</td>\n",
       "      <td>1.000000</td>\n",
       "      <td>0.515000</td>\n",
       "      <td>1.000000</td>\n",
       "      <td>0.770000</td>\n",
       "      <td>1.000000</td>\n",
       "      <td>10.000000</td>\n",
       "      <td>0.655000</td>\n",
       "      <td>0.655000</td>\n",
       "      <td>1.253000</td>\n",
       "      <td>1.253000</td>\n",
       "      <td>0.541000</td>\n",
       "      <td>0.541000</td>\n",
       "      <td>2.381000</td>\n",
       "      <td>2.381000</td>\n",
       "    </tr>\n",
       "    <tr>\n",
       "      <th rowspan=\"8\" valign=\"top\">3</th>\n",
       "      <th>count</th>\n",
       "      <td>1447.000000</td>\n",
       "      <td>1447.000000</td>\n",
       "      <td>1447.000000</td>\n",
       "      <td>1447.000000</td>\n",
       "      <td>1447.000000</td>\n",
       "      <td>1447.000000</td>\n",
       "      <td>1447.000000</td>\n",
       "      <td>1447.000000</td>\n",
       "      <td>1447.000000</td>\n",
       "      <td>1447.000000</td>\n",
       "      <td>1447.000000</td>\n",
       "      <td>1447.000000</td>\n",
       "      <td>1447.000000</td>\n",
       "      <td>1447.000000</td>\n",
       "      <td>1447.000000</td>\n",
       "    </tr>\n",
       "    <tr>\n",
       "      <th>mean</th>\n",
       "      <td>0.465695</td>\n",
       "      <td>0.438839</td>\n",
       "      <td>0.163614</td>\n",
       "      <td>0.107118</td>\n",
       "      <td>0.591068</td>\n",
       "      <td>0.454043</td>\n",
       "      <td>13.314444</td>\n",
       "      <td>0.334784</td>\n",
       "      <td>0.334784</td>\n",
       "      <td>0.463986</td>\n",
       "      <td>0.463986</td>\n",
       "      <td>0.243350</td>\n",
       "      <td>0.243350</td>\n",
       "      <td>1.124204</td>\n",
       "      <td>1.124204</td>\n",
       "    </tr>\n",
       "    <tr>\n",
       "      <th>std</th>\n",
       "      <td>0.068473</td>\n",
       "      <td>0.496417</td>\n",
       "      <td>0.029277</td>\n",
       "      <td>0.309370</td>\n",
       "      <td>0.083205</td>\n",
       "      <td>0.498056</td>\n",
       "      <td>2.770863</td>\n",
       "      <td>0.130774</td>\n",
       "      <td>0.130774</td>\n",
       "      <td>0.217678</td>\n",
       "      <td>0.217678</td>\n",
       "      <td>0.103497</td>\n",
       "      <td>0.103497</td>\n",
       "      <td>0.458919</td>\n",
       "      <td>0.458919</td>\n",
       "    </tr>\n",
       "    <tr>\n",
       "      <th>min</th>\n",
       "      <td>0.235000</td>\n",
       "      <td>0.000000</td>\n",
       "      <td>0.060000</td>\n",
       "      <td>0.000000</td>\n",
       "      <td>0.310000</td>\n",
       "      <td>0.000000</td>\n",
       "      <td>11.000000</td>\n",
       "      <td>0.040000</td>\n",
       "      <td>0.040000</td>\n",
       "      <td>0.041500</td>\n",
       "      <td>0.041500</td>\n",
       "      <td>0.024000</td>\n",
       "      <td>0.024000</td>\n",
       "      <td>0.120000</td>\n",
       "      <td>0.120000</td>\n",
       "    </tr>\n",
       "    <tr>\n",
       "      <th>25%</th>\n",
       "      <td>0.420000</td>\n",
       "      <td>0.000000</td>\n",
       "      <td>0.145000</td>\n",
       "      <td>0.000000</td>\n",
       "      <td>0.535000</td>\n",
       "      <td>0.000000</td>\n",
       "      <td>11.000000</td>\n",
       "      <td>0.249000</td>\n",
       "      <td>0.249000</td>\n",
       "      <td>0.299500</td>\n",
       "      <td>0.299500</td>\n",
       "      <td>0.166000</td>\n",
       "      <td>0.166000</td>\n",
       "      <td>0.793500</td>\n",
       "      <td>0.793500</td>\n",
       "    </tr>\n",
       "    <tr>\n",
       "      <th>50%</th>\n",
       "      <td>0.475000</td>\n",
       "      <td>0.000000</td>\n",
       "      <td>0.165000</td>\n",
       "      <td>0.000000</td>\n",
       "      <td>0.600000</td>\n",
       "      <td>0.000000</td>\n",
       "      <td>12.000000</td>\n",
       "      <td>0.324500</td>\n",
       "      <td>0.324500</td>\n",
       "      <td>0.437000</td>\n",
       "      <td>0.437000</td>\n",
       "      <td>0.234000</td>\n",
       "      <td>0.234000</td>\n",
       "      <td>1.092000</td>\n",
       "      <td>1.092000</td>\n",
       "    </tr>\n",
       "    <tr>\n",
       "      <th>75%</th>\n",
       "      <td>0.515000</td>\n",
       "      <td>1.000000</td>\n",
       "      <td>0.185000</td>\n",
       "      <td>0.000000</td>\n",
       "      <td>0.650000</td>\n",
       "      <td>1.000000</td>\n",
       "      <td>15.000000</td>\n",
       "      <td>0.410000</td>\n",
       "      <td>0.410000</td>\n",
       "      <td>0.598000</td>\n",
       "      <td>0.598000</td>\n",
       "      <td>0.306000</td>\n",
       "      <td>0.306000</td>\n",
       "      <td>1.410500</td>\n",
       "      <td>1.410500</td>\n",
       "    </tr>\n",
       "    <tr>\n",
       "      <th>max</th>\n",
       "      <td>0.650000</td>\n",
       "      <td>1.000000</td>\n",
       "      <td>0.250000</td>\n",
       "      <td>1.000000</td>\n",
       "      <td>0.815000</td>\n",
       "      <td>1.000000</td>\n",
       "      <td>29.000000</td>\n",
       "      <td>1.005000</td>\n",
       "      <td>1.005000</td>\n",
       "      <td>1.488000</td>\n",
       "      <td>1.488000</td>\n",
       "      <td>0.760000</td>\n",
       "      <td>0.760000</td>\n",
       "      <td>2.825500</td>\n",
       "      <td>2.825500</td>\n",
       "    </tr>\n",
       "  </tbody>\n",
       "</table>\n",
       "</div>"
      ],
      "text/plain": [
       "                      Diameter            F       Height            I  \\\n",
       "AgeCategory                                                             \n",
       "1           count  1407.000000  1407.000000  1407.000000  1407.000000   \n",
       "            mean      0.321276     0.132196     0.106596     0.655295   \n",
       "            std       0.090292     0.338824     0.041830     0.475441   \n",
       "            min       0.055000     0.000000     0.000000     0.000000   \n",
       "            25%       0.260000     0.000000     0.085000     0.000000   \n",
       "            50%       0.325000     0.000000     0.105000     1.000000   \n",
       "            75%       0.385000     0.000000     0.125000     1.000000   \n",
       "            max       0.565000     1.000000     1.130000     1.000000   \n",
       "2           count  1323.000000  1323.000000  1323.000000  1323.000000   \n",
       "            mean      0.436754     0.367347     0.148171     0.200302   \n",
       "            std       0.069540     0.482264     0.029392     0.400378   \n",
       "            min       0.205000     0.000000     0.015000     0.000000   \n",
       "            25%       0.395000     0.000000     0.130000     0.000000   \n",
       "            50%       0.450000     0.000000     0.150000     0.000000   \n",
       "            75%       0.485000     1.000000     0.165000     0.000000   \n",
       "            max       0.600000     1.000000     0.515000     1.000000   \n",
       "3           count  1447.000000  1447.000000  1447.000000  1447.000000   \n",
       "            mean      0.465695     0.438839     0.163614     0.107118   \n",
       "            std       0.068473     0.496417     0.029277     0.309370   \n",
       "            min       0.235000     0.000000     0.060000     0.000000   \n",
       "            25%       0.420000     0.000000     0.145000     0.000000   \n",
       "            50%       0.475000     0.000000     0.165000     0.000000   \n",
       "            75%       0.515000     1.000000     0.185000     0.000000   \n",
       "            max       0.650000     1.000000     0.250000     1.000000   \n",
       "\n",
       "                        Length            M        Rings  Shell weight  \\\n",
       "AgeCategory                                                              \n",
       "1           count  1407.000000  1407.000000  1407.000000   1407.000000   \n",
       "            mean      0.420991     0.212509     6.884151      0.121394   \n",
       "            std       0.111375     0.409228     1.216914      0.080965   \n",
       "            min       0.075000     0.000000     1.000000      0.001500   \n",
       "            25%       0.350000     0.000000     6.000000      0.060000   \n",
       "            50%       0.430000     0.000000     7.000000      0.106500   \n",
       "            75%       0.500000     0.000000     8.000000      0.169750   \n",
       "            max       0.720000     1.000000     8.000000      0.470000   \n",
       "2           count  1323.000000  1323.000000  1323.000000   1323.000000   \n",
       "            mean      0.560170     0.432351     9.479214      0.258777   \n",
       "            std       0.085249     0.495590     0.499757      0.101876   \n",
       "            min       0.280000     0.000000     9.000000      0.040000   \n",
       "            25%       0.515000     0.000000     9.000000      0.185000   \n",
       "            50%       0.575000     0.000000     9.000000      0.259000   \n",
       "            75%       0.620000     1.000000    10.000000      0.322500   \n",
       "            max       0.770000     1.000000    10.000000      0.655000   \n",
       "3           count  1447.000000  1447.000000  1447.000000   1447.000000   \n",
       "            mean      0.591068     0.454043    13.314444      0.334784   \n",
       "            std       0.083205     0.498056     2.770863      0.130774   \n",
       "            min       0.310000     0.000000    11.000000      0.040000   \n",
       "            25%       0.535000     0.000000    11.000000      0.249000   \n",
       "            50%       0.600000     0.000000    12.000000      0.324500   \n",
       "            75%       0.650000     1.000000    15.000000      0.410000   \n",
       "            max       0.815000     1.000000    29.000000      1.005000   \n",
       "\n",
       "                   ShellWeight  Shucked weight  ShuckedWeight  Viscera weight  \\\n",
       "AgeCategory                                                                     \n",
       "1           count  1407.000000     1407.000000    1407.000000     1407.000000   \n",
       "            mean      0.121394        0.198199       0.198199        0.093357   \n",
       "            std       0.080965        0.147031       0.147031        0.068090   \n",
       "            min       0.001500        0.001000       0.001000        0.000500   \n",
       "            25%       0.060000        0.082250       0.082250        0.040000   \n",
       "            50%       0.106500        0.165000       0.165000        0.078500   \n",
       "            75%       0.169750        0.282250       0.282250        0.129250   \n",
       "            max       0.470000        0.825500       0.825500        0.385500   \n",
       "2           count  1323.000000     1323.000000    1323.000000     1323.000000   \n",
       "            mean      0.258777        0.416345       0.416345        0.204731   \n",
       "            std       0.101876        0.194768       0.194768        0.091182   \n",
       "            min       0.040000        0.045500       0.045500        0.026000   \n",
       "            25%       0.185000        0.271250       0.271250        0.139000   \n",
       "            50%       0.259000        0.415000       0.415000        0.199000   \n",
       "            75%       0.322500        0.539250       0.539250        0.264500   \n",
       "            max       0.655000        1.253000       1.253000        0.541000   \n",
       "3           count  1447.000000     1447.000000    1447.000000     1447.000000   \n",
       "            mean      0.334784        0.463986       0.463986        0.243350   \n",
       "            std       0.130774        0.217678       0.217678        0.103497   \n",
       "            min       0.040000        0.041500       0.041500        0.024000   \n",
       "            25%       0.249000        0.299500       0.299500        0.166000   \n",
       "            50%       0.324500        0.437000       0.437000        0.234000   \n",
       "            75%       0.410000        0.598000       0.598000        0.306000   \n",
       "            max       1.005000        1.488000       1.488000        0.760000   \n",
       "\n",
       "                   VisceraWeight  Whole weight  WholeWeight  \n",
       "AgeCategory                                                  \n",
       "1           count    1407.000000   1407.000000  1407.000000  \n",
       "            mean        0.093357      0.432374     0.432374  \n",
       "            std         0.068090      0.306007     0.306007  \n",
       "            min         0.000500      0.002000     0.002000  \n",
       "            25%         0.040000      0.196000     0.196000  \n",
       "            50%         0.078500      0.368500     0.368500  \n",
       "            75%         0.129250      0.597000     0.597000  \n",
       "            max         0.385500      1.710000     1.710000  \n",
       "2           count    1323.000000   1323.000000  1323.000000  \n",
       "            mean        0.204731      0.927122     0.927122  \n",
       "            std         0.091182      0.396543     0.396543  \n",
       "            min         0.026000      0.124000     0.124000  \n",
       "            25%         0.139000      0.646000     0.646000  \n",
       "            50%         0.199000      0.917500     0.917500  \n",
       "            75%         0.264500      1.184000     1.184000  \n",
       "            max         0.541000      2.381000     2.381000  \n",
       "3           count    1447.000000   1447.000000  1447.000000  \n",
       "            mean        0.243350      1.124204     1.124204  \n",
       "            std         0.103497      0.458919     0.458919  \n",
       "            min         0.024000      0.120000     0.120000  \n",
       "            25%         0.166000      0.793500     0.793500  \n",
       "            50%         0.234000      1.092000     1.092000  \n",
       "            75%         0.306000      1.410500     1.410500  \n",
       "            max         0.760000      2.825500     2.825500  "
      ]
     },
     "execution_count": 15,
     "metadata": {},
     "output_type": "execute_result"
    }
   ],
   "source": [
    "data.groupby('AgeCategory').describe()"
   ]
  },
  {
   "cell_type": "raw",
   "metadata": {},
   "source": [
    "Let's try plotting several parameters to have a better look at the data \n",
    "Let's start with the weights first "
   ]
  },
  {
   "cell_type": "code",
   "execution_count": 16,
   "metadata": {
    "collapsed": false
   },
   "outputs": [
    {
     "data": {
      "text/plain": [
       "<matplotlib.text.Text at 0x1d02282deb8>"
      ]
     },
     "execution_count": 16,
     "metadata": {},
     "output_type": "execute_result"
    },
    {
     "data": {
      "image/png": "[encoded data removed]",
      "text/plain": [
       "<matplotlib.figure.Figure at 0x1d0223335c0>"
      ]
     },
     "metadata": {},
     "output_type": "display_data"
    }
   ],
   "source": [
    "# Specify Parameters for graphs \n",
    "fig = plt.figure(figsize=(18,6), dpi=1600) \n",
    "alpha=alpha_scatterplot = 0.2 \n",
    "alpha_bar_chart = 0.55\n",
    "\n",
    "plt.subplot2grid((2,3),(0,0))\n",
    "data.ShellWeight[data.AgeCategory == 1].plot(kind = 'kde')\n",
    "data.ShellWeight[data.AgeCategory == 2].plot(kind = 'kde')\n",
    "data.ShellWeight[data.AgeCategory == 3].plot(kind = 'kde')\n",
    "plt.legend((\"Young Class\", \"Medium Age Class\", \"Old Class\"))\n",
    "plt.title(\"Shell weight distribution by age class\")\n",
    "\n",
    "plt.subplot2grid((2,3),(0,1))\n",
    "data.ShuckedWeight[data.AgeCategory == 1].plot(kind = 'kde')\n",
    "data.ShuckedWeight[data.AgeCategory == 2].plot(kind = 'kde')\n",
    "data.ShuckedWeight[data.AgeCategory == 3].plot(kind = 'kde')\n",
    "plt.legend((\"Young Class\", \"Medium Age Class\", \"Old Class\"))\n",
    "plt.title(\"Shucked weight distribution by age class\")\n",
    "\n",
    "plt.subplot2grid((2,3),(0,2))\n",
    "data.VisceraWeight[data.AgeCategory == 1].plot(kind = 'kde')\n",
    "data.VisceraWeight[data.AgeCategory == 2].plot(kind = 'kde')\n",
    "data.VisceraWeight[data.AgeCategory == 3].plot(kind = 'kde')\n",
    "plt.legend((\"Young Class\", \"Medium Age Class\", \"Old Class\"))\n",
    "plt.title(\"Viscera weight distribution by age class\")\n",
    "\n",
    "plt.subplot2grid((2,3),(1,0), colspan = 3)\n",
    "# Plot kernel density estimate of the whole weight by age category \n",
    "data.WholeWeight[data.AgeCategory == 1].plot(kind = 'kde')\n",
    "data.WholeWeight[data.AgeCategory == 2].plot(kind = 'kde')\n",
    "data.WholeWeight[data.AgeCategory == 3].plot(kind = 'kde')\n",
    "\n",
    "plt.xlabel(\"Weight\")\n",
    "plt.legend((\"Young Class\", \"Medium Age Class\", \"Old Class\"))\n",
    "plt.title(\"Whole weight distribution by age class\")"
   ]
  },
  {
   "cell_type": "code",
   "execution_count": 17,
   "metadata": {
    "collapsed": false
   },
   "outputs": [
    {
     "data": {
      "text/plain": [
       "<matplotlib.legend.Legend at 0x1d0227f2860>"
      ]
     },
     "execution_count": 17,
     "metadata": {},
     "output_type": "execute_result"
    },
    {
     "data": {
      "image/png": "[encoded data removed]",
      "text/plain": [
       "<matplotlib.figure.Figure at 0x1d0227f2da0>"
      ]
     },
     "metadata": {},
     "output_type": "display_data"
    }
   ],
   "source": [
    "data_M = data.AgeCategory[data.Sex == 'M'].value_counts().sort_index()\n",
    "data_F = data.AgeCategory[data.Sex == 'F'].value_counts().sort_index()\n",
    "data_I = data.AgeCategory[data.Sex == 'I'].value_counts().sort_index()\n",
    "\n",
    "data_M.plot(kind = 'barh', color = \"b\", label = \"M\", alpha = 0.55)\n",
    "data_F.plot(kind = 'barh', color = \"r\", label = \"F\", alpha = 0.55)\n",
    "data_I.plot(kind = 'barh', color = \"g\", label = \"I\", alpha = 0.55)\n",
    "\n",
    "plt.ylabel(\"Age Category\")\n",
    "plt.title(\"Sex and Age Distribution\")\n",
    "plt.legend(loc='best')\n",
    "\n",
    "\n",
    "#data.Sex.value_counts().plot(kind= \"barh\", alpha = 0.55)"
   ]
  },
  {
   "cell_type": "raw",
   "metadata": {},
   "source": [
    "Interpretting the above graph\n",
    "The dark green represents the limit to where all 3 are in common. \n",
    "The deep purple in the first two graphs indicate that \"I\" had the least in those two cases.\n",
    "Male and female cases had significantly more observations in the old and medium cases.\n",
    "For the younger observations, there were many more unidentified cases. (This makes sense as the gender parts could still be growing. "
   ]
  },
  {
   "cell_type": "code",
   "execution_count": 18,
   "metadata": {
    "collapsed": false
   },
   "outputs": [],
   "source": [
    "data_FE = data_use\n",
    "data_FE[\"Volume\"] = data_use[\"Length\"]*data_use[\"Diameter\"]*data_use[\"Height\"]\n",
    "data_FE[\"Vol*Weight\"] = data_use[\"Volume\"] * data_use[\"WholeWeight\"]"
   ]
  },
  {
   "cell_type": "code",
   "execution_count": 19,
   "metadata": {
    "collapsed": false
   },
   "outputs": [
    {
     "data": {
      "text/plain": [
       "<matplotlib.text.Text at 0x1d022bb4ef0>"
      ]
     },
     "execution_count": 19,
     "metadata": {},
     "output_type": "execute_result"
    },
    {
     "data": {
      "image/png": "[encoded data removed]",
      "text/plain": [
       "<matplotlib.figure.Figure at 0x1d022ad0e10>"
      ]
     },
     "metadata": {},
     "output_type": "display_data"
    }
   ],
   "source": [
    "# Specify Parameters for graphs \n",
    "fig = plt.figure(figsize=(18,6), dpi=1600) \n",
    "alpha=alpha_scatterplot = 0.2 \n",
    "alpha_bar_chart = 0.55\n",
    "\n",
    "\n",
    "plt.subplot2grid((2,2),(0,0))\n",
    "data.Height[data.AgeCategory == 1].plot(kind = 'kde')\n",
    "data.Height[data.AgeCategory == 2].plot(kind = 'kde')\n",
    "data.Height[data.AgeCategory == 3].plot(kind = 'kde')\n",
    "plt.legend((\"Young Class\", \"Medium Age Class\", \"Old Class\"))\n",
    "plt.title(\"Height distribution by age class\")\n",
    "\n",
    "plt.subplot2grid((2,2),(0,1))\n",
    "data.Diameter[data.AgeCategory == 1].plot(kind = 'kde')\n",
    "data.Diameter[data.AgeCategory == 2].plot(kind = 'kde')\n",
    "data.Diameter[data.AgeCategory == 3].plot(kind = 'kde')\n",
    "plt.legend((\"Young Class\", \"Medium Age Class\", \"Old Class\"), loc = 'best')\n",
    "plt.title(\"Diameter distribution by age class\")\n",
    "\n",
    "plt.subplot2grid((2,2),(1,0))\n",
    "data.Length[data.AgeCategory == 1].plot(kind = 'kde')\n",
    "data.Length[data.AgeCategory == 2].plot(kind = 'kde')\n",
    "data.Length[data.AgeCategory == 3].plot(kind = 'kde')\n",
    "plt.legend((\"Young Class\", \"Medium Age Class\", \"Old Class\"), loc = 'best')\n",
    "plt.title(\"Length distribution by age class\")\n",
    "\n",
    "plt.subplot2grid((2,2),(1,1))\n",
    "# Plot kernel density estimate of the whole weight by age category \n",
    "data_FE.Volume[data_FE.AgeCategory == 1].plot(kind = 'kde')\n",
    "data_FE.Volume[data_FE.AgeCategory == 2].plot(kind = 'kde')\n",
    "data_FE.Volume[data_FE.AgeCategory == 3].plot(kind = 'kde')\n",
    "\n",
    "plt.legend((\"Young Class\", \"Medium Age Class\", \"Old Class\"))\n",
    "plt.title(\"Volume distribution by age class\")"
   ]
  },
  {
   "cell_type": "raw",
   "metadata": {
    "collapsed": false
   },
   "source": [
    "Let's try some feature engineering and derive some features that might help \n",
    "Maybe the volume of the abalone might be useful- it gives the general size of the creature \n",
    "We also may try the weight* volume to give more information about the age- bigger and larger could mean older... \n",
    "\n",
    "for volume we will use the length* diameter* height \n",
    "for weight we can use the whole weight "
   ]
  },
  {
   "cell_type": "raw",
   "metadata": {},
   "source": [
    "Now that we know more about our data set and it is ready to be used... lets try a multinomial logistics regression\n",
    "Start by importing the Logisitic Regression Module from sklearn "
   ]
  },
  {
   "cell_type": "raw",
   "metadata": {},
   "source": [
    "Split dataframe into input and output variables "
   ]
  },
  {
   "cell_type": "code",
   "execution_count": 20,
   "metadata": {
    "collapsed": false
   },
   "outputs": [],
   "source": [
    "from sklearn.preprocessing import StandardScaler\n",
    "from sklearn.model_selection import train_test_split"
   ]
  },
  {
   "cell_type": "code",
   "execution_count": 65,
   "metadata": {
    "collapsed": false
   },
   "outputs": [],
   "source": [
    "X1 = data_FE.drop('AgeCategory', 1)\n",
    "Y = data_FE[\"AgeCategory\"].astype('category')\n",
    "X2 = StandardScaler().fit_transform(X1)\n",
    "X3 = pd.DataFrame(data= X2[0:,0:], index = range(len(X2)))\n",
    "X_train1, X_test1, y_train1, y_test1 = train_test_split(X1,Y, test_size = 0.25)\n",
    "X = X_train1\n",
    "Y = y_train1"
   ]
  },
  {
   "cell_type": "code",
   "execution_count": 75,
   "metadata": {
    "collapsed": false
   },
   "outputs": [
    {
     "data": {
      "text/html": [
       "<div>\n",
       "<table border=\"1\" class=\"dataframe\">\n",
       "  <thead>\n",
       "    <tr style=\"text-align: right;\">\n",
       "      <th></th>\n",
       "      <th>0</th>\n",
       "      <th>1</th>\n",
       "      <th>2</th>\n",
       "      <th>3</th>\n",
       "      <th>4</th>\n",
       "      <th>5</th>\n",
       "      <th>6</th>\n",
       "      <th>7</th>\n",
       "      <th>8</th>\n",
       "      <th>9</th>\n",
       "      <th>10</th>\n",
       "      <th>11</th>\n",
       "    </tr>\n",
       "  </thead>\n",
       "  <tbody>\n",
       "    <tr>\n",
       "      <th>0</th>\n",
       "      <td>-0.574558</td>\n",
       "      <td>-0.432149</td>\n",
       "      <td>-1.064424</td>\n",
       "      <td>-0.674834</td>\n",
       "      <td>-0.688018</td>\n",
       "      <td>1.316677</td>\n",
       "      <td>-0.638217</td>\n",
       "      <td>-0.607685</td>\n",
       "      <td>-0.726212</td>\n",
       "      <td>-0.641898</td>\n",
       "      <td>-0.895386</td>\n",
       "      <td>-0.740819</td>\n",
       "    </tr>\n",
       "    <tr>\n",
       "      <th>1</th>\n",
       "      <td>-1.448986</td>\n",
       "      <td>-1.439929</td>\n",
       "      <td>-1.183978</td>\n",
       "      <td>-0.674834</td>\n",
       "      <td>-0.688018</td>\n",
       "      <td>1.316677</td>\n",
       "      <td>-1.212987</td>\n",
       "      <td>-1.170910</td>\n",
       "      <td>-1.205221</td>\n",
       "      <td>-1.230277</td>\n",
       "      <td>-1.246658</td>\n",
       "      <td>-0.891501</td>\n",
       "    </tr>\n",
       "    <tr>\n",
       "      <th>2</th>\n",
       "      <td>0.050033</td>\n",
       "      <td>0.122130</td>\n",
       "      <td>-0.107991</td>\n",
       "      <td>1.481846</td>\n",
       "      <td>-0.688018</td>\n",
       "      <td>-0.759488</td>\n",
       "      <td>-0.207139</td>\n",
       "      <td>-0.463500</td>\n",
       "      <td>-0.356690</td>\n",
       "      <td>-0.309469</td>\n",
       "      <td>-0.220520</td>\n",
       "      <td>-0.444757</td>\n",
       "    </tr>\n",
       "    <tr>\n",
       "      <th>3</th>\n",
       "      <td>-0.699476</td>\n",
       "      <td>-0.432149</td>\n",
       "      <td>-0.347099</td>\n",
       "      <td>-0.674834</td>\n",
       "      <td>-0.688018</td>\n",
       "      <td>1.316677</td>\n",
       "      <td>-0.602294</td>\n",
       "      <td>-0.648238</td>\n",
       "      <td>-0.607600</td>\n",
       "      <td>-0.637819</td>\n",
       "      <td>-0.692184</td>\n",
       "      <td>-0.686392</td>\n",
       "    </tr>\n",
       "    <tr>\n",
       "      <th>4</th>\n",
       "      <td>-1.615544</td>\n",
       "      <td>-1.540707</td>\n",
       "      <td>-1.423087</td>\n",
       "      <td>-0.674834</td>\n",
       "      <td>1.453451</td>\n",
       "      <td>-0.759488</td>\n",
       "      <td>-1.320757</td>\n",
       "      <td>-1.215968</td>\n",
       "      <td>-1.287337</td>\n",
       "      <td>-1.272086</td>\n",
       "      <td>-1.323039</td>\n",
       "      <td>-0.903656</td>\n",
       "    </tr>\n",
       "  </tbody>\n",
       "</table>\n",
       "</div>"
      ],
      "text/plain": [
       "         0         1         2         3         4         5         6   \\\n",
       "0 -0.574558 -0.432149 -1.064424 -0.674834 -0.688018  1.316677 -0.638217   \n",
       "1 -1.448986 -1.439929 -1.183978 -0.674834 -0.688018  1.316677 -1.212987   \n",
       "2  0.050033  0.122130 -0.107991  1.481846 -0.688018 -0.759488 -0.207139   \n",
       "3 -0.699476 -0.432149 -0.347099 -0.674834 -0.688018  1.316677 -0.602294   \n",
       "4 -1.615544 -1.540707 -1.423087 -0.674834  1.453451 -0.759488 -1.320757   \n",
       "\n",
       "         7         8         9         10        11  \n",
       "0 -0.607685 -0.726212 -0.641898 -0.895386 -0.740819  \n",
       "1 -1.170910 -1.205221 -1.230277 -1.246658 -0.891501  \n",
       "2 -0.463500 -0.356690 -0.309469 -0.220520 -0.444757  \n",
       "3 -0.648238 -0.607600 -0.637819 -0.692184 -0.686392  \n",
       "4 -1.215968 -1.287337 -1.272086 -1.323039 -0.903656  "
      ]
     },
     "execution_count": 75,
     "metadata": {},
     "output_type": "execute_result"
    }
   ],
   "source": [
    "X3.head()\n"
   ]
  },
  {
   "cell_type": "code",
   "execution_count": 66,
   "metadata": {
    "collapsed": false
   },
   "outputs": [
    {
     "data": {
      "text/plain": [
       "RangeIndex(start=0, stop=4177, step=1)"
      ]
     },
     "execution_count": 66,
     "metadata": {},
     "output_type": "execute_result"
    }
   ],
   "source": [
    "data_FE.index"
   ]
  },
  {
   "cell_type": "code",
   "execution_count": 67,
   "metadata": {
    "collapsed": false
   },
   "outputs": [
    {
     "data": {
      "text/plain": [
       "(3132,)"
      ]
     },
     "execution_count": 67,
     "metadata": {},
     "output_type": "execute_result"
    }
   ],
   "source": [
    "Y.shape"
   ]
  },
  {
   "cell_type": "raw",
   "metadata": {},
   "source": [
    "Let's try looking into the correlation structure of the sections of the data sets \n",
    "We will have to remove the sex class, seperate by age category then "
   ]
  },
  {
   "cell_type": "code",
   "execution_count": 68,
   "metadata": {
    "collapsed": true
   },
   "outputs": [],
   "source": [
    "from sklearn.decomposition import PCA "
   ]
  },
  {
   "cell_type": "code",
   "execution_count": 69,
   "metadata": {
    "collapsed": false
   },
   "outputs": [
    {
     "data": {
      "text/plain": [
       "PCA(copy=True, iterated_power='auto', n_components=7, random_state=None,\n",
       "  svd_solver='auto', tol=0.0, whiten=False)"
      ]
     },
     "execution_count": 69,
     "metadata": {},
     "output_type": "execute_result"
    }
   ],
   "source": [
    "pca1 = PCA(n_components=7)\n",
    "pca1.fit(X_train1)"
   ]
  },
  {
   "cell_type": "code",
   "execution_count": 70,
   "metadata": {
    "collapsed": false
   },
   "outputs": [
    {
     "name": "stdout",
     "output_type": "stream",
     "text": [
      "[  5.11803325e-01   3.35229641e-01   1.44157126e-01   3.90911645e-03\n",
      "   2.92223862e-03   1.05140731e-03   3.98450909e-04]\n"
     ]
    }
   ],
   "source": [
    "pca_score = pca1.explained_variance_ratio_\n",
    "print(pca_score)"
   ]
  },
  {
   "cell_type": "raw",
   "metadata": {},
   "source": [
    "First principal component explains 97% of the variance... We might only need that for the future analysis "
   ]
  },
  {
   "cell_type": "code",
   "execution_count": 71,
   "metadata": {
    "collapsed": false
   },
   "outputs": [],
   "source": [
    "pca1_comp = PCA(n_components=2)\n",
    "pca_data1 = pca1_comp.fit_transform(X_train1)"
   ]
  },
  {
   "cell_type": "raw",
   "metadata": {},
   "source": [
    "Run logistic regression in various settings... "
   ]
  },
  {
   "cell_type": "code",
   "execution_count": 72,
   "metadata": {
    "collapsed": true
   },
   "outputs": [],
   "source": [
    "from sklearn.linear_model import LogisticRegression\n",
    "from sklearn import metrics\n",
    "from sklearn.model_selection import cross_val_score"
   ]
  },
  {
   "cell_type": "code",
   "execution_count": 76,
   "metadata": {
    "collapsed": false
   },
   "outputs": [
    {
     "name": "stdout",
     "output_type": "stream",
     "text": [
      "             precision    recall  f1-score   support\n",
      "\n",
      "          1       0.67      0.78      0.72      1045\n",
      "          2       0.51      0.39      0.44      1003\n",
      "          3       0.67      0.71      0.69      1084\n",
      "\n",
      "avg / total       0.62      0.63      0.62      3132\n",
      "\n",
      "[[815 188  42]\n",
      " [280 391 332]\n",
      " [124 191 769]]\n"
     ]
    },
    {
     "ename": "TypeError",
     "evalue": "take_nd() got an unexpected keyword argument 'axis'",
     "output_type": "error",
     "traceback": [
      "\u001b[1;31m---------------------------------------------------------------------------\u001b[0m",
      "\u001b[1;31mTypeError\u001b[0m                                 Traceback (most recent call last)",
      "\u001b[1;32m<ipython-input-76-9489497d4b5a>\u001b[0m in \u001b[0;36m<module>\u001b[1;34m()\u001b[0m\n\u001b[0;32m      4\u001b[0m \u001b[0mprint\u001b[0m\u001b[1;33m(\u001b[0m\u001b[0mmetrics\u001b[0m\u001b[1;33m.\u001b[0m\u001b[0mconfusion_matrix\u001b[0m\u001b[1;33m(\u001b[0m\u001b[0mY\u001b[0m\u001b[1;33m,\u001b[0m \u001b[0mpredict_log\u001b[0m\u001b[1;33m)\u001b[0m\u001b[1;33m)\u001b[0m\u001b[1;33m\u001b[0m\u001b[0m\n\u001b[0;32m      5\u001b[0m \u001b[0mlog_fit2\u001b[0m \u001b[1;33m=\u001b[0m \u001b[0mLogisticRegression\u001b[0m\u001b[1;33m(\u001b[0m\u001b[1;33m)\u001b[0m\u001b[1;33m\u001b[0m\u001b[0m\n\u001b[1;32m----> 6\u001b[1;33m \u001b[0mprint\u001b[0m\u001b[1;33m(\u001b[0m\u001b[0mcross_val_score\u001b[0m\u001b[1;33m(\u001b[0m\u001b[0mlog_fit2\u001b[0m\u001b[1;33m,\u001b[0m \u001b[0mX\u001b[0m\u001b[1;33m,\u001b[0m \u001b[0mY\u001b[0m\u001b[1;33m,\u001b[0m\u001b[0mcv\u001b[0m\u001b[1;33m=\u001b[0m \u001b[1;36m3\u001b[0m\u001b[1;33m)\u001b[0m\u001b[1;33m.\u001b[0m\u001b[0mmean\u001b[0m\u001b[1;33m(\u001b[0m\u001b[1;33m)\u001b[0m\u001b[1;33m)\u001b[0m\u001b[1;33m\u001b[0m\u001b[0m\n\u001b[0m",
      "\u001b[1;32mC:\\Users\\board\\Anaconda3\\lib\\site-packages\\sklearn\\model_selection\\_validation.py\u001b[0m in \u001b[0;36mcross_val_score\u001b[1;34m(estimator, X, y, groups, scoring, cv, n_jobs, verbose, fit_params, pre_dispatch)\u001b[0m\n\u001b[0;32m    138\u001b[0m                                               \u001b[0mtrain\u001b[0m\u001b[1;33m,\u001b[0m \u001b[0mtest\u001b[0m\u001b[1;33m,\u001b[0m \u001b[0mverbose\u001b[0m\u001b[1;33m,\u001b[0m \u001b[1;32mNone\u001b[0m\u001b[1;33m,\u001b[0m\u001b[1;33m\u001b[0m\u001b[0m\n\u001b[0;32m    139\u001b[0m                                               fit_params)\n\u001b[1;32m--> 140\u001b[1;33m                       for train, test in cv.split(X, y, groups))\n\u001b[0m\u001b[0;32m    141\u001b[0m     \u001b[1;32mreturn\u001b[0m \u001b[0mnp\u001b[0m\u001b[1;33m.\u001b[0m\u001b[0marray\u001b[0m\u001b[1;33m(\u001b[0m\u001b[0mscores\u001b[0m\u001b[1;33m)\u001b[0m\u001b[1;33m[\u001b[0m\u001b[1;33m:\u001b[0m\u001b[1;33m,\u001b[0m \u001b[1;36m0\u001b[0m\u001b[1;33m]\u001b[0m\u001b[1;33m\u001b[0m\u001b[0m\n\u001b[0;32m    142\u001b[0m \u001b[1;33m\u001b[0m\u001b[0m\n",
      "\u001b[1;32mC:\\Users\\board\\Anaconda3\\lib\\site-packages\\sklearn\\externals\\joblib\\parallel.py\u001b[0m in \u001b[0;36m__call__\u001b[1;34m(self, iterable)\u001b[0m\n\u001b[0;32m    756\u001b[0m             \u001b[1;31m# was dispatched. In particular this covers the edge\u001b[0m\u001b[1;33m\u001b[0m\u001b[1;33m\u001b[0m\u001b[0m\n\u001b[0;32m    757\u001b[0m             \u001b[1;31m# case of Parallel used with an exhausted iterator.\u001b[0m\u001b[1;33m\u001b[0m\u001b[1;33m\u001b[0m\u001b[0m\n\u001b[1;32m--> 758\u001b[1;33m             \u001b[1;32mwhile\u001b[0m \u001b[0mself\u001b[0m\u001b[1;33m.\u001b[0m\u001b[0mdispatch_one_batch\u001b[0m\u001b[1;33m(\u001b[0m\u001b[0miterator\u001b[0m\u001b[1;33m)\u001b[0m\u001b[1;33m:\u001b[0m\u001b[1;33m\u001b[0m\u001b[0m\n\u001b[0m\u001b[0;32m    759\u001b[0m                 \u001b[0mself\u001b[0m\u001b[1;33m.\u001b[0m\u001b[0m_iterating\u001b[0m \u001b[1;33m=\u001b[0m \u001b[1;32mTrue\u001b[0m\u001b[1;33m\u001b[0m\u001b[0m\n\u001b[0;32m    760\u001b[0m             \u001b[1;32melse\u001b[0m\u001b[1;33m:\u001b[0m\u001b[1;33m\u001b[0m\u001b[0m\n",
      "\u001b[1;32mC:\\Users\\board\\Anaconda3\\lib\\site-packages\\sklearn\\externals\\joblib\\parallel.py\u001b[0m in \u001b[0;36mdispatch_one_batch\u001b[1;34m(self, iterator)\u001b[0m\n\u001b[0;32m    606\u001b[0m                 \u001b[1;32mreturn\u001b[0m \u001b[1;32mFalse\u001b[0m\u001b[1;33m\u001b[0m\u001b[0m\n\u001b[0;32m    607\u001b[0m             \u001b[1;32melse\u001b[0m\u001b[1;33m:\u001b[0m\u001b[1;33m\u001b[0m\u001b[0m\n\u001b[1;32m--> 608\u001b[1;33m                 \u001b[0mself\u001b[0m\u001b[1;33m.\u001b[0m\u001b[0m_dispatch\u001b[0m\u001b[1;33m(\u001b[0m\u001b[0mtasks\u001b[0m\u001b[1;33m)\u001b[0m\u001b[1;33m\u001b[0m\u001b[0m\n\u001b[0m\u001b[0;32m    609\u001b[0m                 \u001b[1;32mreturn\u001b[0m \u001b[1;32mTrue\u001b[0m\u001b[1;33m\u001b[0m\u001b[0m\n\u001b[0;32m    610\u001b[0m \u001b[1;33m\u001b[0m\u001b[0m\n",
      "\u001b[1;32mC:\\Users\\board\\Anaconda3\\lib\\site-packages\\sklearn\\externals\\joblib\\parallel.py\u001b[0m in \u001b[0;36m_dispatch\u001b[1;34m(self, batch)\u001b[0m\n\u001b[0;32m    569\u001b[0m         \u001b[0mdispatch_timestamp\u001b[0m \u001b[1;33m=\u001b[0m \u001b[0mtime\u001b[0m\u001b[1;33m.\u001b[0m\u001b[0mtime\u001b[0m\u001b[1;33m(\u001b[0m\u001b[1;33m)\u001b[0m\u001b[1;33m\u001b[0m\u001b[0m\n\u001b[0;32m    570\u001b[0m         \u001b[0mcb\u001b[0m \u001b[1;33m=\u001b[0m \u001b[0mBatchCompletionCallBack\u001b[0m\u001b[1;33m(\u001b[0m\u001b[0mdispatch_timestamp\u001b[0m\u001b[1;33m,\u001b[0m \u001b[0mlen\u001b[0m\u001b[1;33m(\u001b[0m\u001b[0mbatch\u001b[0m\u001b[1;33m)\u001b[0m\u001b[1;33m,\u001b[0m \u001b[0mself\u001b[0m\u001b[1;33m)\u001b[0m\u001b[1;33m\u001b[0m\u001b[0m\n\u001b[1;32m--> 571\u001b[1;33m         \u001b[0mjob\u001b[0m \u001b[1;33m=\u001b[0m \u001b[0mself\u001b[0m\u001b[1;33m.\u001b[0m\u001b[0m_backend\u001b[0m\u001b[1;33m.\u001b[0m\u001b[0mapply_async\u001b[0m\u001b[1;33m(\u001b[0m\u001b[0mbatch\u001b[0m\u001b[1;33m,\u001b[0m \u001b[0mcallback\u001b[0m\u001b[1;33m=\u001b[0m\u001b[0mcb\u001b[0m\u001b[1;33m)\u001b[0m\u001b[1;33m\u001b[0m\u001b[0m\n\u001b[0m\u001b[0;32m    572\u001b[0m         \u001b[0mself\u001b[0m\u001b[1;33m.\u001b[0m\u001b[0m_jobs\u001b[0m\u001b[1;33m.\u001b[0m\u001b[0mappend\u001b[0m\u001b[1;33m(\u001b[0m\u001b[0mjob\u001b[0m\u001b[1;33m)\u001b[0m\u001b[1;33m\u001b[0m\u001b[0m\n\u001b[0;32m    573\u001b[0m \u001b[1;33m\u001b[0m\u001b[0m\n",
      "\u001b[1;32mC:\\Users\\board\\Anaconda3\\lib\\site-packages\\sklearn\\externals\\joblib\\_parallel_backends.py\u001b[0m in \u001b[0;36mapply_async\u001b[1;34m(self, func, callback)\u001b[0m\n\u001b[0;32m    107\u001b[0m     \u001b[1;32mdef\u001b[0m \u001b[0mapply_async\u001b[0m\u001b[1;33m(\u001b[0m\u001b[0mself\u001b[0m\u001b[1;33m,\u001b[0m \u001b[0mfunc\u001b[0m\u001b[1;33m,\u001b[0m \u001b[0mcallback\u001b[0m\u001b[1;33m=\u001b[0m\u001b[1;32mNone\u001b[0m\u001b[1;33m)\u001b[0m\u001b[1;33m:\u001b[0m\u001b[1;33m\u001b[0m\u001b[0m\n\u001b[0;32m    108\u001b[0m         \u001b[1;34m\"\"\"Schedule a func to be run\"\"\"\u001b[0m\u001b[1;33m\u001b[0m\u001b[0m\n\u001b[1;32m--> 109\u001b[1;33m         \u001b[0mresult\u001b[0m \u001b[1;33m=\u001b[0m \u001b[0mImmediateResult\u001b[0m\u001b[1;33m(\u001b[0m\u001b[0mfunc\u001b[0m\u001b[1;33m)\u001b[0m\u001b[1;33m\u001b[0m\u001b[0m\n\u001b[0m\u001b[0;32m    110\u001b[0m         \u001b[1;32mif\u001b[0m \u001b[0mcallback\u001b[0m\u001b[1;33m:\u001b[0m\u001b[1;33m\u001b[0m\u001b[0m\n\u001b[0;32m    111\u001b[0m             \u001b[0mcallback\u001b[0m\u001b[1;33m(\u001b[0m\u001b[0mresult\u001b[0m\u001b[1;33m)\u001b[0m\u001b[1;33m\u001b[0m\u001b[0m\n",
      "\u001b[1;32mC:\\Users\\board\\Anaconda3\\lib\\site-packages\\sklearn\\externals\\joblib\\_parallel_backends.py\u001b[0m in \u001b[0;36m__init__\u001b[1;34m(self, batch)\u001b[0m\n\u001b[0;32m    320\u001b[0m         \u001b[1;31m# Don't delay the application, to avoid keeping the input\u001b[0m\u001b[1;33m\u001b[0m\u001b[1;33m\u001b[0m\u001b[0m\n\u001b[0;32m    321\u001b[0m         \u001b[1;31m# arguments in memory\u001b[0m\u001b[1;33m\u001b[0m\u001b[1;33m\u001b[0m\u001b[0m\n\u001b[1;32m--> 322\u001b[1;33m         \u001b[0mself\u001b[0m\u001b[1;33m.\u001b[0m\u001b[0mresults\u001b[0m \u001b[1;33m=\u001b[0m \u001b[0mbatch\u001b[0m\u001b[1;33m(\u001b[0m\u001b[1;33m)\u001b[0m\u001b[1;33m\u001b[0m\u001b[0m\n\u001b[0m\u001b[0;32m    323\u001b[0m \u001b[1;33m\u001b[0m\u001b[0m\n\u001b[0;32m    324\u001b[0m     \u001b[1;32mdef\u001b[0m \u001b[0mget\u001b[0m\u001b[1;33m(\u001b[0m\u001b[0mself\u001b[0m\u001b[1;33m)\u001b[0m\u001b[1;33m:\u001b[0m\u001b[1;33m\u001b[0m\u001b[0m\n",
      "\u001b[1;32mC:\\Users\\board\\Anaconda3\\lib\\site-packages\\sklearn\\externals\\joblib\\parallel.py\u001b[0m in \u001b[0;36m__call__\u001b[1;34m(self)\u001b[0m\n\u001b[0;32m    129\u001b[0m \u001b[1;33m\u001b[0m\u001b[0m\n\u001b[0;32m    130\u001b[0m     \u001b[1;32mdef\u001b[0m \u001b[0m__call__\u001b[0m\u001b[1;33m(\u001b[0m\u001b[0mself\u001b[0m\u001b[1;33m)\u001b[0m\u001b[1;33m:\u001b[0m\u001b[1;33m\u001b[0m\u001b[0m\n\u001b[1;32m--> 131\u001b[1;33m         \u001b[1;32mreturn\u001b[0m \u001b[1;33m[\u001b[0m\u001b[0mfunc\u001b[0m\u001b[1;33m(\u001b[0m\u001b[1;33m*\u001b[0m\u001b[0margs\u001b[0m\u001b[1;33m,\u001b[0m \u001b[1;33m**\u001b[0m\u001b[0mkwargs\u001b[0m\u001b[1;33m)\u001b[0m \u001b[1;32mfor\u001b[0m \u001b[0mfunc\u001b[0m\u001b[1;33m,\u001b[0m \u001b[0margs\u001b[0m\u001b[1;33m,\u001b[0m \u001b[0mkwargs\u001b[0m \u001b[1;32min\u001b[0m \u001b[0mself\u001b[0m\u001b[1;33m.\u001b[0m\u001b[0mitems\u001b[0m\u001b[1;33m]\u001b[0m\u001b[1;33m\u001b[0m\u001b[0m\n\u001b[0m\u001b[0;32m    132\u001b[0m \u001b[1;33m\u001b[0m\u001b[0m\n\u001b[0;32m    133\u001b[0m     \u001b[1;32mdef\u001b[0m \u001b[0m__len__\u001b[0m\u001b[1;33m(\u001b[0m\u001b[0mself\u001b[0m\u001b[1;33m)\u001b[0m\u001b[1;33m:\u001b[0m\u001b[1;33m\u001b[0m\u001b[0m\n",
      "\u001b[1;32mC:\\Users\\board\\Anaconda3\\lib\\site-packages\\sklearn\\externals\\joblib\\parallel.py\u001b[0m in \u001b[0;36m<listcomp>\u001b[1;34m(.0)\u001b[0m\n\u001b[0;32m    129\u001b[0m \u001b[1;33m\u001b[0m\u001b[0m\n\u001b[0;32m    130\u001b[0m     \u001b[1;32mdef\u001b[0m \u001b[0m__call__\u001b[0m\u001b[1;33m(\u001b[0m\u001b[0mself\u001b[0m\u001b[1;33m)\u001b[0m\u001b[1;33m:\u001b[0m\u001b[1;33m\u001b[0m\u001b[0m\n\u001b[1;32m--> 131\u001b[1;33m         \u001b[1;32mreturn\u001b[0m \u001b[1;33m[\u001b[0m\u001b[0mfunc\u001b[0m\u001b[1;33m(\u001b[0m\u001b[1;33m*\u001b[0m\u001b[0margs\u001b[0m\u001b[1;33m,\u001b[0m \u001b[1;33m**\u001b[0m\u001b[0mkwargs\u001b[0m\u001b[1;33m)\u001b[0m \u001b[1;32mfor\u001b[0m \u001b[0mfunc\u001b[0m\u001b[1;33m,\u001b[0m \u001b[0margs\u001b[0m\u001b[1;33m,\u001b[0m \u001b[0mkwargs\u001b[0m \u001b[1;32min\u001b[0m \u001b[0mself\u001b[0m\u001b[1;33m.\u001b[0m\u001b[0mitems\u001b[0m\u001b[1;33m]\u001b[0m\u001b[1;33m\u001b[0m\u001b[0m\n\u001b[0m\u001b[0;32m    132\u001b[0m \u001b[1;33m\u001b[0m\u001b[0m\n\u001b[0;32m    133\u001b[0m     \u001b[1;32mdef\u001b[0m \u001b[0m__len__\u001b[0m\u001b[1;33m(\u001b[0m\u001b[0mself\u001b[0m\u001b[1;33m)\u001b[0m\u001b[1;33m:\u001b[0m\u001b[1;33m\u001b[0m\u001b[0m\n",
      "\u001b[1;32mC:\\Users\\board\\Anaconda3\\lib\\site-packages\\sklearn\\model_selection\\_validation.py\u001b[0m in \u001b[0;36m_fit_and_score\u001b[1;34m(estimator, X, y, scorer, train, test, verbose, parameters, fit_params, return_train_score, return_parameters, return_n_test_samples, return_times, error_score)\u001b[0m\n\u001b[0;32m    229\u001b[0m     \u001b[0mstart_time\u001b[0m \u001b[1;33m=\u001b[0m \u001b[0mtime\u001b[0m\u001b[1;33m.\u001b[0m\u001b[0mtime\u001b[0m\u001b[1;33m(\u001b[0m\u001b[1;33m)\u001b[0m\u001b[1;33m\u001b[0m\u001b[0m\n\u001b[0;32m    230\u001b[0m \u001b[1;33m\u001b[0m\u001b[0m\n\u001b[1;32m--> 231\u001b[1;33m     \u001b[0mX_train\u001b[0m\u001b[1;33m,\u001b[0m \u001b[0my_train\u001b[0m \u001b[1;33m=\u001b[0m \u001b[0m_safe_split\u001b[0m\u001b[1;33m(\u001b[0m\u001b[0mestimator\u001b[0m\u001b[1;33m,\u001b[0m \u001b[0mX\u001b[0m\u001b[1;33m,\u001b[0m \u001b[0my\u001b[0m\u001b[1;33m,\u001b[0m \u001b[0mtrain\u001b[0m\u001b[1;33m)\u001b[0m\u001b[1;33m\u001b[0m\u001b[0m\n\u001b[0m\u001b[0;32m    232\u001b[0m     \u001b[0mX_test\u001b[0m\u001b[1;33m,\u001b[0m \u001b[0my_test\u001b[0m \u001b[1;33m=\u001b[0m \u001b[0m_safe_split\u001b[0m\u001b[1;33m(\u001b[0m\u001b[0mestimator\u001b[0m\u001b[1;33m,\u001b[0m \u001b[0mX\u001b[0m\u001b[1;33m,\u001b[0m \u001b[0my\u001b[0m\u001b[1;33m,\u001b[0m \u001b[0mtest\u001b[0m\u001b[1;33m,\u001b[0m \u001b[0mtrain\u001b[0m\u001b[1;33m)\u001b[0m\u001b[1;33m\u001b[0m\u001b[0m\n\u001b[0;32m    233\u001b[0m \u001b[1;33m\u001b[0m\u001b[0m\n",
      "\u001b[1;32mC:\\Users\\board\\Anaconda3\\lib\\site-packages\\sklearn\\utils\\metaestimators.py\u001b[0m in \u001b[0;36m_safe_split\u001b[1;34m(estimator, X, y, indices, train_indices)\u001b[0m\n\u001b[0;32m    109\u001b[0m \u001b[1;33m\u001b[0m\u001b[0m\n\u001b[0;32m    110\u001b[0m     \u001b[1;32mif\u001b[0m \u001b[0my\u001b[0m \u001b[1;32mis\u001b[0m \u001b[1;32mnot\u001b[0m \u001b[1;32mNone\u001b[0m\u001b[1;33m:\u001b[0m\u001b[1;33m\u001b[0m\u001b[0m\n\u001b[1;32m--> 111\u001b[1;33m         \u001b[0my_subset\u001b[0m \u001b[1;33m=\u001b[0m \u001b[0msafe_indexing\u001b[0m\u001b[1;33m(\u001b[0m\u001b[0my\u001b[0m\u001b[1;33m,\u001b[0m \u001b[0mindices\u001b[0m\u001b[1;33m)\u001b[0m\u001b[1;33m\u001b[0m\u001b[0m\n\u001b[0m\u001b[0;32m    112\u001b[0m     \u001b[1;32melse\u001b[0m\u001b[1;33m:\u001b[0m\u001b[1;33m\u001b[0m\u001b[0m\n\u001b[0;32m    113\u001b[0m         \u001b[0my_subset\u001b[0m \u001b[1;33m=\u001b[0m \u001b[1;32mNone\u001b[0m\u001b[1;33m\u001b[0m\u001b[0m\n",
      "\u001b[1;32mC:\\Users\\board\\Anaconda3\\lib\\site-packages\\sklearn\\utils\\__init__.py\u001b[0m in \u001b[0;36msafe_indexing\u001b[1;34m(X, indices)\u001b[0m\n\u001b[0;32m    108\u001b[0m                                    indices.dtype.kind == 'i'):\n\u001b[0;32m    109\u001b[0m             \u001b[1;31m# This is often substantially faster than X[indices]\u001b[0m\u001b[1;33m\u001b[0m\u001b[1;33m\u001b[0m\u001b[0m\n\u001b[1;32m--> 110\u001b[1;33m             \u001b[1;32mreturn\u001b[0m \u001b[0mX\u001b[0m\u001b[1;33m.\u001b[0m\u001b[0mtake\u001b[0m\u001b[1;33m(\u001b[0m\u001b[0mindices\u001b[0m\u001b[1;33m,\u001b[0m \u001b[0maxis\u001b[0m\u001b[1;33m=\u001b[0m\u001b[1;36m0\u001b[0m\u001b[1;33m)\u001b[0m\u001b[1;33m\u001b[0m\u001b[0m\n\u001b[0m\u001b[0;32m    111\u001b[0m         \u001b[1;32melse\u001b[0m\u001b[1;33m:\u001b[0m\u001b[1;33m\u001b[0m\u001b[0m\n\u001b[0;32m    112\u001b[0m             \u001b[1;32mreturn\u001b[0m \u001b[0mX\u001b[0m\u001b[1;33m[\u001b[0m\u001b[0mindices\u001b[0m\u001b[1;33m]\u001b[0m\u001b[1;33m\u001b[0m\u001b[0m\n",
      "\u001b[1;31mTypeError\u001b[0m: take_nd() got an unexpected keyword argument 'axis'"
     ]
    }
   ],
   "source": [
    "log_fit = LogisticRegression().fit(X,Y)\n",
    "predict_log = log_fit.predict(X)\n",
    "print(metrics.classification_report(Y,predict_log))\n",
    "print(metrics.confusion_matrix(Y, predict_log))\n",
    "log_fit2 = LogisticRegression()\n",
    "print(cross_val_score(log_fit, X, Y,cv= 3).mean())"
   ]
  },
  {
   "cell_type": "raw",
   "metadata": {
    "collapsed": false
   },
   "source": [
    "log_fit_pca = LogisticRegression().fit(pca_data1,Y)\n",
    "predict_log_pca = log_fit_pca.predict(pca_data1)\n",
    "print(metrics.classification_report(Y,predict_log_pca))\n",
    "print(metrics.confusion_matrix(Y, predict_log_pca))\n",
    "print(cross_val_score(log_fit_pca, pca_data1 ,Y,cv= 8).mean())"
   ]
  },
  {
   "cell_type": "raw",
   "metadata": {},
   "source": [
    "PCA regression has much lower score Cross Validation score of 54% \n",
    "Compared to regular regression CV score of 62% "
   ]
  },
  {
   "cell_type": "code",
   "execution_count": null,
   "metadata": {
    "collapsed": true
   },
   "outputs": [],
   "source": [
    "from sklearn.neighbors import KNeighborsClassifier\n",
    "from sklearn import preprocessing "
   ]
  },
  {
   "cell_type": "code",
   "execution_count": null,
   "metadata": {
    "collapsed": false
   },
   "outputs": [],
   "source": [
    "KNN = KNeighborsClassifier()\n",
    "KNN.fit(X,Y)\n",
    "predict_KNN = KNN.predict(X)"
   ]
  },
  {
   "cell_type": "code",
   "execution_count": null,
   "metadata": {
    "collapsed": false
   },
   "outputs": [],
   "source": [
    "print(metrics.classification_report(Y,predict_KNN))\n",
    "print(metrics.confusion_matrix(Y, predict_KNN))\n",
    "print(cross_val_score(KNN, X,Y,cv= 8).mean())"
   ]
  },
  {
   "cell_type": "raw",
   "metadata": {},
   "source": [
    "Model accuracy is 74% \n",
    "CV score is 61% "
   ]
  },
  {
   "cell_type": "raw",
   "metadata": {},
   "source": [
    "Let's do some parameter tuning for KNN "
   ]
  },
  {
   "cell_type": "code",
   "execution_count": null,
   "metadata": {
    "collapsed": false
   },
   "outputs": [],
   "source": [
    "\n",
    "KNN_parameter_tuning1 = pd.DataFrame(data = {'CV': 0,\n",
    "                                            'Num Neighbors':3}, index = range(1,3,1))\n",
    "j = 1 # index for number of loops \n",
    "for num_neighbors in range(3, 40, 1):\n",
    "    KNN_sample = KNeighborsClassifier(n_neighbors = num_neighbors)\n",
    "    CV = cross_val_score(KNN_sample, X,Y,cv= 8).mean()\n",
    "    KNN_parameter_tuning1.loc[j] = [CV, num_neighbors]\n",
    "    j = j+1 \n"
   ]
  },
  {
   "cell_type": "code",
   "execution_count": null,
   "metadata": {
    "collapsed": false
   },
   "outputs": [],
   "source": [
    "KNN_PT1_df = KNN_parameter_tuning1.sort_values(by = \"CV\", ascending= False )\n",
    "print(KNN_PT1_df.head(10), \"\\n \\n \", KNN_PT1_df.describe())"
   ]
  },
  {
   "cell_type": "code",
   "execution_count": null,
   "metadata": {
    "collapsed": false
   },
   "outputs": [],
   "source": [
    "import matplotlib.pyplot as plt\n",
    "%matplotlib inline\n",
    "plt.plot(KNN_PT1_df['Num Neighbors'], KNN_PT1_df['CV'], 'ro')"
   ]
  },
  {
   "cell_type": "raw",
   "metadata": {},
   "source": [
    "From inspection, it appears most of the highest cross validation results are after about 9 are essentially the same.\n",
    "When the number of neighbors is 23, it is highest. It's just due to change but still  "
   ]
  },
  {
   "cell_type": "raw",
   "metadata": {},
   "source": [
    "Let's try normalizing data before using in the KNN "
   ]
  },
  {
   "cell_type": "code",
   "execution_count": null,
   "metadata": {
    "collapsed": false
   },
   "outputs": [],
   "source": [
    "X1 = preprocessing.normalize(X)\n",
    "KNN1 = KNeighborsClassifier(n_neighbors=23)\n",
    "KNN1.fit(X1,Y)\n",
    "predict_KNN1 = KNN1.predict(X1)\n",
    "print(metrics.classification_report(Y,predict_KNN1))\n",
    "print(metrics.confusion_matrix(Y, predict_KNN1))\n",
    "print(cross_val_score(KNN1, X1,Y,cv= 8).mean())"
   ]
  },
  {
   "cell_type": "raw",
   "metadata": {},
   "source": [
    "The metrics are essentially the same. CV is slightly smaller but not by much. It is probably due to randomness\n",
    "The data was pretty closely scaled. Most of the data ranges were within 0,1 as can be seen when we initially looked at the data "
   ]
  },
  {
   "cell_type": "code",
   "execution_count": null,
   "metadata": {
    "collapsed": false
   },
   "outputs": [],
   "source": [
    "#X.describe()"
   ]
  },
  {
   "cell_type": "code",
   "execution_count": null,
   "metadata": {
    "collapsed": true
   },
   "outputs": [],
   "source": [
    "from sklearn.ensemble import RandomForestClassifier\n",
    "from sklearn.model_selection import cross_val_score"
   ]
  },
  {
   "cell_type": "code",
   "execution_count": null,
   "metadata": {
    "collapsed": false
   },
   "outputs": [],
   "source": [
    "RF = RandomForestClassifier(random_state=1)\n",
    "RF.fit(X,Y)\n",
    "predict_RF = RF.predict(X)"
   ]
  },
  {
   "cell_type": "code",
   "execution_count": null,
   "metadata": {
    "collapsed": false
   },
   "outputs": [],
   "source": [
    "print(metrics.classification_report(Y,predict_RF))\n",
    "print(metrics.confusion_matrix(Y, predict_RF))\n",
    "print(cross_val_score(RF, X,Y,cv= 5).mean())"
   ]
  },
  {
   "cell_type": "raw",
   "metadata": {},
   "source": [
    "I think the tree is too deep and over fitting \n",
    "I am suspicious of that 98% "
   ]
  },
  {
   "cell_type": "raw",
   "metadata": {},
   "source": [
    "Try cross using cross validation to find optimal number of trees at split \n",
    "\n",
    "Try playing with parameters in RF  \n",
    "\n",
    "to uncomment batch, press ctrl + / \n",
    "If not, read in file that has results from large simulation with 3200 RF parameters "
   ]
  },
  {
   "cell_type": "code",
   "execution_count": null,
   "metadata": {
    "collapsed": true
   },
   "outputs": [],
   "source": [
    "# index = range(1,5)\n",
    "# Parameter_df1 = pd.DataFrame({\"Numb Features\" : 0.1 , \"Numb Trees\": 0.2, \"Min Leaf Size\":0.2, \"Node Split\": 0.3,\"CV\":0.4},\n",
    "#                             index= index)\n",
    "\n",
    "# i = 1 # Track number of iterations and for indexing information \n",
    "# for num_est in range(4,12,1):\n",
    "#     for num_feat in range(1,(len(X.columns)-1)):\n",
    "#         for min_leaf in range(1,20,4):\n",
    "#             for min_split in range(2,102,10):\n",
    "#                 RF_PT = RandomForestClassifier(n_estimators = num_est, max_features = num_feat, min_samples_split= min_split\n",
    "#                                            ,min_samples_leaf = min_leaf, random_state=1)\n",
    "#                 # RF_PT.fit(X,Y)\n",
    "#                 # predict_RF_PT1 = RF_PT.predict(X)\n",
    "#                 CV = cross_val_score(RF_PT, X,Y,cv= 5).mean()\n",
    "#                 Parameter_df1.loc[i] = [CV, min_leaf, min_split, num_feat, num_est]\n",
    "#                 [num_feat, num_est, min_leaf, min_split ,CV]\n",
    "#                 i = i+1\n",
    "# Parameter_df1.to_csv(\"RF_Parameter.csv\")"
   ]
  },
  {
   "cell_type": "code",
   "execution_count": null,
   "metadata": {
    "collapsed": false
   },
   "outputs": [],
   "source": [
    "Parameter_df1 = pd.read_csv(\"RF_Parameter.csv\")"
   ]
  },
  {
   "cell_type": "code",
   "execution_count": null,
   "metadata": {
    "collapsed": false
   },
   "outputs": [],
   "source": [
    "len(Parameter_df1)\n",
    "Parameter_df2 = Parameter_df1.sort_values(by = \"CV\", ascending = False)\n",
    "print(Parameter_df2.head(20), \"\\n \\n \", Parameter_df2.describe())"
   ]
  },
  {
   "cell_type": "code",
   "execution_count": null,
   "metadata": {
    "collapsed": false
   },
   "outputs": [],
   "source": [
    "Parameter_df2.head()"
   ]
  },
  {
   "cell_type": "raw",
   "metadata": {},
   "source": [
    "Let's run an analysis on the data we generated from modifying the Random forest parameters "
   ]
  },
  {
   "cell_type": "code",
   "execution_count": null,
   "metadata": {
    "collapsed": true
   },
   "outputs": [],
   "source": [
    "from sklearn.linear_model import LinearRegression "
   ]
  },
  {
   "cell_type": "code",
   "execution_count": null,
   "metadata": {
    "collapsed": false
   },
   "outputs": [],
   "source": [
    "X_RF = Parameter_df1.drop('CV',1)\n",
    "Y_RF = Parameter_df1['CV']"
   ]
  },
  {
   "cell_type": "code",
   "execution_count": null,
   "metadata": {
    "collapsed": false
   },
   "outputs": [],
   "source": [
    "RF_Linear_regression = LinearRegression()\n",
    "RF_Linear_regression.fit(X_RF,Y_RF)\n"
   ]
  },
  {
   "cell_type": "code",
   "execution_count": null,
   "metadata": {
    "collapsed": false
   },
   "outputs": [],
   "source": [
    "import statsmodels.api as sm \n",
    "SM_OLS = sm.OLS(Y_RF, X_RF)\n",
    "SM_fit = SM_OLS.fit()\n",
    "print(SM_fit.summary())"
   ]
  },
  {
   "cell_type": "code",
   "execution_count": null,
   "metadata": {
    "collapsed": false
   },
   "outputs": [],
   "source": [
    "fig_size = plt.rcParams[\"figure.figsize\"]\n",
    "print(\"Current size: \", fig_size)\n",
    "plt.rcParams[\"figure.figsize\"] = [24,16]"
   ]
  },
  {
   "cell_type": "code",
   "execution_count": null,
   "metadata": {
    "collapsed": false,
    "scrolled": false
   },
   "outputs": [],
   "source": [
    "scat_plot = pd.tools.plotting.scatter_matrix(Parameter_df2, alpha = 0.2)\n",
    "plt.tight_layout()\n",
    "plt.savefig('scatter.png')"
   ]
  },
  {
   "cell_type": "code",
   "execution_count": null,
   "metadata": {
    "collapsed": false
   },
   "outputs": [],
   "source": [
    "# hist1 = \n",
    "plt.hist(Parameter_df2[\"CV\"], bins = 30)\n",
    "std = np.std(Parameter_df2[\"CV\"])\n",
    "x_pt = max(Parameter_df2[\"CV\"]) - 2*std \n",
    "plt.axvline(x = x_pt, linewidth = 7, color = 'g' )"
   ]
  },
  {
   "cell_type": "raw",
   "metadata": {},
   "source": [
    "Almost looks normal... \n",
    "To choose the best parameters, I will take the top standard deviation of the best CV results \n",
    "then use the mean/median (?) as the best "
   ]
  },
  {
   "cell_type": "code",
   "execution_count": null,
   "metadata": {
    "collapsed": false
   },
   "outputs": [],
   "source": [
    "best_cvs = Parameter_df2[Parameter_df2.CV > (max(Parameter_df2[\"CV\"]) - std )]\n",
    "best_cvs.describe()"
   ]
  },
  {
   "cell_type": "raw",
   "metadata": {},
   "source": [
    "Let's try another dimensionality reduction technique  "
   ]
  },
  {
   "cell_type": "code",
   "execution_count": null,
   "metadata": {
    "collapsed": false
   },
   "outputs": [],
   "source": [
    "from sklearn.discriminant_analysis import LinearDiscriminantAnalysis"
   ]
  },
  {
   "cell_type": "code",
   "execution_count": null,
   "metadata": {
    "collapsed": false
   },
   "outputs": [],
   "source": [
    "lda = LinearDiscriminantAnalysis()\n",
    "lda.fit(X,Y)\n",
    "lda_predict = lda.predict(X)\n",
    "print(metrics.classification_report(Y,lda_predict))\n",
    "print(metrics.confusion_matrix(Y, lda_predict))\n",
    "cross_val_score(lda,X,Y, cv = 5).mean()\n"
   ]
  },
  {
   "cell_type": "code",
   "execution_count": null,
   "metadata": {
    "collapsed": false
   },
   "outputs": [],
   "source": [
    "lda.explained_variance_ratio_"
   ]
  },
  {
   "cell_type": "code",
   "execution_count": null,
   "metadata": {
    "collapsed": false
   },
   "outputs": [],
   "source": [
    "from sklearn.neural_network import MLPClassifier"
   ]
  },
  {
   "cell_type": "code",
   "execution_count": null,
   "metadata": {
    "collapsed": false
   },
   "outputs": [],
   "source": [
    "NN1 = MLPClassifier()\n",
    "NN1.fit(X,Y)\n",
    "NN1_predict = NN1.predict(X)\n",
    "print(metrics.classification_report(Y,NN1_predict))\n",
    "print(metrics.confusion_matrix(Y, NN1_predict))\n",
    "print(cross_val_score(NN1, X,Y,cv= 5).mean())"
   ]
  },
  {
   "cell_type": "raw",
   "metadata": {},
   "source": [
    "Lets try ensembling with a Voting Classifier"
   ]
  },
  {
   "cell_type": "code",
   "execution_count": null,
   "metadata": {
    "collapsed": true
   },
   "outputs": [],
   "source": [
    "from sklearn.ensemble import VotingClassifier"
   ]
  },
  {
   "cell_type": "code",
   "execution_count": null,
   "metadata": {
    "collapsed": false
   },
   "outputs": [],
   "source": [
    "eclf1 = VotingClassifier(estimators = [('lr', log_fit), ('rf', RF), ('knn', KNN), ('nn', NN1), ('lda',lda)], voting = 'hard')\n",
    "eclf2 = VotingClassifier(estimators = [('lr', log_fit), ('rf', RF), ('knn', KNN), ('nn', NN1), ('lda',lda)], voting = 'soft')\n",
    "\n",
    "eclf1.fit(X,Y)\n",
    "eclf2.fit(X,Y)"
   ]
  },
  {
   "cell_type": "code",
   "execution_count": null,
   "metadata": {
    "collapsed": false
   },
   "outputs": [],
   "source": [
    "eclf1_predict = eclf1.predict(X)\n",
    "eclf2_predict = eclf2.predict(X)\n",
    "\n",
    "print(metrics.classification_report(Y,eclf1_predict))\n",
    "print(metrics.confusion_matrix(Y, eclf1_predict))\n",
    "print(cross_val_score(eclf1, X,Y,cv= 5).mean())\n",
    "\n",
    "print(metrics.classification_report(Y,eclf2_predict))\n",
    "print(metrics.confusion_matrix(Y, eclf2_predict))\n",
    "print(cross_val_score(eclf2, X,Y,cv= 5).mean())"
   ]
  },
  {
   "cell_type": "raw",
   "metadata": {
    "collapsed": false
   },
   "source": [
    "Using optimal classifiers from tuned parameters above "
   ]
  },
  {
   "cell_type": "code",
   "execution_count": null,
   "metadata": {
    "collapsed": false
   },
   "outputs": [],
   "source": [
    "KNN_PT = KNeighborsClassifier (n_neighbors = 20)\n",
    "#RF_PT = RandomForestClassifier(n_estimators=10, max_features=4, min_samples_split=60, min_samples_leaf=14)\n",
    "RF_PT = RandomForestClassifier(n_estimators=9, max_features=5, min_samples_split=72, min_samples_leaf=13)\n",
    "\n",
    "eclf1_o = VotingClassifier(estimators = [('lr', log_fit) ,('rf', RF_PT), ('knn', KNN_PT), \n",
    "                                       ('nn', NN1), ('lda',lda)], voting = 'hard')\n",
    "eclf2_o = VotingClassifier(estimators = [('lr', log_fit), ('rf', RF_PT), ('knn', KNN_PT), \n",
    "                                       ('nn', NN1), ('lda',lda)], voting = 'soft')\n",
    "\n",
    "print(cross_val_score(eclf1_o, X,Y,cv= 5).mean())\n",
    "print(cross_val_score(eclf2_o, X,Y,cv= 5).mean())\n"
   ]
  },
  {
   "cell_type": "raw",
   "metadata": {
    "collapsed": true
   },
   "source": []
  },
  {
   "cell_type": "code",
   "execution_count": null,
   "metadata": {
    "collapsed": true
   },
   "outputs": [],
   "source": []
  }
 ],
 "metadata": {
  "anaconda-cloud": {},
  "kernelspec": {
   "display_name": "Python [Root]",
   "language": "python",
   "name": "Python [Root]"
  },
  "language_info": {
   "codemirror_mode": {
    "name": "ipython",
    "version": 3
   },
   "file_extension": ".py",
   "mimetype": "text/x-python",
   "name": "python",
   "nbconvert_exporter": "python",
   "pygments_lexer": "ipython3",
   "version": "3.5.2"
  }
 },
 "nbformat": 4,
 "nbformat_minor": 0
}
